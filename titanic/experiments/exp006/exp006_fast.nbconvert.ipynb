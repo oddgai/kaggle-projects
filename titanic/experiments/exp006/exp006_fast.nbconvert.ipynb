{
 "cells": [
  {
   "cell_type": "markdown",
   "metadata": {},
   "source": [
    "# exp006 - 「Less is More」による精密最適化（高速版）\n",
    "\n",
    "exp005の失敗を受けて、シンプル化と効率的な最適化による改善を目指す"
   ]
  },
  {
   "cell_type": "code",
   "execution_count": 1,
   "metadata": {
    "execution": {
     "iopub.execute_input": "2025-08-26T06:30:23.885326Z",
     "iopub.status.busy": "2025-08-26T06:30:23.885185Z",
     "iopub.status.idle": "2025-08-26T06:30:24.567349Z",
     "shell.execute_reply": "2025-08-26T06:30:24.566993Z"
    }
   },
   "outputs": [
    {
     "name": "stdout",
     "output_type": "stream",
     "text": [
      "🎯 exp006 - Less is More戦略（高速版）\n",
      "Train shape: (891, 12)\n",
      "Test shape: (418, 11)\n"
     ]
    }
   ],
   "source": [
    "import pandas as pd\n",
    "import numpy as np\n",
    "import matplotlib.pyplot as plt\n",
    "import seaborn as sns\n",
    "import japanize_matplotlib\n",
    "import warnings\n",
    "warnings.filterwarnings('ignore')\n",
    "\n",
    "import lightgbm as lgb\n",
    "import optuna\n",
    "from sklearn.model_selection import StratifiedKFold\n",
    "from sklearn.metrics import accuracy_score\n",
    "from sklearn.preprocessing import LabelEncoder\n",
    "\n",
    "plt.rcParams['font.family'] = 'IPAexGothic'\n",
    "\n",
    "print(\"🎯 exp006 - Less is More戦略（高速版）\")\n",
    "\n",
    "# データ読み込み\n",
    "train_df = pd.read_csv('/Users/koki.ogai/Documents/ghq/github.com/oddgai/kaggle-projects/titanic/data/train.csv')\n",
    "test_df = pd.read_csv('/Users/koki.ogai/Documents/ghq/github.com/oddgai/kaggle-projects/titanic/data/test.csv')\n",
    "\n",
    "print(f\"Train shape: {train_df.shape}\")\n",
    "print(f\"Test shape: {test_df.shape}\")"
   ]
  },
  {
   "cell_type": "code",
   "execution_count": 2,
   "metadata": {
    "execution": {
     "iopub.execute_input": "2025-08-26T06:30:24.580287Z",
     "iopub.status.busy": "2025-08-26T06:30:24.580187Z",
     "iopub.status.idle": "2025-08-26T06:30:24.619760Z",
     "shell.execute_reply": "2025-08-26T06:30:24.619547Z"
    }
   },
   "outputs": [
    {
     "name": "stdout",
     "output_type": "stream",
     "text": [
      "特徴量エンジニアリング完了\n"
     ]
    }
   ],
   "source": [
    "# exp004特徴量エンジニアリング（簡略版）\n",
    "def create_features(df):\n",
    "    df = df.copy()\n",
    "    \n",
    "    # 名前からの特徴量\n",
    "    df['Title'] = df['Name'].str.extract(r' ([A-Za-z]+)\\.')\n",
    "    title_mapping = {\n",
    "        'Mr': 'Mr', 'Mrs': 'Mrs', 'Miss': 'Miss', 'Master': 'Master',\n",
    "        'Dr': 'Rare', 'Rev': 'Rare', 'Col': 'Rare', 'Major': 'Rare',\n",
    "        'Mlle': 'Miss', 'Countess': 'Rare', 'Ms': 'Mrs', 'Lady': 'Rare',\n",
    "        'Jonkheer': 'Rare', 'Don': 'Rare', 'Dona': 'Rare', 'Mme': 'Mrs',\n",
    "        'Capt': 'Rare', 'Sir': 'Rare'\n",
    "    }\n",
    "    df['Title_Grouped'] = df['Title'].map(title_mapping).fillna('Other')\n",
    "    \n",
    "    # 苗字と家族サイズ\n",
    "    df['Surname'] = df['Name'].str.split(',').str[0]\n",
    "    all_surnames = pd.concat([train_df['Name'], test_df['Name']]).str.split(',').str[0]\n",
    "    surname_counts = all_surnames.value_counts()\n",
    "    df['Surname_Count'] = df['Surname'].map(surname_counts)\n",
    "    \n",
    "    # チケット・客室特徴量\n",
    "    df['Ticket_IsNumeric'] = df['Ticket'].str.isnumeric().astype(int)\n",
    "    all_tickets = pd.concat([train_df['Ticket'], test_df['Ticket']])\n",
    "    ticket_counts = all_tickets.value_counts()\n",
    "    df['Ticket_Count'] = df['Ticket'].map(ticket_counts)\n",
    "    \n",
    "    df['HasCabin'] = (~df['Cabin'].isnull()).astype(int)\n",
    "    \n",
    "    # 基本前処理\n",
    "    df['Sex_Binary'] = df['Sex'].map({'female': 0, 'male': 1})\n",
    "    df['Age'] = df.groupby(['Sex', 'Pclass'])['Age'].transform(lambda x: x.fillna(x.median()))\n",
    "    df['Fare'] = df.groupby('Pclass')['Fare'].transform(lambda x: x.fillna(x.median()))\n",
    "    df['Embarked'] = df['Embarked'].fillna('S')\n",
    "    \n",
    "    # 家族構成\n",
    "    df['FamilySize'] = df['SibSp'] + df['Parch'] + 1\n",
    "    df['IsAlone'] = (df['FamilySize'] == 1).astype(int)\n",
    "    \n",
    "    # 交互作用\n",
    "    df['Sex_Pclass'] = df['Sex_Binary'] * df['Pclass']\n",
    "    df['Age_Fare_Interaction'] = df['Age'] * df['Fare']\n",
    "    \n",
    "    # 統計特徴量\n",
    "    df['Age_Rank_SexPclass'] = df.groupby(['Sex_Binary', 'Pclass'])['Age'].rank(pct=True)\n",
    "    df['Fare_Rank_Pclass'] = df.groupby('Pclass')['Fare'].rank(pct=True)\n",
    "    \n",
    "    return df\n",
    "\n",
    "# 特徴量作成\n",
    "train_processed = create_features(train_df)\n",
    "test_processed = create_features(test_df)\n",
    "\n",
    "# カテゴリカルエンコーディング\n",
    "for feature in ['Embarked', 'Title_Grouped']:\n",
    "    le = LabelEncoder()\n",
    "    all_categories = pd.concat([train_processed[feature], test_processed[feature]]).astype(str)\n",
    "    le.fit(all_categories)\n",
    "    \n",
    "    train_processed[feature] = le.transform(train_processed[feature].astype(str))\n",
    "    test_processed[feature] = le.transform(test_processed[feature].astype(str))\n",
    "\n",
    "print(\"特徴量エンジニアリング完了\")"
   ]
  },
  {
   "cell_type": "code",
   "execution_count": 3,
   "metadata": {
    "execution": {
     "iopub.execute_input": "2025-08-26T06:30:24.620785Z",
     "iopub.status.busy": "2025-08-26T06:30:24.620722Z",
     "iopub.status.idle": "2025-08-26T06:30:25.204851Z",
     "shell.execute_reply": "2025-08-26T06:30:25.204575Z"
    }
   },
   "outputs": [
    {
     "name": "stdout",
     "output_type": "stream",
     "text": [
      "候補特徴量: 18個\n"
     ]
    },
    {
     "name": "stdout",
     "output_type": "stream",
     "text": [
      "\n",
      "重要度ランキング:\n",
      " 1. Age_Fare_Interaction: 561.0000\n",
      " 2. Age_Rank_SexPclass  : 484.0000\n",
      " 3. Fare_Rank_Pclass    : 478.0000\n",
      " 4. Fare                : 374.0000\n",
      " 5. Age                 : 365.0000\n",
      " 6. Surname_Count       : 143.0000\n",
      " 7. Title_Grouped       :  77.0000\n",
      " 8. Ticket_IsNumeric    :  76.0000\n",
      " 9. Ticket_Count        :  76.0000\n",
      "10. Embarked            :  66.0000\n",
      "11. FamilySize          :  63.0000\n",
      "12. Sex_Binary          :  58.0000\n",
      "13. SibSp               :  51.0000\n",
      "14. Pclass              :  45.0000\n",
      "15. HasCabin            :  42.0000\n",
      "\n",
      "選択特徴量: 15個\n"
     ]
    }
   ],
   "source": [
    "# 重要度ベース特徴量選択\n",
    "exclude_features = ['PassengerId', 'Name', 'Ticket', 'Cabin', 'Survived', 'Surname', 'Title', 'Sex']\n",
    "candidate_features = [col for col in train_processed.columns \n",
    "                     if col not in exclude_features and \n",
    "                     train_processed[col].dtype in ['int64', 'float64', 'int32', 'float32']]\n",
    "\n",
    "X_full = train_processed[candidate_features]\n",
    "y = train_processed['Survived']\n",
    "X_test_full = test_processed[candidate_features]\n",
    "\n",
    "print(f\"候補特徴量: {len(candidate_features)}個\")\n",
    "\n",
    "# 重要度取得（簡易版）\n",
    "lgb_simple = lgb.LGBMClassifier(random_state=42, verbose=-1, n_estimators=100)\n",
    "lgb_simple.fit(X_full, y)\n",
    "importance_scores = lgb_simple.feature_importances_\n",
    "\n",
    "importance_df = pd.DataFrame({\n",
    "    'feature': candidate_features,\n",
    "    'importance': importance_scores\n",
    "}).sort_values('importance', ascending=False)\n",
    "\n",
    "print(\"\\n重要度ランキング:\")\n",
    "for i, row in importance_df.head(15).iterrows():\n",
    "    print(f\"{importance_df.index.get_loc(i)+1:2d}. {row['feature']:20s}: {row['importance']:8.4f}\")\n",
    "\n",
    "# 最適特徴量セット決定（重要度上位15個）\n",
    "optimal_features = importance_df.head(15)['feature'].tolist()\n",
    "print(f\"\\n選択特徴量: {len(optimal_features)}個\")\n",
    "\n",
    "X_optimal = X_full[optimal_features]\n",
    "X_test_optimal = X_test_full[optimal_features]"
   ]
  },
  {
   "cell_type": "code",
   "execution_count": 4,
   "metadata": {
    "execution": {
     "iopub.execute_input": "2025-08-26T06:30:25.205972Z",
     "iopub.status.busy": "2025-08-26T06:30:25.205879Z",
     "iopub.status.idle": "2025-08-26T06:30:51.246771Z",
     "shell.execute_reply": "2025-08-26T06:30:51.246504Z"
    }
   },
   "outputs": [
    {
     "name": "stderr",
     "output_type": "stream",
     "text": [
      "[I 2025-08-26 15:30:25,207] A new study created in memory with name: no-name-f4ab54c6-5e42-4aad-9311-5237033e1f66\n"
     ]
    },
    {
     "name": "stdout",
     "output_type": "stream",
     "text": [
      "\n",
      "Optuna最適化開始（30回試行）...\n"
     ]
    },
    {
     "data": {
      "application/vnd.jupyter.widget-view+json": {
       "model_id": "2f5caee1e05a43f4bc02aea037c39a57",
       "version_major": 2,
       "version_minor": 0
      },
      "text/plain": [
       "  0%|          | 0/30 [00:00<?, ?it/s]"
      ]
     },
     "metadata": {},
     "output_type": "display_data"
    },
    {
     "name": "stdout",
     "output_type": "stream",
     "text": [
      "Training until validation scores don't improve for 50 rounds\n"
     ]
    },
    {
     "name": "stdout",
     "output_type": "stream",
     "text": [
      "Early stopping, best iteration is:\n",
      "[25]\tvalid_0's binary_logloss: 0.376761\n",
      "Training until validation scores don't improve for 50 rounds\n"
     ]
    },
    {
     "name": "stdout",
     "output_type": "stream",
     "text": [
      "Early stopping, best iteration is:\n",
      "[20]\tvalid_0's binary_logloss: 0.413316\n",
      "Training until validation scores don't improve for 50 rounds\n"
     ]
    },
    {
     "name": "stdout",
     "output_type": "stream",
     "text": [
      "Early stopping, best iteration is:\n",
      "[19]\tvalid_0's binary_logloss: 0.378139\n",
      "[I 2025-08-26 15:30:26,024] Trial 0 finished with value: 0.8529741863075196 and parameters: {'num_leaves': 28, 'learning_rate': 0.14507143064099162, 'feature_fraction': 0.8927975767245621, 'bagging_fraction': 0.8394633936788146, 'reg_alpha': 0.15601864044243652, 'reg_lambda': 0.15599452033620265}. Best is trial 0 with value: 0.8529741863075196.\n",
      "Training until validation scores don't improve for 50 rounds\n"
     ]
    },
    {
     "name": "stdout",
     "output_type": "stream",
     "text": [
      "Early stopping, best iteration is:\n",
      "[34]\tvalid_0's binary_logloss: 0.370413\n",
      "Training until validation scores don't improve for 50 rounds\n"
     ]
    },
    {
     "name": "stdout",
     "output_type": "stream",
     "text": [
      "Early stopping, best iteration is:\n",
      "[22]\tvalid_0's binary_logloss: 0.417518\n",
      "Training until validation scores don't improve for 50 rounds\n"
     ]
    },
    {
     "name": "stdout",
     "output_type": "stream",
     "text": [
      "Early stopping, best iteration is:\n",
      "[24]\tvalid_0's binary_logloss: 0.382178\n",
      "[I 2025-08-26 15:30:26,725] Trial 1 finished with value: 0.8529741863075196 and parameters: {'num_leaves': 17, 'learning_rate': 0.13661761457749352, 'feature_fraction': 0.8404460046972835, 'bagging_fraction': 0.8832290311184182, 'reg_alpha': 0.020584494295802447, 'reg_lambda': 0.9699098521619943}. Best is trial 0 with value: 0.8529741863075196.\n",
      "Training until validation scores don't improve for 50 rounds\n"
     ]
    },
    {
     "name": "stdout",
     "output_type": "stream",
     "text": [
      "Early stopping, best iteration is:\n",
      "[53]\tvalid_0's binary_logloss: 0.378024\n",
      "Training until validation scores don't improve for 50 rounds\n"
     ]
    },
    {
     "name": "stdout",
     "output_type": "stream",
     "text": [
      "Early stopping, best iteration is:\n",
      "[45]\tvalid_0's binary_logloss: 0.409573\n",
      "Training until validation scores don't improve for 50 rounds\n"
     ]
    },
    {
     "name": "stdout",
     "output_type": "stream",
     "text": [
      "Early stopping, best iteration is:\n",
      "[47]\tvalid_0's binary_logloss: 0.387135\n",
      "[I 2025-08-26 15:30:27,741] Trial 2 finished with value: 0.850729517396184 and parameters: {'num_leaves': 44, 'learning_rate': 0.07123391106782762, 'feature_fraction': 0.6727299868828402, 'bagging_fraction': 0.6733618039413735, 'reg_alpha': 0.3042422429595377, 'reg_lambda': 0.5247564316322378}. Best is trial 0 with value: 0.8529741863075196.\n",
      "Training until validation scores don't improve for 50 rounds\n"
     ]
    },
    {
     "name": "stdout",
     "output_type": "stream",
     "text": [
      "Early stopping, best iteration is:\n",
      "[44]\tvalid_0's binary_logloss: 0.37786\n",
      "Training until validation scores don't improve for 50 rounds\n"
     ]
    },
    {
     "name": "stdout",
     "output_type": "stream",
     "text": [
      "Early stopping, best iteration is:\n",
      "[34]\tvalid_0's binary_logloss: 0.417392\n",
      "Training until validation scores don't improve for 50 rounds\n"
     ]
    },
    {
     "name": "stdout",
     "output_type": "stream",
     "text": [
      "Early stopping, best iteration is:\n",
      "[45]\tvalid_0's binary_logloss: 0.384334\n",
      "[I 2025-08-26 15:30:28,704] Trial 3 finished with value: 0.8451178451178452 and parameters: {'num_leaves': 30, 'learning_rate': 0.07912291401980419, 'feature_fraction': 0.8447411578889518, 'bagging_fraction': 0.6557975442608167, 'reg_alpha': 0.29214464853521815, 'reg_lambda': 0.3663618432936917}. Best is trial 0 with value: 0.8529741863075196.\n",
      "Training until validation scores don't improve for 50 rounds\n"
     ]
    },
    {
     "name": "stdout",
     "output_type": "stream",
     "text": [
      "Early stopping, best iteration is:\n",
      "[24]\tvalid_0's binary_logloss: 0.379989\n",
      "Training until validation scores don't improve for 50 rounds\n"
     ]
    },
    {
     "name": "stdout",
     "output_type": "stream",
     "text": [
      "Early stopping, best iteration is:\n",
      "[26]\tvalid_0's binary_logloss: 0.412379\n",
      "Training until validation scores don't improve for 50 rounds\n"
     ]
    },
    {
     "name": "stdout",
     "output_type": "stream",
     "text": [
      "Early stopping, best iteration is:\n",
      "[26]\tvalid_0's binary_logloss: 0.385549\n",
      "[I 2025-08-26 15:30:29,495] Trial 4 finished with value: 0.8484848484848485 and parameters: {'num_leaves': 31, 'learning_rate': 0.12851759613930136, 'feature_fraction': 0.6798695128633439, 'bagging_fraction': 0.8056937753654446, 'reg_alpha': 0.5924145688620425, 'reg_lambda': 0.046450412719997725}. Best is trial 0 with value: 0.8529741863075196.\n",
      "Training until validation scores don't improve for 50 rounds\n"
     ]
    },
    {
     "name": "stdout",
     "output_type": "stream",
     "text": [
      "Early stopping, best iteration is:\n",
      "[65]\tvalid_0's binary_logloss: 0.378504\n",
      "Training until validation scores don't improve for 50 rounds\n"
     ]
    },
    {
     "name": "stdout",
     "output_type": "stream",
     "text": [
      "Early stopping, best iteration is:\n",
      "[52]\tvalid_0's binary_logloss: 0.412392\n",
      "Training until validation scores don't improve for 50 rounds\n"
     ]
    },
    {
     "name": "stdout",
     "output_type": "stream",
     "text": [
      "Early stopping, best iteration is:\n",
      "[85]\tvalid_0's binary_logloss: 0.386036\n",
      "[I 2025-08-26 15:30:30,642] Trial 5 finished with value: 0.8439955106621774 and parameters: {'num_leaves': 36, 'learning_rate': 0.06705241236872915, 'feature_fraction': 0.6260206371941118, 'bagging_fraction': 0.9795542149013333, 'reg_alpha': 0.9656320330745594, 'reg_lambda': 0.8083973481164611}. Best is trial 0 with value: 0.8529741863075196.\n",
      "Training until validation scores don't improve for 50 rounds\n"
     ]
    },
    {
     "name": "stdout",
     "output_type": "stream",
     "text": [
      "Early stopping, best iteration is:\n",
      "[65]\tvalid_0's binary_logloss: 0.377392\n",
      "Training until validation scores don't improve for 50 rounds\n"
     ]
    },
    {
     "name": "stdout",
     "output_type": "stream",
     "text": [
      "Early stopping, best iteration is:\n",
      "[45]\tvalid_0's binary_logloss: 0.4153\n",
      "Training until validation scores don't improve for 50 rounds\n"
     ]
    },
    {
     "name": "stdout",
     "output_type": "stream",
     "text": [
      "Early stopping, best iteration is:\n",
      "[48]\tvalid_0's binary_logloss: 0.38583\n",
      "[I 2025-08-26 15:30:31,750] Trial 6 finished with value: 0.8484848484848485 and parameters: {'num_leaves': 25, 'learning_rate': 0.05976721140063839, 'feature_fraction': 0.8736932106048627, 'bagging_fraction': 0.7760609974958405, 'reg_alpha': 0.12203823484477883, 'reg_lambda': 0.4951769101112702}. Best is trial 0 with value: 0.8529741863075196.\n",
      "Training until validation scores don't improve for 50 rounds\n"
     ]
    },
    {
     "name": "stdout",
     "output_type": "stream",
     "text": [
      "Early stopping, best iteration is:\n",
      "[31]\tvalid_0's binary_logloss: 0.369772\n",
      "Training until validation scores don't improve for 50 rounds\n",
      "Early stopping, best iteration is:\n",
      "[18]\tvalid_0's binary_logloss: 0.411654\n",
      "Training until validation scores don't improve for 50 rounds\n"
     ]
    },
    {
     "name": "stdout",
     "output_type": "stream",
     "text": [
      "Early stopping, best iteration is:\n",
      "[21]\tvalid_0's binary_logloss: 0.384528\n",
      "[I 2025-08-26 15:30:32,384] Trial 7 finished with value: 0.8484848484848485 and parameters: {'num_leaves': 16, 'learning_rate': 0.1409320402078782, 'feature_fraction': 0.7035119926400067, 'bagging_fraction': 0.8650089137415928, 'reg_alpha': 0.31171107608941095, 'reg_lambda': 0.5200680211778108}. Best is trial 0 with value: 0.8529741863075196.\n",
      "Training until validation scores don't improve for 50 rounds\n"
     ]
    },
    {
     "name": "stdout",
     "output_type": "stream",
     "text": [
      "Early stopping, best iteration is:\n",
      "[60]\tvalid_0's binary_logloss: 0.37454\n",
      "Training until validation scores don't improve for 50 rounds\n"
     ]
    },
    {
     "name": "stdout",
     "output_type": "stream",
     "text": [
      "Early stopping, best iteration is:\n",
      "[44]\tvalid_0's binary_logloss: 0.411904\n",
      "Training until validation scores don't improve for 50 rounds\n"
     ]
    },
    {
     "name": "stdout",
     "output_type": "stream",
     "text": [
      "Early stopping, best iteration is:\n",
      "[57]\tvalid_0's binary_logloss: 0.390952\n",
      "[I 2025-08-26 15:30:33,347] Trial 8 finished with value: 0.8518518518518517 and parameters: {'num_leaves': 34, 'learning_rate': 0.0684854455525527, 'feature_fraction': 0.9878338511058234, 'bagging_fraction': 0.9100531293444458, 'reg_alpha': 0.9394989415641891, 'reg_lambda': 0.8948273504276488}. Best is trial 0 with value: 0.8529741863075196.\n",
      "Training until validation scores don't improve for 50 rounds\n"
     ]
    },
    {
     "name": "stdout",
     "output_type": "stream",
     "text": [
      "Early stopping, best iteration is:\n",
      "[25]\tvalid_0's binary_logloss: 0.380093\n",
      "Training until validation scores don't improve for 50 rounds\n"
     ]
    },
    {
     "name": "stdout",
     "output_type": "stream",
     "text": [
      "Early stopping, best iteration is:\n",
      "[18]\tvalid_0's binary_logloss: 0.416044\n",
      "Training until validation scores don't improve for 50 rounds\n"
     ]
    },
    {
     "name": "stdout",
     "output_type": "stream",
     "text": [
      "Early stopping, best iteration is:\n",
      "[20]\tvalid_0's binary_logloss: 0.386575\n",
      "[I 2025-08-26 15:30:34,162] Trial 9 finished with value: 0.8540965207631874 and parameters: {'num_leaves': 36, 'learning_rate': 0.14218742350231167, 'feature_fraction': 0.6353970008207678, 'bagging_fraction': 0.678393144967658, 'reg_alpha': 0.045227288910538066, 'reg_lambda': 0.32533033076326434}. Best is trial 9 with value: 0.8540965207631874.\n",
      "Training until validation scores don't improve for 50 rounds\n"
     ]
    },
    {
     "name": "stdout",
     "output_type": "stream",
     "text": [
      "Early stopping, best iteration is:\n",
      "[31]\tvalid_0's binary_logloss: 0.376537\n",
      "Training until validation scores don't improve for 50 rounds\n"
     ]
    },
    {
     "name": "stdout",
     "output_type": "stream",
     "text": [
      "Early stopping, best iteration is:\n",
      "[33]\tvalid_0's binary_logloss: 0.414276\n",
      "Training until validation scores don't improve for 50 rounds\n"
     ]
    },
    {
     "name": "stdout",
     "output_type": "stream",
     "text": [
      "Early stopping, best iteration is:\n",
      "[36]\tvalid_0's binary_logloss: 0.383149\n",
      "[I 2025-08-26 15:30:34,993] Trial 10 finished with value: 0.8439955106621774 and parameters: {'num_leaves': 49, 'learning_rate': 0.10659360709459065, 'feature_fraction': 0.747491509088439, 'bagging_fraction': 0.6071847502459278, 'reg_alpha': 0.6370920485539681, 'reg_lambda': 0.2894610629307977}. Best is trial 9 with value: 0.8540965207631874.\n",
      "Training until validation scores don't improve for 50 rounds\n"
     ]
    },
    {
     "name": "stdout",
     "output_type": "stream",
     "text": [
      "Early stopping, best iteration is:\n",
      "[23]\tvalid_0's binary_logloss: 0.377691\n",
      "Training until validation scores don't improve for 50 rounds\n"
     ]
    },
    {
     "name": "stdout",
     "output_type": "stream",
     "text": [
      "Early stopping, best iteration is:\n",
      "[25]\tvalid_0's binary_logloss: 0.421906\n",
      "Training until validation scores don't improve for 50 rounds\n"
     ]
    },
    {
     "name": "stdout",
     "output_type": "stream",
     "text": [
      "Early stopping, best iteration is:\n",
      "[22]\tvalid_0's binary_logloss: 0.382441\n",
      "[I 2025-08-26 15:30:35,861] Trial 11 finished with value: 0.8473625140291806 and parameters: {'num_leaves': 41, 'learning_rate': 0.1164123014250405, 'feature_fraction': 0.9323829954957575, 'bagging_fraction': 0.7518416973680894, 'reg_alpha': 0.009571433056508032, 'reg_lambda': 0.03465711726739068}. Best is trial 9 with value: 0.8540965207631874.\n",
      "Training until validation scores don't improve for 50 rounds\n"
     ]
    },
    {
     "name": "stdout",
     "output_type": "stream",
     "text": [
      "Early stopping, best iteration is:\n",
      "[21]\tvalid_0's binary_logloss: 0.376418\n",
      "Training until validation scores don't improve for 50 rounds\n"
     ]
    },
    {
     "name": "stdout",
     "output_type": "stream",
     "text": [
      "Early stopping, best iteration is:\n",
      "[21]\tvalid_0's binary_logloss: 0.408248\n",
      "Training until validation scores don't improve for 50 rounds\n"
     ]
    },
    {
     "name": "stdout",
     "output_type": "stream",
     "text": [
      "Early stopping, best iteration is:\n",
      "[18]\tvalid_0's binary_logloss: 0.382592\n",
      "[I 2025-08-26 15:30:36,640] Trial 12 finished with value: 0.8484848484848485 and parameters: {'num_leaves': 25, 'learning_rate': 0.149502869582801, 'feature_fraction': 0.7766056506575825, 'bagging_fraction': 0.7209121549636469, 'reg_alpha': 0.18904273771151736, 'reg_lambda': 0.21785358383633718}. Best is trial 9 with value: 0.8540965207631874.\n",
      "Training until validation scores don't improve for 50 rounds\n"
     ]
    },
    {
     "name": "stdout",
     "output_type": "stream",
     "text": [
      "Early stopping, best iteration is:\n",
      "[35]\tvalid_0's binary_logloss: 0.377384\n",
      "Training until validation scores don't improve for 50 rounds\n"
     ]
    },
    {
     "name": "stdout",
     "output_type": "stream",
     "text": [
      "Early stopping, best iteration is:\n",
      "[33]\tvalid_0's binary_logloss: 0.417686\n",
      "Training until validation scores don't improve for 50 rounds\n"
     ]
    },
    {
     "name": "stdout",
     "output_type": "stream",
     "text": [
      "Early stopping, best iteration is:\n",
      "[38]\tvalid_0's binary_logloss: 0.385129\n",
      "[I 2025-08-26 15:30:37,534] Trial 13 finished with value: 0.8518518518518517 and parameters: {'num_leaves': 25, 'learning_rate': 0.09099397786361343, 'feature_fraction': 0.9158816975290052, 'bagging_fraction': 0.8111115572120128, 'reg_alpha': 0.46870521888784217, 'reg_lambda': 0.1288706766978636}. Best is trial 9 with value: 0.8540965207631874.\n",
      "Training until validation scores don't improve for 50 rounds\n"
     ]
    },
    {
     "name": "stdout",
     "output_type": "stream",
     "text": [
      "Early stopping, best iteration is:\n",
      "[26]\tvalid_0's binary_logloss: 0.377478\n",
      "Training until validation scores don't improve for 50 rounds\n"
     ]
    },
    {
     "name": "stdout",
     "output_type": "stream",
     "text": [
      "Early stopping, best iteration is:\n",
      "[30]\tvalid_0's binary_logloss: 0.419932\n",
      "Training until validation scores don't improve for 50 rounds\n"
     ]
    },
    {
     "name": "stdout",
     "output_type": "stream",
     "text": [
      "Early stopping, best iteration is:\n",
      "[24]\tvalid_0's binary_logloss: 0.383411\n",
      "[I 2025-08-26 15:30:38,435] Trial 14 finished with value: 0.850729517396184 and parameters: {'num_leaves': 40, 'learning_rate': 0.12006440447024752, 'feature_fraction': 0.6023553657214022, 'bagging_fraction': 0.6908556046603515, 'reg_alpha': 0.16411760093954242, 'reg_lambda': 0.3516465433767437}. Best is trial 9 with value: 0.8540965207631874.\n",
      "Training until validation scores don't improve for 50 rounds\n"
     ]
    },
    {
     "name": "stdout",
     "output_type": "stream",
     "text": [
      "Early stopping, best iteration is:\n",
      "[25]\tvalid_0's binary_logloss: 0.380122\n",
      "Training until validation scores don't improve for 50 rounds\n"
     ]
    },
    {
     "name": "stdout",
     "output_type": "stream",
     "text": [
      "Early stopping, best iteration is:\n",
      "[21]\tvalid_0's binary_logloss: 0.412022\n",
      "Training until validation scores don't improve for 50 rounds\n"
     ]
    },
    {
     "name": "stdout",
     "output_type": "stream",
     "text": [
      "Early stopping, best iteration is:\n",
      "[26]\tvalid_0's binary_logloss: 0.384174\n",
      "[I 2025-08-26 15:30:39,201] Trial 15 finished with value: 0.8496071829405163 and parameters: {'num_leaves': 29, 'learning_rate': 0.1473391102890388, 'feature_fraction': 0.7987586652315627, 'bagging_fraction': 0.8431153824350242, 'reg_alpha': 0.40095596968204394, 'reg_lambda': 0.6855046081289344}. Best is trial 9 with value: 0.8540965207631874.\n",
      "Training until validation scores don't improve for 50 rounds\n"
     ]
    },
    {
     "name": "stdout",
     "output_type": "stream",
     "text": [
      "Early stopping, best iteration is:\n",
      "[32]\tvalid_0's binary_logloss: 0.374638\n",
      "Training until validation scores don't improve for 50 rounds\n"
     ]
    },
    {
     "name": "stdout",
     "output_type": "stream",
     "text": [
      "Early stopping, best iteration is:\n",
      "[25]\tvalid_0's binary_logloss: 0.410316\n",
      "Training until validation scores don't improve for 50 rounds\n"
     ]
    },
    {
     "name": "stdout",
     "output_type": "stream",
     "text": [
      "Early stopping, best iteration is:\n",
      "[29]\tvalid_0's binary_logloss: 0.376958\n",
      "[I 2025-08-26 15:30:39,975] Trial 16 finished with value: 0.8417508417508417 and parameters: {'num_leaves': 20, 'learning_rate': 0.1296939645858437, 'feature_fraction': 0.9664730977011131, 'bagging_fraction': 0.9349418029162155, 'reg_alpha': 0.7777116035069408, 'reg_lambda': 0.19867706922050493}. Best is trial 9 with value: 0.8540965207631874.\n",
      "Training until validation scores don't improve for 50 rounds\n"
     ]
    },
    {
     "name": "stdout",
     "output_type": "stream",
     "text": [
      "Early stopping, best iteration is:\n",
      "[30]\tvalid_0's binary_logloss: 0.380113\n",
      "Training until validation scores don't improve for 50 rounds\n"
     ]
    },
    {
     "name": "stdout",
     "output_type": "stream",
     "text": [
      "Early stopping, best iteration is:\n",
      "[36]\tvalid_0's binary_logloss: 0.415897\n",
      "Training until validation scores don't improve for 50 rounds\n"
     ]
    },
    {
     "name": "stdout",
     "output_type": "stream",
     "text": [
      "Early stopping, best iteration is:\n",
      "[34]\tvalid_0's binary_logloss: 0.384354\n",
      "[I 2025-08-26 15:30:40,907] Trial 17 finished with value: 0.8496071829405163 and parameters: {'num_leaves': 38, 'learning_rate': 0.1018056100605875, 'feature_fraction': 0.7333306877482294, 'bagging_fraction': 0.6112835058552188, 'reg_alpha': 0.08419622745238281, 'reg_lambda': 0.41912937173413833}. Best is trial 9 with value: 0.8540965207631874.\n",
      "Training until validation scores don't improve for 50 rounds\n"
     ]
    },
    {
     "name": "stdout",
     "output_type": "stream",
     "text": [
      "Early stopping, best iteration is:\n",
      "[31]\tvalid_0's binary_logloss: 0.377283\n",
      "Training until validation scores don't improve for 50 rounds\n"
     ]
    },
    {
     "name": "stdout",
     "output_type": "stream",
     "text": [
      "Early stopping, best iteration is:\n",
      "[22]\tvalid_0's binary_logloss: 0.416522\n",
      "Training until validation scores don't improve for 50 rounds\n"
     ]
    },
    {
     "name": "stdout",
     "output_type": "stream",
     "text": [
      "Early stopping, best iteration is:\n",
      "[30]\tvalid_0's binary_logloss: 0.383421\n",
      "[I 2025-08-26 15:30:41,729] Trial 18 finished with value: 0.8507295173961841 and parameters: {'num_leaves': 48, 'learning_rate': 0.11440755919849299, 'feature_fraction': 0.8841749575369519, 'bagging_fraction': 0.7397562484304057, 'reg_alpha': 0.278051169696999, 'reg_lambda': 0.6423620561394953}. Best is trial 9 with value: 0.8540965207631874.\n",
      "Training until validation scores don't improve for 50 rounds\n"
     ]
    },
    {
     "name": "stdout",
     "output_type": "stream",
     "text": [
      "Early stopping, best iteration is:\n",
      "[36]\tvalid_0's binary_logloss: 0.379767\n",
      "Training until validation scores don't improve for 50 rounds\n"
     ]
    },
    {
     "name": "stdout",
     "output_type": "stream",
     "text": [
      "Early stopping, best iteration is:\n",
      "[28]\tvalid_0's binary_logloss: 0.416193\n",
      "Training until validation scores don't improve for 50 rounds\n"
     ]
    },
    {
     "name": "stdout",
     "output_type": "stream",
     "text": [
      "Early stopping, best iteration is:\n",
      "[32]\tvalid_0's binary_logloss: 0.377764\n",
      "[I 2025-08-26 15:30:42,601] Trial 19 finished with value: 0.8552188552188552 and parameters: {'num_leaves': 21, 'learning_rate': 0.09170147349231994, 'feature_fraction': 0.8160592908860137, 'bagging_fraction': 0.8406819386071084, 'reg_alpha': 0.18609648721291477, 'reg_lambda': 0.13935442587414082}. Best is trial 19 with value: 0.8552188552188552.\n",
      "Training until validation scores don't improve for 50 rounds\n"
     ]
    },
    {
     "name": "stdout",
     "output_type": "stream",
     "text": [
      "Early stopping, best iteration is:\n",
      "[34]\tvalid_0's binary_logloss: 0.379315\n",
      "Training until validation scores don't improve for 50 rounds\n"
     ]
    },
    {
     "name": "stdout",
     "output_type": "stream",
     "text": [
      "Early stopping, best iteration is:\n",
      "[41]\tvalid_0's binary_logloss: 0.410073\n",
      "Training until validation scores don't improve for 50 rounds\n"
     ]
    },
    {
     "name": "stdout",
     "output_type": "stream",
     "text": [
      "Early stopping, best iteration is:\n",
      "[42]\tvalid_0's binary_logloss: 0.381087\n",
      "[I 2025-08-26 15:30:43,503] Trial 20 finished with value: 0.8507295173961841 and parameters: {'num_leaves': 21, 'learning_rate': 0.08887691947863863, 'feature_fraction': 0.8210948941947224, 'bagging_fraction': 0.9778886349758447, 'reg_alpha': 0.4362061710370349, 'reg_lambda': 0.2800639060734296}. Best is trial 19 with value: 0.8552188552188552.\n",
      "Training until validation scores don't improve for 50 rounds\n"
     ]
    },
    {
     "name": "stdout",
     "output_type": "stream",
     "text": [
      "Early stopping, best iteration is:\n",
      "[36]\tvalid_0's binary_logloss: 0.379035\n",
      "Training until validation scores don't improve for 50 rounds\n"
     ]
    },
    {
     "name": "stdout",
     "output_type": "stream",
     "text": [
      "Early stopping, best iteration is:\n",
      "[40]\tvalid_0's binary_logloss: 0.417209\n",
      "Training until validation scores don't improve for 50 rounds\n"
     ]
    },
    {
     "name": "stdout",
     "output_type": "stream",
     "text": [
      "Early stopping, best iteration is:\n",
      "[36]\tvalid_0's binary_logloss: 0.37974\n",
      "[I 2025-08-26 15:30:44,452] Trial 21 finished with value: 0.8484848484848485 and parameters: {'num_leaves': 22, 'learning_rate': 0.08813770446154914, 'feature_fraction': 0.774439933428912, 'bagging_fraction': 0.8333744933578412, 'reg_alpha': 0.19503980610224644, 'reg_lambda': 0.15211357716944696}. Best is trial 19 with value: 0.8552188552188552.\n",
      "Training until validation scores don't improve for 50 rounds\n"
     ]
    },
    {
     "name": "stdout",
     "output_type": "stream",
     "text": [
      "Early stopping, best iteration is:\n",
      "[25]\tvalid_0's binary_logloss: 0.383426\n",
      "Training until validation scores don't improve for 50 rounds\n"
     ]
    },
    {
     "name": "stdout",
     "output_type": "stream",
     "text": [
      "Early stopping, best iteration is:\n",
      "[21]\tvalid_0's binary_logloss: 0.422972\n",
      "Training until validation scores don't improve for 50 rounds\n"
     ]
    },
    {
     "name": "stdout",
     "output_type": "stream",
     "text": [
      "Early stopping, best iteration is:\n",
      "[20]\tvalid_0's binary_logloss: 0.382067\n",
      "[I 2025-08-26 15:30:45,299] Trial 22 finished with value: 0.8496071829405163 and parameters: {'num_leaves': 28, 'learning_rate': 0.1295867761893573, 'feature_fraction': 0.8752408504325483, 'bagging_fraction': 0.7825233164332502, 'reg_alpha': 0.08367015107088982, 'reg_lambda': 0.09817031464901499}. Best is trial 19 with value: 0.8552188552188552.\n",
      "Training until validation scores don't improve for 50 rounds\n"
     ]
    },
    {
     "name": "stdout",
     "output_type": "stream",
     "text": [
      "Early stopping, best iteration is:\n",
      "[26]\tvalid_0's binary_logloss: 0.380796\n",
      "Training until validation scores don't improve for 50 rounds\n"
     ]
    },
    {
     "name": "stdout",
     "output_type": "stream",
     "text": [
      "Early stopping, best iteration is:\n",
      "[21]\tvalid_0's binary_logloss: 0.413722\n",
      "Training until validation scores don't improve for 50 rounds\n"
     ]
    },
    {
     "name": "stdout",
     "output_type": "stream",
     "text": [
      "Early stopping, best iteration is:\n",
      "[19]\tvalid_0's binary_logloss: 0.38442\n",
      "[I 2025-08-26 15:30:46,098] Trial 23 finished with value: 0.850729517396184 and parameters: {'num_leaves': 34, 'learning_rate': 0.13862515516740193, 'feature_fraction': 0.9288202724255707, 'bagging_fraction': 0.8985841076719503, 'reg_alpha': 0.23191829511197803, 'reg_lambda': 0.23935985632829493}. Best is trial 19 with value: 0.8552188552188552.\n",
      "Training until validation scores don't improve for 50 rounds\n"
     ]
    },
    {
     "name": "stdout",
     "output_type": "stream",
     "text": [
      "Early stopping, best iteration is:\n",
      "[29]\tvalid_0's binary_logloss: 0.374745\n",
      "Training until validation scores don't improve for 50 rounds\n"
     ]
    },
    {
     "name": "stdout",
     "output_type": "stream",
     "text": [
      "Early stopping, best iteration is:\n",
      "[28]\tvalid_0's binary_logloss: 0.419319\n",
      "Training until validation scores don't improve for 50 rounds\n"
     ]
    },
    {
     "name": "stdout",
     "output_type": "stream",
     "text": [
      "Early stopping, best iteration is:\n",
      "[25]\tvalid_0's binary_logloss: 0.380834\n",
      "[I 2025-08-26 15:30:46,981] Trial 24 finished with value: 0.8484848484848485 and parameters: {'num_leaves': 27, 'learning_rate': 0.10815352366745576, 'feature_fraction': 0.8122387609410768, 'bagging_fraction': 0.8471674449936544, 'reg_alpha': 0.018460657926128242, 'reg_lambda': 0.33504431052334105}. Best is trial 19 with value: 0.8552188552188552.\n",
      "Training until validation scores don't improve for 50 rounds\n"
     ]
    },
    {
     "name": "stdout",
     "output_type": "stream",
     "text": [
      "Early stopping, best iteration is:\n",
      "[36]\tvalid_0's binary_logloss: 0.373122\n",
      "Training until validation scores don't improve for 50 rounds\n"
     ]
    },
    {
     "name": "stdout",
     "output_type": "stream",
     "text": [
      "Early stopping, best iteration is:\n",
      "[29]\tvalid_0's binary_logloss: 0.417629\n",
      "Training until validation scores don't improve for 50 rounds\n"
     ]
    },
    {
     "name": "stdout",
     "output_type": "stream",
     "text": [
      "Early stopping, best iteration is:\n",
      "[33]\tvalid_0's binary_logloss: 0.382587\n",
      "[I 2025-08-26 15:30:47,763] Trial 25 finished with value: 0.8552188552188552 and parameters: {'num_leaves': 18, 'learning_rate': 0.09482212932743175, 'feature_fraction': 0.9016184566274927, 'bagging_fraction': 0.7113692077761353, 'reg_alpha': 0.36801152067008186, 'reg_lambda': 0.15101457301236293}. Best is trial 19 with value: 0.8552188552188552.\n",
      "Training until validation scores don't improve for 50 rounds\n"
     ]
    },
    {
     "name": "stdout",
     "output_type": "stream",
     "text": [
      "Early stopping, best iteration is:\n",
      "[36]\tvalid_0's binary_logloss: 0.37579\n",
      "Training until validation scores don't improve for 50 rounds\n"
     ]
    },
    {
     "name": "stdout",
     "output_type": "stream",
     "text": [
      "Early stopping, best iteration is:\n",
      "[33]\tvalid_0's binary_logloss: 0.410806\n",
      "Training until validation scores don't improve for 50 rounds\n"
     ]
    },
    {
     "name": "stdout",
     "output_type": "stream",
     "text": [
      "Early stopping, best iteration is:\n",
      "[30]\tvalid_0's binary_logloss: 0.381534\n",
      "[I 2025-08-26 15:30:48,564] Trial 26 finished with value: 0.8529741863075196 and parameters: {'num_leaves': 18, 'learning_rate': 0.09607787867077872, 'feature_fraction': 0.6468329412700768, 'bagging_fraction': 0.6452606057786048, 'reg_alpha': 0.377679814959981, 'reg_lambda': 0.012015617286114055}. Best is trial 19 with value: 0.8552188552188552.\n",
      "Training until validation scores don't improve for 50 rounds\n"
     ]
    },
    {
     "name": "stdout",
     "output_type": "stream",
     "text": [
      "Early stopping, best iteration is:\n",
      "[69]\tvalid_0's binary_logloss: 0.378489\n",
      "Training until validation scores don't improve for 50 rounds\n"
     ]
    },
    {
     "name": "stdout",
     "output_type": "stream",
     "text": [
      "Early stopping, best iteration is:\n",
      "[61]\tvalid_0's binary_logloss: 0.414923\n",
      "Training until validation scores don't improve for 50 rounds\n"
     ]
    },
    {
     "name": "stdout",
     "output_type": "stream",
     "text": [
      "Early stopping, best iteration is:\n",
      "[66]\tvalid_0's binary_logloss: 0.384163\n",
      "[I 2025-08-26 15:30:49,646] Trial 27 finished with value: 0.8473625140291808 and parameters: {'num_leaves': 19, 'learning_rate': 0.050398962415843435, 'feature_fraction': 0.723819408991232, 'bagging_fraction': 0.7088222688961449, 'reg_alpha': 0.38164941159781374, 'reg_lambda': 0.44108277190662687}. Best is trial 19 with value: 0.8552188552188552.\n",
      "Training until validation scores don't improve for 50 rounds\n"
     ]
    },
    {
     "name": "stdout",
     "output_type": "stream",
     "text": [
      "Early stopping, best iteration is:\n",
      "[42]\tvalid_0's binary_logloss: 0.376151\n",
      "Training until validation scores don't improve for 50 rounds\n"
     ]
    },
    {
     "name": "stdout",
     "output_type": "stream",
     "text": [
      "Early stopping, best iteration is:\n",
      "[38]\tvalid_0's binary_logloss: 0.410201\n",
      "Training until validation scores don't improve for 50 rounds\n"
     ]
    },
    {
     "name": "stdout",
     "output_type": "stream",
     "text": [
      "Early stopping, best iteration is:\n",
      "[37]\tvalid_0's binary_logloss: 0.379971\n",
      "[I 2025-08-26 15:30:50,557] Trial 28 finished with value: 0.850729517396184 and parameters: {'num_leaves': 23, 'learning_rate': 0.08180380072133389, 'feature_fraction': 0.7667596161418875, 'bagging_fraction': 0.6375992242962368, 'reg_alpha': 0.5697958154898946, 'reg_lambda': 0.08668068799272383}. Best is trial 19 with value: 0.8552188552188552.\n",
      "Training until validation scores don't improve for 50 rounds\n"
     ]
    },
    {
     "name": "stdout",
     "output_type": "stream",
     "text": [
      "Early stopping, best iteration is:\n",
      "[33]\tvalid_0's binary_logloss: 0.371501\n",
      "Training until validation scores don't improve for 50 rounds\n"
     ]
    },
    {
     "name": "stdout",
     "output_type": "stream",
     "text": [
      "Early stopping, best iteration is:\n",
      "[34]\tvalid_0's binary_logloss: 0.409512\n",
      "Training until validation scores don't improve for 50 rounds\n"
     ]
    },
    {
     "name": "stdout",
     "output_type": "stream",
     "text": [
      "Early stopping, best iteration is:\n",
      "[31]\tvalid_0's binary_logloss: 0.380132\n",
      "[I 2025-08-26 15:30:51,244] Trial 29 finished with value: 0.8540965207631874 and parameters: {'num_leaves': 15, 'learning_rate': 0.09762805066121431, 'feature_fraction': 0.84837088899058, 'bagging_fraction': 0.7590883030321929, 'reg_alpha': 0.10608008328890497, 'reg_lambda': 0.18040464545305832}. Best is trial 19 with value: 0.8552188552188552.\n",
      "\n",
      "最高CV精度: 0.8552\n",
      "最適パラメータ:\n",
      "num_leaves          : 21\n",
      "learning_rate       : 0.09170147349231994\n",
      "feature_fraction    : 0.8160592908860137\n",
      "bagging_fraction    : 0.8406819386071084\n",
      "reg_alpha           : 0.18609648721291477\n",
      "reg_lambda          : 0.13935442587414082\n"
     ]
    }
   ],
   "source": [
    "# 軽量Optuna最適化\n",
    "def objective(trial):\n",
    "    params = {\n",
    "        'objective': 'binary',\n",
    "        'metric': 'binary_logloss',\n",
    "        'verbosity': -1,\n",
    "        'random_state': 42,\n",
    "        'n_estimators': 200,  # 高速化のため削減\n",
    "        \n",
    "        'num_leaves': trial.suggest_int('num_leaves', 15, 50),\n",
    "        'learning_rate': trial.suggest_float('learning_rate', 0.05, 0.15),\n",
    "        'feature_fraction': trial.suggest_float('feature_fraction', 0.6, 1.0),\n",
    "        'bagging_fraction': trial.suggest_float('bagging_fraction', 0.6, 1.0),\n",
    "        'reg_alpha': trial.suggest_float('reg_alpha', 0.0, 1.0),\n",
    "        'reg_lambda': trial.suggest_float('reg_lambda', 0.0, 1.0)\n",
    "    }\n",
    "    \n",
    "    # 3-fold CV（高速化）\n",
    "    kf = StratifiedKFold(n_splits=3, shuffle=True, random_state=42)\n",
    "    cv_scores = []\n",
    "    \n",
    "    for train_idx, val_idx in kf.split(X_optimal, y):\n",
    "        X_train, X_val = X_optimal.iloc[train_idx], X_optimal.iloc[val_idx]\n",
    "        y_train, y_val = y.iloc[train_idx], y.iloc[val_idx]\n",
    "        \n",
    "        model = lgb.LGBMClassifier(**params)\n",
    "        model.fit(X_train, y_train, eval_set=[(X_val, y_val)], \n",
    "                 callbacks=[lgb.early_stopping(50), lgb.log_evaluation(0)])\n",
    "        \n",
    "        val_pred = model.predict(X_val)\n",
    "        fold_score = accuracy_score(y_val, val_pred)\n",
    "        cv_scores.append(fold_score)\n",
    "    \n",
    "    return np.mean(cv_scores)\n",
    "\n",
    "print(\"\\nOptuna最適化開始（30回試行）...\")\n",
    "study = optuna.create_study(direction='maximize', sampler=optuna.samplers.TPESampler(seed=42))\n",
    "study.optimize(objective, n_trials=30, show_progress_bar=True)\n",
    "\n",
    "print(f\"\\n最高CV精度: {study.best_value:.4f}\")\n",
    "print(\"最適パラメータ:\")\n",
    "for param, value in study.best_params.items():\n",
    "    print(f\"{param:20s}: {value}\")\n",
    "\n",
    "best_params = study.best_params.copy()\n",
    "best_params.update({\n",
    "    'objective': 'binary',\n",
    "    'metric': 'binary_logloss',\n",
    "    'verbosity': -1,\n",
    "    'random_state': 42\n",
    "})"
   ]
  },
  {
   "cell_type": "code",
   "execution_count": 5,
   "metadata": {
    "execution": {
     "iopub.execute_input": "2025-08-26T06:30:51.247848Z",
     "iopub.status.busy": "2025-08-26T06:30:51.247779Z",
     "iopub.status.idle": "2025-08-26T06:30:53.198939Z",
     "shell.execute_reply": "2025-08-26T06:30:53.198723Z"
    }
   },
   "outputs": [
    {
     "name": "stdout",
     "output_type": "stream",
     "text": [
      "\n",
      "最終モデル構築中...\n",
      "Training until validation scores don't improve for 100 rounds\n"
     ]
    },
    {
     "name": "stdout",
     "output_type": "stream",
     "text": [
      "Did not meet early stopping. Best iteration is:\n",
      "[46]\tvalid_0's binary_logloss: 0.363104\n",
      "Fold 1: 0.8603\n",
      "Training until validation scores don't improve for 100 rounds\n"
     ]
    },
    {
     "name": "stdout",
     "output_type": "stream",
     "text": [
      "Did not meet early stopping. Best iteration is:\n",
      "[26]\tvalid_0's binary_logloss: 0.396265\n",
      "Fold 2: 0.8427\n",
      "Training until validation scores don't improve for 100 rounds\n"
     ]
    },
    {
     "name": "stdout",
     "output_type": "stream",
     "text": [
      "Did not meet early stopping. Best iteration is:\n",
      "[30]\tvalid_0's binary_logloss: 0.425934\n",
      "Fold 3: 0.8258\n",
      "Training until validation scores don't improve for 100 rounds\n"
     ]
    },
    {
     "name": "stdout",
     "output_type": "stream",
     "text": [
      "Did not meet early stopping. Best iteration is:\n",
      "[29]\tvalid_0's binary_logloss: 0.409193\n",
      "Fold 4: 0.8427\n",
      "Training until validation scores don't improve for 100 rounds\n"
     ]
    },
    {
     "name": "stdout",
     "output_type": "stream",
     "text": [
      "Did not meet early stopping. Best iteration is:\n",
      "[50]\tvalid_0's binary_logloss: 0.376813\n",
      "Fold 5: 0.8483\n",
      "\n",
      "=== 最終結果 ===\n",
      "CV Accuracy: 0.8440 ± 0.0111\n",
      "OOF Accuracy: 0.8440\n",
      "\n",
      "=== exp004との比較 ===\n",
      "exp004 CV: 0.8462\n",
      "exp006 CV: 0.8440 (-0.0022)\n",
      "\n",
      "期待Kaggle: 0.77785\n",
      "exp004から: -0.00205 (-0.26%)\n",
      "⚠️ 改善は限定的\n",
      "\n",
      "=== 最終特徴量重要度 ===\n",
      " 1. Age_Fare_Interaction: 135.6000\n",
      " 2. Age_Rank_SexPclass  : 112.2000\n",
      " 3. Fare                :  97.2000\n",
      " 4. Fare_Rank_Pclass    :  90.8000\n",
      " 5. Age                 :  80.2000\n",
      " 6. Sex_Binary          :  29.8000\n",
      " 7. Title_Grouped       :  27.4000\n",
      " 8. Pclass              :  25.6000\n",
      " 9. Surname_Count       :  23.2000\n",
      "10. Ticket_Count        :  22.4000\n",
      "11. FamilySize          :  19.8000\n",
      "12. Embarked            :  14.0000\n",
      "13. HasCabin            :  12.0000\n",
      "14. SibSp               :  10.6000\n",
      "15. Ticket_IsNumeric    :   4.2000\n"
     ]
    },
    {
     "data": {
      "image/png": "[encoded data removed]",
      "text/plain": [
       "<Figure size 1000x600 with 1 Axes>"
      ]
     },
     "metadata": {},
     "output_type": "display_data"
    }
   ],
   "source": [
    "# 最終モデル構築\n",
    "print(\"\\n最終モデル構築中...\")\n",
    "\n",
    "kf = StratifiedKFold(n_splits=5, shuffle=True, random_state=42)\n",
    "final_cv_scores = []\n",
    "oof_predictions = np.zeros(len(X_optimal))\n",
    "test_predictions = np.zeros(len(X_test_optimal))\n",
    "feature_importance_final = np.zeros(len(optimal_features))\n",
    "\n",
    "for fold, (train_idx, val_idx) in enumerate(kf.split(X_optimal, y), 1):\n",
    "    X_train, X_val = X_optimal.iloc[train_idx], X_optimal.iloc[val_idx]\n",
    "    y_train, y_val = y.iloc[train_idx], y.iloc[val_idx]\n",
    "    \n",
    "    model = lgb.LGBMClassifier(**best_params)\n",
    "    model.fit(X_train, y_train, eval_set=[(X_val, y_val)], \n",
    "             callbacks=[lgb.early_stopping(100), lgb.log_evaluation(0)])\n",
    "    \n",
    "    # 予測\n",
    "    val_pred_proba = model.predict_proba(X_val)[:, 1]\n",
    "    val_pred = model.predict(X_val)\n",
    "    test_pred_proba = model.predict_proba(X_test_optimal)[:, 1]\n",
    "    \n",
    "    fold_score = accuracy_score(y_val, val_pred)\n",
    "    final_cv_scores.append(fold_score)\n",
    "    \n",
    "    oof_predictions[val_idx] = val_pred_proba\n",
    "    test_predictions += test_pred_proba / 5\n",
    "    feature_importance_final += model.feature_importances_\n",
    "    \n",
    "    print(f\"Fold {fold}: {fold_score:.4f}\")\n",
    "\n",
    "final_cv_mean = np.mean(final_cv_scores)\n",
    "final_cv_std = np.std(final_cv_scores)\n",
    "oof_accuracy = accuracy_score(y, (oof_predictions >= 0.5).astype(int))\n",
    "feature_importance_final /= 5\n",
    "\n",
    "print(f\"\\n=== 最終結果 ===\")\n",
    "print(f\"CV Accuracy: {final_cv_mean:.4f} ± {final_cv_std:.4f}\")\n",
    "print(f\"OOF Accuracy: {oof_accuracy:.4f}\")\n",
    "\n",
    "# exp004との比較\n",
    "exp004_cv = 0.8462\n",
    "exp004_kaggle = 0.77990\n",
    "cv_improvement = final_cv_mean - exp004_cv\n",
    "expected_kaggle = final_cv_mean * (exp004_kaggle / exp004_cv)\n",
    "kaggle_improvement = expected_kaggle - exp004_kaggle\n",
    "\n",
    "print(f\"\\n=== exp004との比較 ===\")\n",
    "print(f\"exp004 CV: {exp004_cv:.4f}\")\n",
    "print(f\"exp006 CV: {final_cv_mean:.4f} ({cv_improvement:+.4f})\")\n",
    "print(f\"\\n期待Kaggle: {expected_kaggle:.5f}\")\n",
    "print(f\"exp004から: {kaggle_improvement:+.5f} ({kaggle_improvement/exp004_kaggle*100:+.2f}%)\")\n",
    "\n",
    "if kaggle_improvement > 0.005:\n",
    "    print(\"🎉 大幅改善が期待される！\")\n",
    "elif kaggle_improvement > 0:\n",
    "    print(\"✅ 改善が期待される\")\n",
    "else:\n",
    "    print(\"⚠️ 改善は限定的\")\n",
    "\n",
    "# 最終特徴量重要度\n",
    "final_importance_df = pd.DataFrame({\n",
    "    'feature': optimal_features,\n",
    "    'importance': feature_importance_final\n",
    "}).sort_values('importance', ascending=False)\n",
    "\n",
    "print(f\"\\n=== 最終特徴量重要度 ===\")\n",
    "for i, row in final_importance_df.iterrows():\n",
    "    print(f\"{final_importance_df.index.get_loc(i)+1:2d}. {row['feature']:20s}: {row['importance']:8.4f}\")\n",
    "\n",
    "# 可視化\n",
    "plt.figure(figsize=(10, 6))\n",
    "plt.barh(range(len(final_importance_df)), final_importance_df['importance'])\n",
    "plt.yticks(range(len(final_importance_df)), final_importance_df['feature'])\n",
    "plt.xlabel('重要度')\n",
    "plt.title(f'exp006最終特徴量重要度 ({len(optimal_features)}特徴量)')\n",
    "plt.gca().invert_yaxis()\n",
    "plt.tight_layout()\n",
    "plt.show()"
   ]
  },
  {
   "cell_type": "code",
   "execution_count": 6,
   "metadata": {
    "execution": {
     "iopub.execute_input": "2025-08-26T06:30:53.199917Z",
     "iopub.status.busy": "2025-08-26T06:30:53.199847Z",
     "iopub.status.idle": "2025-08-26T06:30:53.204268Z",
     "shell.execute_reply": "2025-08-26T06:30:53.204083Z"
    }
   },
   "outputs": [
    {
     "name": "stdout",
     "output_type": "stream",
     "text": [
      "\n",
      "=== 提出ファイル生成完了 ===\n",
      "生存予測数: 137\n",
      "死亡予測数: 281\n",
      "予測生存率: 0.328\n",
      "実際生存率: 0.384\n",
      "\n",
      "💾 提出ファイル保存: results/exp006/result.csv\n",
      "\n",
      "============================================================\n",
      "                🎯 EXP006 完了\n",
      "============================================================\n",
      "戦略: Less is More（15特徴量）\n",
      "CV性能: 0.8440 ± 0.0111\n",
      "期待改善: -0.00205\n",
      "Kaggleでの結果をお楽しみに！\n",
      "============================================================\n"
     ]
    }
   ],
   "source": [
    "# 提出ファイル生成\n",
    "test_predictions_binary = (test_predictions >= 0.5).astype(int)\n",
    "\n",
    "submission = pd.DataFrame({\n",
    "    'PassengerId': test_processed['PassengerId'],\n",
    "    'Survived': test_predictions_binary\n",
    "})\n",
    "\n",
    "submission.to_csv('/Users/koki.ogai/Documents/ghq/github.com/oddgai/kaggle-projects/titanic/results/exp006/result.csv', index=False)\n",
    "\n",
    "print(f\"\\n=== 提出ファイル生成完了 ===\")\n",
    "print(f\"生存予測数: {test_predictions_binary.sum()}\")\n",
    "print(f\"死亡予測数: {len(test_predictions_binary) - test_predictions_binary.sum()}\")\n",
    "print(f\"予測生存率: {test_predictions_binary.mean():.3f}\")\n",
    "print(f\"実際生存率: {y.mean():.3f}\")\n",
    "print(f\"\\n💾 提出ファイル保存: results/exp006/result.csv\")\n",
    "\n",
    "print(\"\\n\" + \"=\"*60)\n",
    "print(\"                🎯 EXP006 完了\")\n",
    "print(\"=\"*60)\n",
    "print(f\"戦略: Less is More（{len(optimal_features)}特徴量）\")\n",
    "print(f\"CV性能: {final_cv_mean:.4f} ± {final_cv_std:.4f}\")\n",
    "print(f\"期待改善: {kaggle_improvement:+.5f}\")\n",
    "print(\"Kaggleでの結果をお楽しみに！\")\n",
    "print(\"=\"*60)"
   ]
  }
 ],
 "metadata": {
  "kernelspec": {
   "display_name": "Python 3",
   "language": "python",
   "name": "python3"
  },
  "language_info": {
   "codemirror_mode": {
    "name": "ipython",
    "version": 3
   },
   "file_extension": ".py",
   "mimetype": "text/x-python",
   "name": "python",
   "nbconvert_exporter": "python",
   "pygments_lexer": "ipython3",
   "version": "3.12.11"
  },
  "widgets": {
   "application/vnd.jupyter.widget-state+json": {
    "state": {
     "092ed2ae2cf549e9a8694b521038b19c": {
      "model_module": "@jupyter-widgets/base",
      "model_module_version": "2.0.0",
      "model_name": "LayoutModel",
      "state": {
       "_model_module": "@jupyter-widgets/base",
       "_model_module_version": "2.0.0",
       "_model_name": "LayoutModel",
       "_view_count": null,
       "_view_module": "@jupyter-widgets/base",
       "_view_module_version": "2.0.0",
       "_view_name": "LayoutView",
       "align_content": null,
       "align_items": null,
       "align_self": null,
       "border_bottom": null,
       "border_left": null,
       "border_right": null,
       "border_top": null,
       "bottom": null,
       "display": null,
       "flex": null,
       "flex_flow": null,
       "grid_area": null,
       "grid_auto_columns": null,
       "grid_auto_flow": null,
       "grid_auto_rows": null,
       "grid_column": null,
       "grid_gap": null,
       "grid_row": null,
       "grid_template_areas": null,
       "grid_template_columns": null,
       "grid_template_rows": null,
       "height": null,
       "justify_content": null,
       "justify_items": null,
       "left": null,
       "margin": null,
       "max_height": null,
       "max_width": null,
       "min_height": null,
       "min_width": null,
       "object_fit": null,
       "object_position": null,
       "order": null,
       "overflow": null,
       "padding": null,
       "right": null,
       "top": null,
       "visibility": null,
       "width": null
      }
     },
     "2f5caee1e05a43f4bc02aea037c39a57": {
      "model_module": "@jupyter-widgets/controls",
      "model_module_version": "2.0.0",
      "model_name": "HBoxModel",
      "state": {
       "_dom_classes": [],
       "_model_module": "@jupyter-widgets/controls",
       "_model_module_version": "2.0.0",
       "_model_name": "HBoxModel",
       "_view_count": null,
       "_view_module": "@jupyter-widgets/controls",
       "_view_module_version": "2.0.0",
       "_view_name": "HBoxView",
       "box_style": "",
       "children": [
        "IPY_MODEL_526dea0631584f438dba2b3a84f21dca",
        "IPY_MODEL_8d4937ae181d494d9dd29670c5417546",
        "IPY_MODEL_89cdd24ab3884c7d899fdf8aa98925c4"
       ],
       "layout": "IPY_MODEL_092ed2ae2cf549e9a8694b521038b19c",
       "tabbable": null,
       "tooltip": null
      }
     },
     "437c29f8808244649cc4bce32bf79f28": {
      "model_module": "@jupyter-widgets/base",
      "model_module_version": "2.0.0",
      "model_name": "LayoutModel",
      "state": {
       "_model_module": "@jupyter-widgets/base",
       "_model_module_version": "2.0.0",
       "_model_name": "LayoutModel",
       "_view_count": null,
       "_view_module": "@jupyter-widgets/base",
       "_view_module_version": "2.0.0",
       "_view_name": "LayoutView",
       "align_content": null,
       "align_items": null,
       "align_self": null,
       "border_bottom": null,
       "border_left": null,
       "border_right": null,
       "border_top": null,
       "bottom": null,
       "display": null,
       "flex": null,
       "flex_flow": null,
       "grid_area": null,
       "grid_auto_columns": null,
       "grid_auto_flow": null,
       "grid_auto_rows": null,
       "grid_column": null,
       "grid_gap": null,
       "grid_row": null,
       "grid_template_areas": null,
       "grid_template_columns": null,
       "grid_template_rows": null,
       "height": null,
       "justify_content": null,
       "justify_items": null,
       "left": null,
       "margin": null,
       "max_height": null,
       "max_width": null,
       "min_height": null,
       "min_width": null,
       "object_fit": null,
       "object_position": null,
       "order": null,
       "overflow": null,
       "padding": null,
       "right": null,
       "top": null,
       "visibility": null,
       "width": null
      }
     },
     "526dea0631584f438dba2b3a84f21dca": {
      "model_module": "@jupyter-widgets/controls",
      "model_module_version": "2.0.0",
      "model_name": "HTMLModel",
      "state": {
       "_dom_classes": [],
       "_model_module": "@jupyter-widgets/controls",
       "_model_module_version": "2.0.0",
       "_model_name": "HTMLModel",
       "_view_count": null,
       "_view_module": "@jupyter-widgets/controls",
       "_view_module_version": "2.0.0",
       "_view_name": "HTMLView",
       "description": "",
       "description_allow_html": false,
       "layout": "IPY_MODEL_437c29f8808244649cc4bce32bf79f28",
       "placeholder": "​",
       "style": "IPY_MODEL_ca355c9c5e2d477b968d83a605fa5d13",
       "tabbable": null,
       "tooltip": null,
       "value": "Best trial: 19. Best value: 0.855219: 100%"
      }
     },
     "89cdd24ab3884c7d899fdf8aa98925c4": {
      "model_module": "@jupyter-widgets/controls",
      "model_module_version": "2.0.0",
      "model_name": "HTMLModel",
      "state": {
       "_dom_classes": [],
       "_model_module": "@jupyter-widgets/controls",
       "_model_module_version": "2.0.0",
       "_model_name": "HTMLModel",
       "_view_count": null,
       "_view_module": "@jupyter-widgets/controls",
       "_view_module_version": "2.0.0",
       "_view_name": "HTMLView",
       "description": "",
       "description_allow_html": false,
       "layout": "IPY_MODEL_f052aa53ba394ccf80e66b9b482c038b",
       "placeholder": "​",
       "style": "IPY_MODEL_c25a0390e5334b90ae62e01b9561532f",
       "tabbable": null,
       "tooltip": null,
       "value": " 30/30 [00:26&lt;00:00,  1.19it/s]"
      }
     },
     "8d4937ae181d494d9dd29670c5417546": {
      "model_module": "@jupyter-widgets/controls",
      "model_module_version": "2.0.0",
      "model_name": "FloatProgressModel",
      "state": {
       "_dom_classes": [],
       "_model_module": "@jupyter-widgets/controls",
       "_model_module_version": "2.0.0",
       "_model_name": "FloatProgressModel",
       "_view_count": null,
       "_view_module": "@jupyter-widgets/controls",
       "_view_module_version": "2.0.0",
       "_view_name": "ProgressView",
       "bar_style": "success",
       "description": "",
       "description_allow_html": false,
       "layout": "IPY_MODEL_9e65c11e58504507b65708d09e4e4e59",
       "max": 30.0,
       "min": 0.0,
       "orientation": "horizontal",
       "style": "IPY_MODEL_f62d8978bac441f8b3b5a0d0a95dae6f",
       "tabbable": null,
       "tooltip": null,
       "value": 30.0
      }
     },
     "9e65c11e58504507b65708d09e4e4e59": {
      "model_module": "@jupyter-widgets/base",
      "model_module_version": "2.0.0",
      "model_name": "LayoutModel",
      "state": {
       "_model_module": "@jupyter-widgets/base",
       "_model_module_version": "2.0.0",
       "_model_name": "LayoutModel",
       "_view_count": null,
       "_view_module": "@jupyter-widgets/base",
       "_view_module_version": "2.0.0",
       "_view_name": "LayoutView",
       "align_content": null,
       "align_items": null,
       "align_self": null,
       "border_bottom": null,
       "border_left": null,
       "border_right": null,
       "border_top": null,
       "bottom": null,
       "display": null,
       "flex": null,
       "flex_flow": null,
       "grid_area": null,
       "grid_auto_columns": null,
       "grid_auto_flow": null,
       "grid_auto_rows": null,
       "grid_column": null,
       "grid_gap": null,
       "grid_row": null,
       "grid_template_areas": null,
       "grid_template_columns": null,
       "grid_template_rows": null,
       "height": null,
       "justify_content": null,
       "justify_items": null,
       "left": null,
       "margin": null,
       "max_height": null,
       "max_width": null,
       "min_height": null,
       "min_width": null,
       "object_fit": null,
       "object_position": null,
       "order": null,
       "overflow": null,
       "padding": null,
       "right": null,
       "top": null,
       "visibility": null,
       "width": null
      }
     },
     "c25a0390e5334b90ae62e01b9561532f": {
      "model_module": "@jupyter-widgets/controls",
      "model_module_version": "2.0.0",
      "model_name": "HTMLStyleModel",
      "state": {
       "_model_module": "@jupyter-widgets/controls",
       "_model_module_version": "2.0.0",
       "_model_name": "HTMLStyleModel",
       "_view_count": null,
       "_view_module": "@jupyter-widgets/base",
       "_view_module_version": "2.0.0",
       "_view_name": "StyleView",
       "background": null,
       "description_width": "",
       "font_size": null,
       "text_color": null
      }
     },
     "ca355c9c5e2d477b968d83a605fa5d13": {
      "model_module": "@jupyter-widgets/controls",
      "model_module_version": "2.0.0",
      "model_name": "HTMLStyleModel",
      "state": {
       "_model_module": "@jupyter-widgets/controls",
       "_model_module_version": "2.0.0",
       "_model_name": "HTMLStyleModel",
       "_view_count": null,
       "_view_module": "@jupyter-widgets/base",
       "_view_module_version": "2.0.0",
       "_view_name": "StyleView",
       "background": null,
       "description_width": "",
       "font_size": null,
       "text_color": null
      }
     },
     "f052aa53ba394ccf80e66b9b482c038b": {
      "model_module": "@jupyter-widgets/base",
      "model_module_version": "2.0.0",
      "model_name": "LayoutModel",
      "state": {
       "_model_module": "@jupyter-widgets/base",
       "_model_module_version": "2.0.0",
       "_model_name": "LayoutModel",
       "_view_count": null,
       "_view_module": "@jupyter-widgets/base",
       "_view_module_version": "2.0.0",
       "_view_name": "LayoutView",
       "align_content": null,
       "align_items": null,
       "align_self": null,
       "border_bottom": null,
       "border_left": null,
       "border_right": null,
       "border_top": null,
       "bottom": null,
       "display": null,
       "flex": null,
       "flex_flow": null,
       "grid_area": null,
       "grid_auto_columns": null,
       "grid_auto_flow": null,
       "grid_auto_rows": null,
       "grid_column": null,
       "grid_gap": null,
       "grid_row": null,
       "grid_template_areas": null,
       "grid_template_columns": null,
       "grid_template_rows": null,
       "height": null,
       "justify_content": null,
       "justify_items": null,
       "left": null,
       "margin": null,
       "max_height": null,
       "max_width": null,
       "min_height": null,
       "min_width": null,
       "object_fit": null,
       "object_position": null,
       "order": null,
       "overflow": null,
       "padding": null,
       "right": null,
       "top": null,
       "visibility": null,
       "width": null
      }
     },
     "f62d8978bac441f8b3b5a0d0a95dae6f": {
      "model_module": "@jupyter-widgets/controls",
      "model_module_version": "2.0.0",
      "model_name": "ProgressStyleModel",
      "state": {
       "_model_module": "@jupyter-widgets/controls",
       "_model_module_version": "2.0.0",
       "_model_name": "ProgressStyleModel",
       "_view_count": null,
       "_view_module": "@jupyter-widgets/base",
       "_view_module_version": "2.0.0",
       "_view_name": "StyleView",
       "bar_color": null,
       "description_width": ""
      }
     }
    },
    "version_major": 2,
    "version_minor": 0
   }
  }
 },
 "nbformat": 4,
 "nbformat_minor": 4
}

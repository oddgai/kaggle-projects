{
 "cells": [
  {
   "cell_type": "markdown",
   "metadata": {},
   "source": [
    "# exp002 - 過学習対策版モデル\n",
    "\n",
    "exp001の課題（CVスコア84.96% vs Kaggleスコア77.27%のギャップ）を解決するため、過学習対策を強化"
   ]
  },
  {
   "cell_type": "code",
   "execution_count": 1,
   "metadata": {},
   "outputs": [],
   "source": [
    "import pandas as pd\n",
    "import numpy as np\n",
    "import matplotlib.pyplot as plt\n",
    "import seaborn as sns\n",
    "import warnings\n",
    "import japanize_matplotlib\n",
    "\n",
    "from sklearn.model_selection import train_test_split, StratifiedKFold\n",
    "from sklearn.preprocessing import LabelEncoder\n",
    "from sklearn.metrics import accuracy_score, classification_report, confusion_matrix\n",
    "import lightgbm as lgb\n",
    "\n",
    "warnings.filterwarnings('ignore')\n",
    "pd.set_option('display.max_columns', None)\n",
    "plt.rcParams['font.family'] = 'IPAexGothic'\n",
    "sns.set_palette('husl')"
   ]
  },
  {
   "cell_type": "markdown",
   "metadata": {},
   "source": [
    "## データの読み込みと前処理\n",
    "\n",
    "exp001と同じ特徴量エンジニアリングを使用"
   ]
  },
  {
   "cell_type": "code",
   "execution_count": 2,
   "metadata": {},
   "outputs": [
    {
     "name": "stdout",
     "output_type": "stream",
     "text": [
      "訓練データ: (891, 12)\n",
      "テストデータ: (418, 11)\n",
      "全データ: (1309, 12)\n"
     ]
    }
   ],
   "source": [
    "# データの読み込み\n",
    "train_df = pd.read_csv('../../data/train.csv')\n",
    "test_df = pd.read_csv('../../data/test.csv')\n",
    "\n",
    "print(f\"訓練データ: {train_df.shape}\")\n",
    "print(f\"テストデータ: {test_df.shape}\")\n",
    "\n",
    "# 全データを結合（特徴量エンジニアリングのため）\n",
    "all_data = pd.concat([train_df, test_df], sort=False).reset_index(drop=True)\n",
    "print(f\"全データ: {all_data.shape}\")"
   ]
  },
  {
   "cell_type": "code",
   "execution_count": null,
   "metadata": {},
   "outputs": [
    {
     "name": "stdout",
     "output_type": "stream",
     "text": [
      "特徴量エンジニアリング完了\n",
      "新しい特徴量数: 22\n"
     ]
    }
   ],
   "source": [
    "def feature_engineering(df):\n",
    "    \"\"\"\n",
    "    exp001と同じ特徴量エンジニアリングを実行\n",
    "    \"\"\"\n",
    "    df = df.copy()\n",
    "\n",
    "    # 1. 称号（Title）の抽出\n",
    "    df['Title'] = df['Name'].str.extract(' ([A-Za-z]+)\\.', expand=False)\n",
    "\n",
    "    # 称号のグルーピング\n",
    "    title_mapping = {\n",
    "        'Mr': 'Mr', 'Miss': 'Miss', 'Mrs': 'Mrs', 'Master': 'Master',\n",
    "        'Dr': 'Rare', 'Rev': 'Rare', 'Col': 'Rare', 'Major': 'Rare',\n",
    "        'Mlle': 'Miss', 'Countess': 'Rare', 'Ms': 'Miss', 'Lady': 'Rare',\n",
    "        'Jonkheer': 'Rare', 'Don': 'Rare', 'Dona': 'Rare', 'Mme': 'Mrs',\n",
    "        'Capt': 'Rare', 'Sir': 'Rare'\n",
    "    }\n",
    "    df['Title'] = df['Title'].map(title_mapping)\n",
    "    df['Title'] = df['Title'].fillna('Other')\n",
    "\n",
    "    # 2. 家族サイズ\n",
    "    df['FamilySize'] = df['SibSp'] + df['Parch'] + 1\n",
    "\n",
    "    # 3. 一人旅フラグ\n",
    "    df['IsAlone'] = (df['FamilySize'] == 1).astype(int)\n",
    "\n",
    "    # 4. 家族サイズのカテゴリ化\n",
    "    df['FamilySizeGroup'] = 'Medium'\n",
    "    df.loc[df['FamilySize'] == 1, 'FamilySizeGroup'] = 'Alone'\n",
    "    df.loc[df['FamilySize'] >= 5, 'FamilySizeGroup'] = 'Large'\n",
    "\n",
    "    # 5. 年齢のビニング\n",
    "    # 年齢の欠損値を称号で補完\n",
    "    age_by_title = df.groupby('Title')['Age'].median()\n",
    "    for title in age_by_title.index:\n",
    "        df.loc[(df['Age'].isnull()) & (df['Title'] == title), 'Age'] = age_by_title[title]\n",
    "\n",
    "    # 年齢をカテゴリ化\n",
    "    df['AgeBin'] = pd.cut(df['Age'], bins=[0, 12, 20, 40, 120], labels=['Child', 'Teenager', 'Adult', 'Elder'])\n",
    "\n",
    "    # 6. 運賃のビニング\n",
    "    # 運賃の欠損値をクラスの中央値で補完\n",
    "    df['Fare'] = df['Fare'].fillna(df['Fare'].median())\n",
    "    df['FareBin'] = pd.qcut(df['Fare'], q=4, labels=['Low', 'Medium', 'High', 'VeryHigh'])\n",
    "\n",
    "    # 7. Cabinの有無\n",
    "    df['HasCabin'] = df['Cabin'].notna().astype(int)\n",
    "\n",
    "    # 8. 乗船港の欠損値補完\n",
    "    df['Embarked'] = df['Embarked'].fillna('S')\n",
    "\n",
    "    # 9. 性別×クラスの組み合わせ特徴量\n",
    "    df['Sex_Pclass'] = df['Sex'] + '_' + df['Pclass'].astype(str)\n",
    "\n",
    "    # 10. チケット番号の特徴量\n",
    "    df['TicketPrefix'] = df['Ticket'].str.extract('([A-Za-z]+)', expand=False)\n",
    "    df['TicketPrefix'] = df['TicketPrefix'].fillna('None')\n",
    "    df['HasTicketPrefix'] = (df['TicketPrefix'] != 'None').astype(int)\n",
    "\n",
    "    return df\n",
    "\n",
    "# 特徴量エンジニアリングを実行\n",
    "all_data = feature_engineering(all_data)\n",
    "print(\"特徴量エンジニアリング完了\")\n",
    "print(f\"新しい特徴量数: {all_data.shape[1]}\")"
   ]
  },
  {
   "cell_type": "code",
   "execution_count": 4,
   "metadata": {},
   "outputs": [
    {
     "name": "stdout",
     "output_type": "stream",
     "text": [
      "ラベルエンコーディング完了\n"
     ]
    }
   ],
   "source": [
    "# カテゴリカル変数をエンコード\n",
    "categorical_features = ['Sex', 'Embarked', 'Title', 'FamilySizeGroup', 'AgeBin', 'FareBin', 'Sex_Pclass', 'TicketPrefix']\n",
    "\n",
    "# Label Encoding\n",
    "label_encoders = {}\n",
    "for feature in categorical_features:\n",
    "    le = LabelEncoder()\n",
    "    all_data[feature] = le.fit_transform(all_data[feature].astype(str))\n",
    "    label_encoders[feature] = le\n",
    "\n",
    "print(\"ラベルエンコーディング完了\")"
   ]
  },
  {
   "cell_type": "code",
   "execution_count": 5,
   "metadata": {},
   "outputs": [
    {
     "name": "stdout",
     "output_type": "stream",
     "text": [
      "訓練データ特徴量: (891, 16)\n",
      "テストデータ特徴量: (418, 16)\n",
      "使用特徴量: ['Pclass', 'Sex', 'Age', 'SibSp', 'Parch', 'Fare', 'Embarked', 'Title', 'FamilySize', 'IsAlone', 'FamilySizeGroup', 'AgeBin', 'FareBin', 'HasCabin', 'Sex_Pclass', 'HasTicketPrefix']\n"
     ]
    }
   ],
   "source": [
    "# 使用する特徴量を選択\n",
    "features_to_use = [\n",
    "    'Pclass', 'Sex', 'Age', 'SibSp', 'Parch', 'Fare', 'Embarked',\n",
    "    'Title', 'FamilySize', 'IsAlone', 'FamilySizeGroup', 'AgeBin', 'FareBin',\n",
    "    'HasCabin', 'Sex_Pclass', 'HasTicketPrefix'\n",
    "]\n",
    "\n",
    "# 訓練・テストデータに分割\n",
    "train_data = all_data[:len(train_df)].copy()\n",
    "test_data = all_data[len(train_df):].copy()\n",
    "\n",
    "X = train_data[features_to_use]\n",
    "y = train_data['Survived']\n",
    "X_test = test_data[features_to_use]\n",
    "\n",
    "print(f\"訓練データ特徴量: {X.shape}\")\n",
    "print(f\"テストデータ特徴量: {X_test.shape}\")\n",
    "print(f\"使用特徴量: {features_to_use}\")"
   ]
  },
  {
   "cell_type": "markdown",
   "metadata": {},
   "source": [
    "## 過学習対策を強化したモデル設定\n",
    "\n",
    "### exp001からの変更点\n",
    "1. **num_leaves**: 31 → 15（モデル複雑度を大幅削減）\n",
    "2. **learning_rate**: 0.05 → 0.03（より慎重な学習）\n",
    "3. **feature_fraction**: 0.9 → 0.7（特徴量サブサンプリング強化）\n",
    "4. **min_data_in_leaf**: 追加（各葉に必要な最小サンプル数）\n",
    "5. **lambda_l1**, **lambda_l2**: 正則化項を追加\n",
    "6. **min_gain_to_split**: 分割に必要な最小ゲインを設定"
   ]
  },
  {
   "cell_type": "code",
   "execution_count": 6,
   "metadata": {},
   "outputs": [
    {
     "name": "stdout",
     "output_type": "stream",
     "text": [
      "訓練データ: (712, 16)\n",
      "検証データ: (179, 16)\n"
     ]
    }
   ],
   "source": [
    "# 訓練・検証データの分割\n",
    "X_train, X_val, y_train, y_val = train_test_split(\n",
    "    X, y, test_size=0.2, random_state=42, stratify=y\n",
    ")\n",
    "\n",
    "print(f\"訓練データ: {X_train.shape}\")\n",
    "print(f\"検証データ: {X_val.shape}\")"
   ]
  },
  {
   "cell_type": "code",
   "execution_count": 7,
   "metadata": {},
   "outputs": [
    {
     "name": "stdout",
     "output_type": "stream",
     "text": [
      "=== パラメータ比較 ===\n",
      "exp001 → exp002\n",
      "num_leaves: 31 → 15\n",
      "learning_rate: 0.05 → 0.03\n",
      "feature_fraction: 0.9 → 0.7\n",
      "新規追加: min_data_in_leaf=50\n",
      "新規追加: lambda_l1=0.1, lambda_l2=0.1\n"
     ]
    }
   ],
   "source": [
    "# exp001の設定（比較用）\n",
    "lgb_params_exp001 = {\n",
    "    'objective': 'binary',\n",
    "    'metric': 'binary_logloss',\n",
    "    'boosting_type': 'gbdt',\n",
    "    'num_leaves': 31,\n",
    "    'learning_rate': 0.05,\n",
    "    'feature_fraction': 0.9,\n",
    "    'bagging_fraction': 0.8,\n",
    "    'bagging_freq': 5,\n",
    "    'verbose': -1,\n",
    "    'random_state': 42\n",
    "}\n",
    "\n",
    "# exp002の過学習対策強化版\n",
    "lgb_params_exp002 = {\n",
    "    'objective': 'binary',\n",
    "    'metric': 'binary_logloss',\n",
    "    'boosting_type': 'gbdt',\n",
    "    'num_leaves': 15,           # 31 → 15（大幅削減）\n",
    "    'learning_rate': 0.03,      # 0.05 → 0.03（より慎重）\n",
    "    'feature_fraction': 0.7,    # 0.9 → 0.7（サブサンプリング強化）\n",
    "    'bagging_fraction': 0.8,    # 維持\n",
    "    'bagging_freq': 5,          # 維持\n",
    "    'min_data_in_leaf': 50,     # 新規追加（各葉の最小サンプル数）\n",
    "    'lambda_l1': 0.1,           # L1正則化項\n",
    "    'lambda_l2': 0.1,           # L2正則化項\n",
    "    'min_gain_to_split': 0.1,   # 分割に必要な最小ゲイン\n",
    "    'verbose': -1,\n",
    "    'random_state': 42\n",
    "}\n",
    "\n",
    "print(\"=== パラメータ比較 ===\")\n",
    "print(\"exp001 → exp002\")\n",
    "print(f\"num_leaves: {lgb_params_exp001['num_leaves']} → {lgb_params_exp002['num_leaves']}\")\n",
    "print(f\"learning_rate: {lgb_params_exp001['learning_rate']} → {lgb_params_exp002['learning_rate']}\")\n",
    "print(f\"feature_fraction: {lgb_params_exp001['feature_fraction']} → {lgb_params_exp002['feature_fraction']}\")\n",
    "print(f\"新規追加: min_data_in_leaf={lgb_params_exp002['min_data_in_leaf']}\")\n",
    "print(f\"新規追加: lambda_l1={lgb_params_exp002['lambda_l1']}, lambda_l2={lgb_params_exp002['lambda_l2']}\")"
   ]
  },
  {
   "cell_type": "markdown",
   "metadata": {},
   "source": [
    "## exp001モデル（参考用）"
   ]
  },
  {
   "cell_type": "code",
   "execution_count": 8,
   "metadata": {},
   "outputs": [
    {
     "name": "stdout",
     "output_type": "stream",
     "text": [
      "=== exp001モデル訓練中 ===\n",
      "Training until validation scores don't improve for 100 rounds\n",
      "[100]\ttrain's binary_logloss: 0.230291\tvalid's binary_logloss: 0.461034\n",
      "Early stopping, best iteration is:\n",
      "[55]\ttrain's binary_logloss: 0.300234\tvalid's binary_logloss: 0.443698\n",
      "exp001 検証精度: 0.8212\n",
      "exp001 最適イテレーション: 55\n"
     ]
    }
   ],
   "source": [
    "print(\"=== exp001モデル訓練中 ===\")\n",
    "\n",
    "# LightGBMデータセットの作成\n",
    "train_dataset = lgb.Dataset(X_train, label=y_train)\n",
    "val_dataset = lgb.Dataset(X_val, label=y_val, reference=train_dataset)\n",
    "\n",
    "# exp001モデルの訓練\n",
    "model_exp001 = lgb.train(\n",
    "    lgb_params_exp001,\n",
    "    train_dataset,\n",
    "    num_boost_round=1000,\n",
    "    valid_sets=[train_dataset, val_dataset],\n",
    "    valid_names=['train', 'valid'],\n",
    "    callbacks=[lgb.early_stopping(100), lgb.log_evaluation(100)]\n",
    ")\n",
    "\n",
    "# exp001の検証結果\n",
    "y_pred_exp001 = model_exp001.predict(X_val, num_iteration=model_exp001.best_iteration)\n",
    "y_pred_binary_exp001 = (y_pred_exp001 > 0.5).astype(int)\n",
    "val_accuracy_exp001 = accuracy_score(y_val, y_pred_binary_exp001)\n",
    "\n",
    "print(f\"exp001 検証精度: {val_accuracy_exp001:.4f}\")\n",
    "print(f\"exp001 最適イテレーション: {model_exp001.best_iteration}\")"
   ]
  },
  {
   "cell_type": "markdown",
   "metadata": {},
   "source": [
    "## exp002モデル（過学習対策版）"
   ]
  },
  {
   "cell_type": "code",
   "execution_count": 9,
   "metadata": {},
   "outputs": [
    {
     "name": "stdout",
     "output_type": "stream",
     "text": [
      "=== exp002モデル訓練中 ===\n",
      "Training until validation scores don't improve for 100 rounds\n",
      "[100]\ttrain's binary_logloss: 0.370565\tvalid's binary_logloss: 0.438222\n",
      "[200]\ttrain's binary_logloss: 0.326386\tvalid's binary_logloss: 0.431595\n",
      "Early stopping, best iteration is:\n",
      "[178]\ttrain's binary_logloss: 0.333137\tvalid's binary_logloss: 0.430686\n",
      "exp002 検証精度: 0.8212\n",
      "exp002 最適イテレーション: 178\n"
     ]
    }
   ],
   "source": [
    "print(\"=== exp002モデル訓練中 ===\")\n",
    "\n",
    "# exp002モデルの訓練\n",
    "model_exp002 = lgb.train(\n",
    "    lgb_params_exp002,\n",
    "    train_dataset,\n",
    "    num_boost_round=1000,\n",
    "    valid_sets=[train_dataset, val_dataset],\n",
    "    valid_names=['train', 'valid'],\n",
    "    callbacks=[lgb.early_stopping(100), lgb.log_evaluation(100)]\n",
    ")\n",
    "\n",
    "# exp002の検証結果\n",
    "y_pred_exp002 = model_exp002.predict(X_val, num_iteration=model_exp002.best_iteration)\n",
    "y_pred_binary_exp002 = (y_pred_exp002 > 0.5).astype(int)\n",
    "val_accuracy_exp002 = accuracy_score(y_val, y_pred_binary_exp002)\n",
    "\n",
    "print(f\"exp002 検証精度: {val_accuracy_exp002:.4f}\")\n",
    "print(f\"exp002 最適イテレーション: {model_exp002.best_iteration}\")"
   ]
  },
  {
   "cell_type": "code",
   "execution_count": 10,
   "metadata": {},
   "outputs": [
    {
     "name": "stdout",
     "output_type": "stream",
     "text": [
      "=== 検証結果比較 ===\n",
      "exp001 検証精度: 0.8212\n",
      "exp002 検証精度: 0.8212\n",
      "精度差: 0.0000\n",
      "exp001 最適イテレーション: 55\n",
      "exp002 最適イテレーション: 178\n"
     ]
    }
   ],
   "source": [
    "# 結果比較\n",
    "print(\"=== 検証結果比較 ===\")\n",
    "print(f\"exp001 検証精度: {val_accuracy_exp001:.4f}\")\n",
    "print(f\"exp002 検証精度: {val_accuracy_exp002:.4f}\")\n",
    "print(f\"精度差: {val_accuracy_exp002 - val_accuracy_exp001:.4f}\")\n",
    "print(f\"exp001 最適イテレーション: {model_exp001.best_iteration}\")\n",
    "print(f\"exp002 最適イテレーション: {model_exp002.best_iteration}\")"
   ]
  },
  {
   "cell_type": "markdown",
   "metadata": {},
   "source": [
    "## 5-fold クロスバリデーション比較"
   ]
  },
  {
   "cell_type": "code",
   "execution_count": null,
   "metadata": {},
   "outputs": [
    {
     "name": "stdout",
     "output_type": "stream",
     "text": [
      "=== exp001 5-fold CV ===\n",
      "Training until validation scores don't improve for 100 rounds\n",
      "Early stopping, best iteration is:\n",
      "[114]\tvalid_0's binary_logloss: 0.369859\n",
      "Fold 1: 0.8603\n",
      "Training until validation scores don't improve for 100 rounds\n",
      "Early stopping, best iteration is:\n",
      "[76]\tvalid_0's binary_logloss: 0.377865\n",
      "Fold 2: 0.8652\n",
      "Training until validation scores don't improve for 100 rounds\n",
      "Early stopping, best iteration is:\n",
      "[64]\tvalid_0's binary_logloss: 0.428052\n",
      "Fold 3: 0.8315\n",
      "Training until validation scores don't improve for 100 rounds\n",
      "Early stopping, best iteration is:\n",
      "[115]\tvalid_0's binary_logloss: 0.398408\n",
      "Fold 4: 0.8371\n",
      "Training until validation scores don't improve for 100 rounds\n",
      "Early stopping, best iteration is:\n",
      "[110]\tvalid_0's binary_logloss: 0.360075\n",
      "Fold 5: 0.8539\n",
      "exp001 CV平均: 0.8496 (+/- 0.0263)\n",
      "=== exp002 5-fold CV ===\n",
      "Training until validation scores don't improve for 100 rounds\n",
      "Early stopping, best iteration is:\n",
      "[671]\tvalid_0's binary_logloss: 0.343975\n",
      "Fold 1: 0.8659\n",
      "Training until validation scores don't improve for 100 rounds\n",
      "Early stopping, best iteration is:\n",
      "[373]\tvalid_0's binary_logloss: 0.370573\n",
      "Fold 2: 0.8596\n",
      "Training until validation scores don't improve for 100 rounds\n",
      "Early stopping, best iteration is:\n",
      "[115]\tvalid_0's binary_logloss: 0.428301\n",
      "Fold 3: 0.8146\n",
      "Training until validation scores don't improve for 100 rounds\n",
      "Early stopping, best iteration is:\n",
      "[445]\tvalid_0's binary_logloss: 0.384615\n",
      "Fold 4: 0.8427\n",
      "Training until validation scores don't improve for 100 rounds\n",
      "Early stopping, best iteration is:\n",
      "[195]\tvalid_0's binary_logloss: 0.392832\n",
      "Fold 5: 0.8483\n",
      "exp002 CV平均: 0.8462 (+/- 0.0356)\n"
     ]
    }
   ],
   "source": [
    "# 5-fold クロスバリデーション\n",
    "kf = StratifiedKFold(n_splits=5, shuffle=True, random_state=42)\n",
    "\n",
    "def cross_validate_model(params, model_name):\n",
    "    cv_scores = []\n",
    "    print(f\"=== {model_name} 5-fold CV ===\")\n",
    "\n",
    "    for fold, (train_idx, val_idx) in enumerate(kf.split(X, y)):\n",
    "        X_train_fold, X_val_fold = X.iloc[train_idx], X.iloc[val_idx]\n",
    "        y_train_fold, y_val_fold = y.iloc[train_idx], y.iloc[val_idx]\n",
    "\n",
    "        # データセット作成\n",
    "        train_dataset = lgb.Dataset(X_train_fold, label=y_train_fold)\n",
    "        val_dataset = lgb.Dataset(X_val_fold, label=y_val_fold, reference=train_dataset)\n",
    "\n",
    "        # モデル訓練\n",
    "        fold_model = lgb.train(\n",
    "            params,\n",
    "            train_dataset,\n",
    "            num_boost_round=1000,\n",
    "            valid_sets=[val_dataset],\n",
    "            callbacks=[lgb.early_stopping(100), lgb.log_evaluation(0)]\n",
    "        )\n",
    "\n",
    "        # 予測と評価\n",
    "        y_pred_fold = fold_model.predict(X_val_fold, num_iteration=fold_model.best_iteration)\n",
    "        y_pred_fold_binary = (y_pred_fold > 0.5).astype(int)\n",
    "        fold_score = accuracy_score(y_val_fold, y_pred_fold_binary)\n",
    "        cv_scores.append(fold_score)\n",
    "\n",
    "        print(f\"Fold {fold+1}: {fold_score:.4f}\")\n",
    "\n",
    "    cv_mean = np.mean(cv_scores)\n",
    "    cv_std = np.std(cv_scores)\n",
    "    print(f\"{model_name} CV平均: {cv_mean:.4f} (+/- {cv_std*2:.4f})\")\n",
    "    return cv_mean, cv_std\n",
    "\n",
    "# exp001とexp002のCV比較\n",
    "cv_mean_001, cv_std_001 = cross_validate_model(lgb_params_exp001, \"exp001\")\n",
    "cv_mean_002, cv_std_002 = cross_validate_model(lgb_params_exp002, \"exp002\")"
   ]
  },
  {
   "cell_type": "code",
   "execution_count": 12,
   "metadata": {},
   "outputs": [
    {
     "name": "stdout",
     "output_type": "stream",
     "text": [
      "=== クロスバリデーション結果比較 ===\n",
      "exp001 CV: 0.8496 (+/- 0.0263)\n",
      "exp002 CV: 0.8462 (+/- 0.0356)\n",
      "CV平均差: -0.0034\n",
      "標準偏差改善: -0.0047\n",
      "\n",
      "=== 過学習指標（参考） ===\n",
      "exp001: 検証精度 0.8212 vs CV平均 0.8496 (差: -0.0284)\n",
      "exp002: 検証精度 0.8212 vs CV平均 0.8462 (差: -0.0250)\n"
     ]
    }
   ],
   "source": [
    "print(\"=== クロスバリデーション結果比較 ===\")\n",
    "print(f\"exp001 CV: {cv_mean_001:.4f} (+/- {cv_std_001*2:.4f})\")\n",
    "print(f\"exp002 CV: {cv_mean_002:.4f} (+/- {cv_std_002*2:.4f})\")\n",
    "print(f\"CV平均差: {cv_mean_002 - cv_mean_001:.4f}\")\n",
    "print(f\"標準偏差改善: {cv_std_001 - cv_std_002:.4f}\")\n",
    "\n",
    "# 過学習の指標（訓練精度とCV精度の差）\n",
    "# 注意：厳密には訓練データ全体での精度が必要だが、検証データでの比較で代用\n",
    "print(\"\\n=== 過学習指標（参考） ===\")\n",
    "print(f\"exp001: 検証精度 {val_accuracy_exp001:.4f} vs CV平均 {cv_mean_001:.4f} (差: {val_accuracy_exp001 - cv_mean_001:.4f})\")\n",
    "print(f\"exp002: 検証精度 {val_accuracy_exp002:.4f} vs CV平均 {cv_mean_002:.4f} (差: {val_accuracy_exp002 - cv_mean_002:.4f})\")"
   ]
  },
  {
   "cell_type": "markdown",
   "metadata": {},
   "source": [
    "## 特徴量重要度比較"
   ]
  },
  {
   "cell_type": "code",
   "execution_count": 13,
   "metadata": {},
   "outputs": [
    {
     "name": "stdout",
     "output_type": "stream",
     "text": [
      "=== 特徴量重要度比較（上位10） ===\n",
      "            feature       exp001       exp002         diff\n",
      "14       Sex_Pclass  1462.747789  2542.523666  1079.775876\n",
      "1               Sex   877.697547  1144.066859   266.369312\n",
      "2               Age   709.002307   750.981180    41.978872\n",
      "5              Fare   535.731834   658.301215   122.569381\n",
      "7             Title    98.544382   405.873052   307.328670\n",
      "13         HasCabin   162.364090   334.428117   172.064027\n",
      "0            Pclass   156.645597   209.727301    53.081704\n",
      "8        FamilySize   117.774753   193.097796    75.323043\n",
      "10  FamilySizeGroup    75.989385   165.829542    89.840157\n",
      "6          Embarked   124.738303   151.349618    26.611315\n"
     ]
    }
   ],
   "source": [
    "# 特徴量重要度の比較\n",
    "importance_exp001 = model_exp001.feature_importance(importance_type='gain')\n",
    "importance_exp002 = model_exp002.feature_importance(importance_type='gain')\n",
    "\n",
    "feature_importance_comparison = pd.DataFrame({\n",
    "    'feature': features_to_use,\n",
    "    'exp001': importance_exp001,\n",
    "    'exp002': importance_exp002\n",
    "})\n",
    "feature_importance_comparison['diff'] = feature_importance_comparison['exp002'] - feature_importance_comparison['exp001']\n",
    "feature_importance_comparison = feature_importance_comparison.sort_values('exp002', ascending=False)\n",
    "\n",
    "print(\"=== 特徴量重要度比較（上位10） ===\")\n",
    "print(feature_importance_comparison.head(10))"
   ]
  },
  {
   "cell_type": "code",
   "execution_count": 14,
   "metadata": {},
   "outputs": [
    {
     "data": {
      "image/png": "[encoded data removed]",
      "text/plain": [
       "<Figure size 2000x800 with 2 Axes>"
      ]
     },
     "metadata": {},
     "output_type": "display_data"
    }
   ],
   "source": [
    "# 特徴量重要度の可視化比較\n",
    "fig, (ax1, ax2) = plt.subplots(1, 2, figsize=(20, 8))\n",
    "\n",
    "# exp001\n",
    "top10_exp001 = feature_importance_comparison.head(10)\n",
    "sns.barplot(data=top10_exp001, x='exp001', y='feature', ax=ax1)\n",
    "ax1.set_title('exp001 特徴量重要度（Top 10）')\n",
    "ax1.set_xlabel('重要度')\n",
    "\n",
    "# exp002\n",
    "sns.barplot(data=top10_exp001, x='exp002', y='feature', ax=ax2)\n",
    "ax2.set_title('exp002 特徴量重要度（Top 10）')\n",
    "ax2.set_xlabel('重要度')\n",
    "\n",
    "plt.tight_layout()\n",
    "plt.show()"
   ]
  },
  {
   "cell_type": "markdown",
   "metadata": {},
   "source": [
    "## テストデータでの予測"
   ]
  },
  {
   "cell_type": "code",
   "execution_count": 15,
   "metadata": {},
   "outputs": [
    {
     "name": "stdout",
     "output_type": "stream",
     "text": [
      "=== exp002最終モデル訓練中 ===\n",
      "exp002 テスト予測完了\n",
      "生存予測数: 147\n",
      "死亡予測数: 271\n",
      "生存率: 0.3517\n"
     ]
    }
   ],
   "source": [
    "# exp002の最終モデルで予測\n",
    "print(\"=== exp002最終モデル訓練中 ===\")\n",
    "full_train_dataset = lgb.Dataset(X, label=y)\n",
    "final_model_exp002 = lgb.train(\n",
    "    lgb_params_exp002,\n",
    "    full_train_dataset,\n",
    "    num_boost_round=model_exp002.best_iteration\n",
    ")\n",
    "\n",
    "# テストデータで予測\n",
    "test_predictions_exp002 = final_model_exp002.predict(X_test)\n",
    "test_predictions_binary_exp002 = (test_predictions_exp002 > 0.5).astype(int)\n",
    "\n",
    "print(f\"exp002 テスト予測完了\")\n",
    "print(f\"生存予測数: {test_predictions_binary_exp002.sum()}\")\n",
    "print(f\"死亡予測数: {len(test_predictions_binary_exp002) - test_predictions_binary_exp002.sum()}\")\n",
    "print(f\"生存率: {test_predictions_binary_exp002.mean():.4f}\")"
   ]
  },
  {
   "cell_type": "markdown",
   "metadata": {},
   "source": [
    "## 提出ファイルの作成"
   ]
  },
  {
   "cell_type": "code",
   "execution_count": 16,
   "metadata": {},
   "outputs": [
    {
     "name": "stdout",
     "output_type": "stream",
     "text": [
      "提出ファイルを保存しました: ../../results/exp002/submission.csv\n",
      "\n",
      "提出ファイルの最初の10行:\n",
      "     PassengerId  Survived\n",
      "891          892         0\n",
      "892          893         0\n",
      "893          894         0\n",
      "894          895         0\n",
      "895          896         0\n",
      "896          897         0\n",
      "897          898         1\n",
      "898          899         0\n",
      "899          900         1\n",
      "900          901         0\n"
     ]
    }
   ],
   "source": [
    "# 提出ファイルの作成\n",
    "submission_exp002 = pd.DataFrame({\n",
    "    'PassengerId': test_data['PassengerId'],\n",
    "    'Survived': test_predictions_binary_exp002\n",
    "})\n",
    "\n",
    "# results/exp002ディレクトリを作成\n",
    "import os\n",
    "os.makedirs('../../results/exp002', exist_ok=True)\n",
    "\n",
    "# ファイルを保存\n",
    "submission_exp002.to_csv('../../results/exp002/submission.csv', index=False)\n",
    "print(\"提出ファイルを保存しました: ../../results/exp002/submission.csv\")\n",
    "\n",
    "# 提出ファイルの確認\n",
    "print(\"\\n提出ファイルの最初の10行:\")\n",
    "print(submission_exp002.head(10))"
   ]
  },
  {
   "cell_type": "markdown",
   "metadata": {},
   "source": [
    "## 実験結果まとめ\n",
    "\n",
    "### 過学習対策の効果\n",
    "\n",
    "#### パラメータ変更点\n",
    "1. **num_leaves**: 31 → 15（モデル複雑度削減）\n",
    "2. **learning_rate**: 0.05 → 0.03（学習率低下）\n",
    "3. **feature_fraction**: 0.9 → 0.7（特徴量サブサンプリング強化）\n",
    "4. **min_data_in_leaf**: 50（新規追加）\n",
    "5. **正則化項**: lambda_l1=0.1, lambda_l2=0.1（新規追加）\n",
    "6. **min_gain_to_split**: 0.1（新規追加）\n",
    "\n",
    "#### 期待される効果\n",
    "- CVとKaggleスコアのギャップ縮小\n",
    "- より汎化性能の高いモデル\n",
    "- 安定性の向上（標準偏差の減少）\n",
    "\n",
    "### 次のステップ\n",
    "- Kaggleでの実際のスコア確認\n",
    "- さらなる改善が必要な場合は特徴量選択やアンサンブルを検討"
   ]
  }
 ],
 "metadata": {
  "kernelspec": {
   "display_name": "titanic",
   "language": "python",
   "name": "python3"
  },
  "language_info": {
   "codemirror_mode": {
    "name": "ipython",
    "version": 3
   },
   "file_extension": ".py",
   "mimetype": "text/x-python",
   "name": "python",
   "nbconvert_exporter": "python",
   "pygments_lexer": "ipython3",
   "version": "3.12.11"
  }
 },
 "nbformat": 4,
 "nbformat_minor": 4
}

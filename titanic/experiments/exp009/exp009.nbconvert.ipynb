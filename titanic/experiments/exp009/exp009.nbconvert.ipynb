{
 "cells": [
  {
   "cell_type": "markdown",
   "metadata": {},
   "source": [
    "# exp009 - Perfect Ensemble Strategy: 0.83の壁を突破せよ！\n",
    "\n",
    "## 🎯 目標\n",
    "- exp008（0.78468）から大幅改善\n",
    "- アンサンブル手法で0.83を目指す\n",
    "- 特徴量最適化 + Perfect Stacking + ハイパーパラメータ最適化"
   ]
  },
  {
   "cell_type": "code",
   "execution_count": 1,
   "metadata": {
    "execution": {
     "iopub.execute_input": "2025-09-02T02:50:30.210709Z",
     "iopub.status.busy": "2025-09-02T02:50:30.210567Z",
     "iopub.status.idle": "2025-09-02T02:50:31.113837Z",
     "shell.execute_reply": "2025-09-02T02:50:31.113630Z"
    }
   },
   "outputs": [
    {
     "name": "stdout",
     "output_type": "stream",
     "text": [
      "🚀 exp009 - Perfect Ensemble Strategy\n",
      "目標: 0.83の壁を突破！\n",
      "\n",
      "データ読み込み完了:\n",
      "  訓練データ: 891件\n",
      "  テストデータ: 418件\n"
     ]
    }
   ],
   "source": [
    "import pandas as pd\n",
    "import numpy as np\n",
    "import matplotlib.pyplot as plt\n",
    "import seaborn as sns\n",
    "import japanize_matplotlib\n",
    "import warnings\n",
    "warnings.filterwarnings('ignore')\n",
    "\n",
    "# ML libraries\n",
    "import lightgbm as lgb\n",
    "import xgboost as xgb\n",
    "from sklearn.ensemble import RandomForestClassifier, ExtraTreesClassifier\n",
    "from sklearn.svm import SVC\n",
    "from sklearn.linear_model import LogisticRegression\n",
    "from sklearn.model_selection import StratifiedKFold, cross_val_score\n",
    "from sklearn.metrics import accuracy_score\n",
    "from sklearn.preprocessing import LabelEncoder, StandardScaler, RobustScaler\n",
    "from sklearn.impute import KNNImputer\n",
    "from sklearn.experimental import enable_iterative_imputer  # この行を追加\n",
    "from sklearn.impute import IterativeImputer\n",
    "from sklearn.feature_selection import SelectKBest, f_classif\n",
    "import optuna\n",
    "import re\n",
    "\n",
    "plt.rcParams['font.family'] = 'IPAexGothic'\n",
    "print(\"🚀 exp009 - Perfect Ensemble Strategy\")\n",
    "print(\"目標: 0.83の壁を突破！\")\n",
    "\n",
    "# データ読み込み\n",
    "train_df = pd.read_csv('/Users/koki.ogai/Documents/ghq/github.com/oddgai/kaggle-projects/titanic/data/train.csv')\n",
    "test_df = pd.read_csv('/Users/koki.ogai/Documents/ghq/github.com/oddgai/kaggle-projects/titanic/data/test.csv')\n",
    "\n",
    "# データ結合\n",
    "df_all = pd.concat([train_df, test_df], sort=False).reset_index(drop=True)\n",
    "df_all['is_train'] = df_all['Survived'].notna()\n",
    "\n",
    "print(f\"\\nデータ読み込み完了:\")\n",
    "print(f\"  訓練データ: {df_all['is_train'].sum()}件\")\n",
    "print(f\"  テストデータ: {(~df_all['is_train']).sum()}件\")"
   ]
  },
  {
   "cell_type": "markdown",
   "metadata": {},
   "source": [
    "## 🔧 Phase 1: 特徴量エンジニアリング（最適化版）"
   ]
  },
  {
   "cell_type": "code",
   "execution_count": 2,
   "metadata": {
    "execution": {
     "iopub.execute_input": "2025-09-02T02:50:31.126983Z",
     "iopub.status.busy": "2025-09-02T02:50:31.126891Z",
     "iopub.status.idle": "2025-09-02T02:50:31.134630Z",
     "shell.execute_reply": "2025-09-02T02:50:31.134452Z"
    }
   },
   "outputs": [
    {
     "name": "stdout",
     "output_type": "stream",
     "text": [
      "特徴量エンジニアリング実行中...\n",
      "✅ 特徴量作成完了\n"
     ]
    }
   ],
   "source": [
    "def create_optimized_features(df):\n",
    "    \"\"\"最適化された特徴量エンジニアリング\"\"\"\n",
    "    df = df.copy()\n",
    "\n",
    "    # ========== Title処理 ==========\n",
    "    df['Title'] = df['Name'].str.extract(r' ([A-Za-z]+)\\.', expand=False)\n",
    "\n",
    "    title_mapping = {\n",
    "        'Mr': 'Mr', 'Miss': 'Miss', 'Mrs': 'Mrs', 'Master': 'Master',\n",
    "        'Mlle': 'Miss', 'Mme': 'Mrs', 'Ms': 'Miss',\n",
    "        'Col': 'Officer', 'Major': 'Officer', 'Capt': 'Officer',\n",
    "        'Lady': 'Royalty', 'Sir': 'Royalty', 'Countess': 'Royalty',\n",
    "        'Don': 'Royalty', 'Dona': 'Royalty', 'Jonkheer': 'Royalty',\n",
    "        'Dr': 'Professional', 'Rev': 'Professional'\n",
    "    }\n",
    "    df['Title_Grouped'] = df['Title'].map(title_mapping).fillna('Other')\n",
    "\n",
    "    # ========== 基本前処理 ==========\n",
    "    df['Sex_Binary'] = df['Sex'].map({'female': 0, 'male': 1})\n",
    "    df['FamilySize'] = df['SibSp'] + df['Parch'] + 1\n",
    "    df['IsAlone'] = (df['FamilySize'] == 1).astype(int)\n",
    "\n",
    "    # ========== Cabin処理 ==========\n",
    "    df['Has_Cabin'] = df['Cabin'].notna().astype(int)\n",
    "    df['Deck'] = df['Cabin'].str[0]\n",
    "\n",
    "    deck_mapping = {'A': 7, 'B': 6, 'C': 5, 'D': 4, 'E': 3, 'F': 2, 'G': 1, 'T': 0}\n",
    "    df['Deck_Num'] = df['Deck'].map(deck_mapping)\n",
    "\n",
    "    # Pclassベースでデッキ推定\n",
    "    df.loc[(df['Pclass'] == 1) & df['Deck'].isna(), 'Deck_Num'] = 5\n",
    "    df.loc[(df['Pclass'] == 2) & df['Deck'].isna(), 'Deck_Num'] = 3\n",
    "    df.loc[(df['Pclass'] == 3) & df['Deck'].isna(), 'Deck_Num'] = 1\n",
    "    df['Deck_Num'] = df['Deck_Num'].fillna(0)\n",
    "\n",
    "    # ========== Ticket処理 ==========\n",
    "    ticket_counts = df['Ticket'].value_counts()\n",
    "    df['Ticket_Group_Size'] = df['Ticket'].map(ticket_counts)\n",
    "\n",
    "    df['Ticket_IsNumeric'] = df['Ticket'].str.isnumeric().astype(int)\n",
    "\n",
    "    # ========== 苗字・家族関係 ==========\n",
    "    df['Surname'] = df['Name'].str.split(',').str[0]\n",
    "    surname_counts = df['Surname'].value_counts()\n",
    "    df['Surname_Count'] = df['Surname'].map(surname_counts)\n",
    "\n",
    "    # 家族タイプ\n",
    "    df['Is_Mother'] = ((df['Sex'] == 'female') & (df['Parch'] > 0) & (df['Age'] > 18)).astype(int)\n",
    "    df['Is_Child'] = ((df['Age'] <= 16) | (df['Title'] == 'Master')).astype(int)\n",
    "\n",
    "    return df\n",
    "\n",
    "# 特徴量作成\n",
    "print(\"特徴量エンジニアリング実行中...\")\n",
    "df_processed = create_optimized_features(df_all)\n",
    "print(\"✅ 特徴量作成完了\")"
   ]
  },
  {
   "cell_type": "markdown",
   "metadata": {},
   "source": [
    "## 🧹 Phase 2: 高度な欠損値処理・外れ値処理"
   ]
  },
  {
   "cell_type": "code",
   "execution_count": 3,
   "metadata": {
    "execution": {
     "iopub.execute_input": "2025-09-02T02:50:31.135672Z",
     "iopub.status.busy": "2025-09-02T02:50:31.135608Z",
     "iopub.status.idle": "2025-09-02T02:50:31.149881Z",
     "shell.execute_reply": "2025-09-02T02:50:31.149682Z"
    }
   },
   "outputs": [
    {
     "name": "stdout",
     "output_type": "stream",
     "text": [
      "Age欠損値をIterativeImputerで補完中...\n",
      "Age補完完了: 0件の欠損\n",
      "Fareの外れ値処理: 171件をクリッピング\n",
      "Ageの外れ値処理: 27件をクリッピング\n",
      "✅ 欠損値・外れ値処理完了\n"
     ]
    }
   ],
   "source": [
    "# ========== Age欠損値処理（IterativeImputer） ==========\n",
    "# Age予測用特徴量\n",
    "age_features = ['Pclass', 'Sex_Binary', 'SibSp', 'Parch', 'Fare', 'Has_Cabin']\n",
    "\n",
    "# カテゴリカル変数エンコード\n",
    "le_title = LabelEncoder()\n",
    "df_processed['Title_Encoded'] = le_title.fit_transform(df_processed['Title_Grouped'])\n",
    "age_features.append('Title_Encoded')\n",
    "\n",
    "le_embarked = LabelEncoder()\n",
    "df_processed['Embarked'] = df_processed['Embarked'].fillna('S')  # 最頻値補完\n",
    "df_processed['Embarked_Encoded'] = le_embarked.fit_transform(df_processed['Embarked'])\n",
    "age_features.append('Embarked_Encoded')\n",
    "\n",
    "# Fare欠損値を先に処理\n",
    "df_processed['Fare'] = df_processed.groupby(['Pclass', 'Embarked'])['Fare'].transform(\n",
    "    lambda x: x.fillna(x.median())\n",
    ")\n",
    "df_processed['Fare'] = df_processed['Fare'].fillna(df_processed['Fare'].median())\n",
    "\n",
    "# Age予測\n",
    "print(\"Age欠損値をIterativeImputerで補完中...\")\n",
    "age_imputer = IterativeImputer(random_state=42, max_iter=10)\n",
    "age_data = df_processed[age_features + ['Age']].copy()\n",
    "age_data_imputed = age_imputer.fit_transform(age_data)\n",
    "df_processed['Age'] = age_data_imputed[:, -1]  # Age列\n",
    "\n",
    "print(f\"Age補完完了: {df_processed['Age'].isnull().sum()}件の欠損\")\n",
    "\n",
    "# ========== 外れ値処理 ==========\n",
    "# Fareの外れ値処理（IQRベース）\n",
    "def handle_outliers_iqr(df, column, factor=1.5):\n",
    "    Q1 = df[column].quantile(0.25)\n",
    "    Q3 = df[column].quantile(0.75)\n",
    "    IQR = Q3 - Q1\n",
    "    lower_bound = Q1 - factor * IQR\n",
    "    upper_bound = Q3 + factor * IQR\n",
    "    \n",
    "    outliers_before = ((df[column] < lower_bound) | (df[column] > upper_bound)).sum()\n",
    "    df[column] = df[column].clip(lower=lower_bound, upper=upper_bound)\n",
    "    print(f\"{column}の外れ値処理: {outliers_before}件をクリッピング\")\n",
    "    return df\n",
    "\n",
    "df_processed = handle_outliers_iqr(df_processed, 'Fare')\n",
    "df_processed = handle_outliers_iqr(df_processed, 'Age')\n",
    "\n",
    "print(\"✅ 欠損値・外れ値処理完了\")"
   ]
  },
  {
   "cell_type": "markdown",
   "metadata": {},
   "source": [
    "## ⚡ Phase 3: 高品質特徴量の追加"
   ]
  },
  {
   "cell_type": "code",
   "execution_count": 4,
   "metadata": {
    "execution": {
     "iopub.execute_input": "2025-09-02T02:50:31.150757Z",
     "iopub.status.busy": "2025-09-02T02:50:31.150699Z",
     "iopub.status.idle": "2025-09-02T02:50:31.154036Z",
     "shell.execute_reply": "2025-09-02T02:50:31.153845Z"
    }
   },
   "outputs": [
    {
     "name": "stdout",
     "output_type": "stream",
     "text": [
      "✅ 高品質特徴量追加完了\n"
     ]
    }
   ],
   "source": [
    "# ========== 高品質特徴量の追加 ==========\n",
    "\n",
    "# 運賃の正規化\n",
    "df_processed['Fare_Per_Person'] = df_processed['Fare'] / df_processed['Ticket_Group_Size']\n",
    "\n",
    "# 年齢・運賃のランキング\n",
    "df_processed['Age_Rank'] = df_processed.groupby(['Sex', 'Pclass'])['Age'].rank(pct=True)\n",
    "df_processed['Fare_Rank'] = df_processed.groupby('Pclass')['Fare'].rank(pct=True)\n",
    "\n",
    "# 重要な交互作用\n",
    "df_processed['Sex_Pclass'] = df_processed['Sex_Binary'] * df_processed['Pclass']\n",
    "df_processed['Age_Sex'] = df_processed['Age'] * df_processed['Sex_Binary']\n",
    "df_processed['Fare_Pclass'] = df_processed['Fare'] / df_processed['Pclass']\n",
    "\n",
    "# 生存優先度スコア（ドメイン知識）\n",
    "df_processed['Priority_Score'] = (\n",
    "    (df_processed['Sex'] == 'female').astype(int) * 100 +\n",
    "    df_processed['Is_Child'] * 80 +\n",
    "    (df_processed['Pclass'] == 1).astype(int) * 30 +\n",
    "    df_processed['Is_Mother'] * 20\n",
    ")\n",
    "\n",
    "# 社会経済地位スコア\n",
    "df_processed['SES_Score'] = (\n",
    "    (4 - df_processed['Pclass']) * 25 +\n",
    "    df_processed['Fare_Rank'] * 100 +\n",
    "    df_processed['Has_Cabin'] * 50\n",
    ")\n",
    "\n",
    "print(\"✅ 高品質特徴量追加完了\")"
   ]
  },
  {
   "cell_type": "markdown",
   "metadata": {},
   "source": [
    "## 🎯 Phase 4: 特徴量選択（相関・重要度ベース）"
   ]
  },
  {
   "cell_type": "code",
   "execution_count": 5,
   "metadata": {
    "execution": {
     "iopub.execute_input": "2025-09-02T02:50:31.154948Z",
     "iopub.status.busy": "2025-09-02T02:50:31.154895Z",
     "iopub.status.idle": "2025-09-02T02:50:31.699185Z",
     "shell.execute_reply": "2025-09-02T02:50:31.698910Z"
    }
   },
   "outputs": [
    {
     "name": "stdout",
     "output_type": "stream",
     "text": [
      "特徴量候補: 25個\n",
      "\n",
      "高相関ペア (14組):\n",
      "  FamilySize - SibSp: 0.891\n",
      "  Deck_Num - Pclass: 0.945\n",
      "  Ticket_Group_Size - FamilySize: 0.816\n",
      "  Surname_Count - FamilySize: 0.827\n",
      "  Fare_Per_Person - Pclass: 0.814\n",
      "  Age_Rank - Age: 0.835\n",
      "  Sex_Pclass - Sex_Binary: 0.868\n",
      "  Age_Sex - Sex_Binary: 0.811\n",
      "  Fare_Pclass - Pclass: 0.833\n",
      "  Fare_Pclass - Fare: 0.938\n",
      "  Priority_Score - Sex_Binary: 0.894\n",
      "  Priority_Score - Sex_Pclass: 0.829\n",
      "  SES_Score - Fare: 0.886\n",
      "  SES_Score - Fare_Pclass: 0.857\n"
     ]
    },
    {
     "name": "stdout",
     "output_type": "stream",
     "text": [
      "\n",
      "除去する特徴量 (10個): ['Age', 'FamilySize', 'Fare_Pclass', 'IsAlone', 'Is_Child', 'Is_Mother', 'Pclass', 'SES_Score', 'Sex_Binary', 'Sex_Pclass']\n",
      "最終特徴量数: 15個\n",
      "\n",
      "=== 最終特徴量リスト ===\n",
      " 1. SibSp                    :    49.00\n",
      " 2. Parch                    :     8.00\n",
      " 3. Fare                     :   242.00\n",
      " 4. Has_Cabin                :    15.00\n",
      " 5. Deck_Num                 :    78.00\n",
      " 6. Ticket_Group_Size        :    72.00\n",
      " 7. Ticket_IsNumeric         :    62.00\n",
      " 8. Surname_Count            :   126.00\n",
      " 9. Title_Encoded            :    49.00\n",
      "10. Embarked_Encoded         :    68.00\n",
      "11. Fare_Per_Person          :   349.00\n",
      "12. Age_Rank                 :   547.00\n",
      "13. Fare_Rank                :   299.00\n",
      "14. Age_Sex                  :   154.00\n",
      "15. Priority_Score           :    33.00\n"
     ]
    }
   ],
   "source": [
    "# 訓練データ分割\n",
    "train_data = df_processed[df_processed['is_train']].copy()\n",
    "test_data = df_processed[~df_processed['is_train']].copy()\n",
    "\n",
    "# 特徴量候補\n",
    "exclude_cols = [\n",
    "    'PassengerId', 'Name', 'Ticket', 'Cabin', 'Survived', 'is_train',\n",
    "    'Surname', 'Title', 'Sex', 'Embarked', 'Deck'\n",
    "]\n",
    "\n",
    "candidate_features = [col for col in df_processed.columns\n",
    "                     if col not in exclude_cols and\n",
    "                     df_processed[col].dtype in ['int64', 'float64', 'int32', 'float32', 'int8']]\n",
    "\n",
    "X_temp = train_data[candidate_features]\n",
    "y_temp = train_data['Survived']\n",
    "\n",
    "print(f\"特徴量候補: {len(candidate_features)}個\")\n",
    "\n",
    "# NaN処理\n",
    "for col in candidate_features:\n",
    "    if X_temp[col].isnull().any():\n",
    "        X_temp[col] = X_temp[col].fillna(X_temp[col].median())\n",
    "\n",
    "# 相関による特徴量除去\n",
    "corr_matrix = X_temp.corr().abs()\n",
    "upper_triangle = corr_matrix.where(\n",
    "    np.triu(np.ones_like(corr_matrix, dtype=bool), k=1)\n",
    ")\n",
    "\n",
    "# 相関0.8以上の特徴量ペアを特定\n",
    "high_corr_pairs = [(col, row) for col in upper_triangle.columns\n",
    "                   for row in upper_triangle.index\n",
    "                   if upper_triangle.loc[row, col] > 0.8]\n",
    "\n",
    "print(f\"\\n高相関ペア ({len(high_corr_pairs)}組):\")\n",
    "for pair in high_corr_pairs:\n",
    "    corr_val = upper_triangle.loc[pair[1], pair[0]]\n",
    "    print(f\"  {pair[0]} - {pair[1]}: {corr_val:.3f}\")\n",
    "\n",
    "# 相関の高い特徴量を除去（重要度で決定）\n",
    "lgb_temp = lgb.LGBMClassifier(random_state=42, verbose=-1, n_estimators=100)\n",
    "lgb_temp.fit(X_temp, y_temp)\n",
    "importance_temp = pd.DataFrame({\n",
    "    'feature': candidate_features,\n",
    "    'importance': lgb_temp.feature_importances_\n",
    "}).sort_values('importance', ascending=False)\n",
    "\n",
    "# 相関の高いペアで重要度の低い方を除去\n",
    "features_to_remove = set()\n",
    "for pair in high_corr_pairs:\n",
    "    imp1 = importance_temp[importance_temp['feature'] == pair[0]]['importance'].values[0]\n",
    "    imp2 = importance_temp[importance_temp['feature'] == pair[1]]['importance'].values[0]\n",
    "    if imp1 < imp2:\n",
    "        features_to_remove.add(pair[0])\n",
    "    else:\n",
    "        features_to_remove.add(pair[1])\n",
    "\n",
    "# 重要度下位の特徴量も除去\n",
    "low_importance_features = importance_temp.tail(5)['feature'].tolist()\n",
    "features_to_remove.update(low_importance_features)\n",
    "\n",
    "# 最終特徴量セット\n",
    "final_features = [f for f in candidate_features if f not in features_to_remove]\n",
    "\n",
    "print(f\"\\n除去する特徴量 ({len(features_to_remove)}個): {sorted(features_to_remove)}\")\n",
    "print(f\"最終特徴量数: {len(final_features)}個\")\n",
    "\n",
    "# 最終データセット準備\n",
    "X_train_final = train_data[final_features].copy()\n",
    "y_train_final = train_data['Survived'].copy()\n",
    "X_test_final = test_data[final_features].copy()\n",
    "\n",
    "# 残りのNaN処理\n",
    "for col in final_features:\n",
    "    if X_train_final[col].isnull().any() or X_test_final[col].isnull().any():\n",
    "        median_val = X_train_final[col].median()\n",
    "        X_train_final[col] = X_train_final[col].fillna(median_val)\n",
    "        X_test_final[col] = X_test_final[col].fillna(median_val)\n",
    "\n",
    "print(\"\\n=== 最終特徴量リスト ===\")\n",
    "for i, feat in enumerate(final_features, 1):\n",
    "    imp_score = importance_temp[importance_temp['feature'] == feat]['importance'].values[0]\n",
    "    print(f\"{i:2d}. {feat:25s}: {imp_score:8.2f}\")"
   ]
  },
  {
   "cell_type": "markdown",
   "metadata": {},
   "source": [
    "## 🤖 Phase 5: Base Modelsの構築"
   ]
  },
  {
   "cell_type": "code",
   "execution_count": 6,
   "metadata": {
    "execution": {
     "iopub.execute_input": "2025-09-02T02:50:31.700316Z",
     "iopub.status.busy": "2025-09-02T02:50:31.700253Z",
     "iopub.status.idle": "2025-09-02T02:50:33.785551Z",
     "shell.execute_reply": "2025-09-02T02:50:33.785228Z"
    }
   },
   "outputs": [
    {
     "name": "stdout",
     "output_type": "stream",
     "text": [
      "🤖 Base Models構築開始...\n",
      "\n",
      "1. LightGBM訓練中...\n",
      "Training until validation scores don't improve for 50 rounds\n"
     ]
    },
    {
     "name": "stdout",
     "output_type": "stream",
     "text": [
      "Early stopping, best iteration is:\n",
      "[77]\tvalid_0's binary_logloss: 0.346023\n",
      "Training until validation scores don't improve for 50 rounds\n"
     ]
    },
    {
     "name": "stdout",
     "output_type": "stream",
     "text": [
      "Early stopping, best iteration is:\n",
      "[64]\tvalid_0's binary_logloss: 0.388729\n",
      "Training until validation scores don't improve for 50 rounds\n"
     ]
    },
    {
     "name": "stdout",
     "output_type": "stream",
     "text": [
      "Early stopping, best iteration is:\n",
      "[60]\tvalid_0's binary_logloss: 0.429574\n",
      "Training until validation scores don't improve for 50 rounds\n"
     ]
    },
    {
     "name": "stdout",
     "output_type": "stream",
     "text": [
      "Early stopping, best iteration is:\n",
      "[47]\tvalid_0's binary_logloss: 0.414352\n",
      "Training until validation scores don't improve for 50 rounds\n"
     ]
    },
    {
     "name": "stdout",
     "output_type": "stream",
     "text": [
      "Early stopping, best iteration is:\n",
      "[84]\tvalid_0's binary_logloss: 0.383337\n",
      "LightGBM CV: 0.8384 ± 0.0195\n"
     ]
    }
   ],
   "source": [
    "# Cross-Validation設定\n",
    "N_FOLDS = 5\n",
    "RANDOM_SEED = 42\n",
    "kf = StratifiedKFold(n_splits=N_FOLDS, shuffle=True, random_state=RANDOM_SEED)\n",
    "\n",
    "# Out-of-fold予測用配列\n",
    "oof_predictions = np.zeros((len(X_train_final), 6))  # 6モデル\n",
    "test_predictions = np.zeros((len(X_test_final), 6))\n",
    "model_scores = {}\n",
    "\n",
    "print(\"🤖 Base Models構築開始...\")\n",
    "\n",
    "# ========== Model 1: LightGBM ==========\n",
    "print(\"\\n1. LightGBM訓練中...\")\n",
    "lgb_params = {\n",
    "    'objective': 'binary',\n",
    "    'metric': 'binary_logloss',\n",
    "    'num_leaves': 31,\n",
    "    'learning_rate': 0.05,\n",
    "    'feature_fraction': 0.8,\n",
    "    'bagging_fraction': 0.8,\n",
    "    'bagging_freq': 5,\n",
    "    'reg_alpha': 0.1,\n",
    "    'reg_lambda': 0.1,\n",
    "    'min_child_samples': 20,\n",
    "    'random_state': RANDOM_SEED,\n",
    "    'verbose': -1,\n",
    "    'n_estimators': 500\n",
    "}\n",
    "\n",
    "lgb_scores = []\n",
    "for fold, (train_idx, val_idx) in enumerate(kf.split(X_train_final, y_train_final)):\n",
    "    X_tr, X_val = X_train_final.iloc[train_idx], X_train_final.iloc[val_idx]\n",
    "    y_tr, y_val = y_train_final.iloc[train_idx], y_train_final.iloc[val_idx]\n",
    "\n",
    "    model = lgb.LGBMClassifier(**lgb_params)\n",
    "    model.fit(X_tr, y_tr, eval_set=[(X_val, y_val)],\n",
    "             callbacks=[lgb.early_stopping(50), lgb.log_evaluation(0)])\n",
    "\n",
    "    val_pred = model.predict_proba(X_val)[:, 1]\n",
    "    test_pred = model.predict_proba(X_test_final)[:, 1]\n",
    "\n",
    "    oof_predictions[val_idx, 0] = val_pred\n",
    "    test_predictions[:, 0] += test_pred / N_FOLDS\n",
    "\n",
    "    fold_score = accuracy_score(y_val, (val_pred >= 0.5).astype(int))\n",
    "    lgb_scores.append(fold_score)\n",
    "\n",
    "model_scores['LightGBM'] = np.mean(lgb_scores)\n",
    "print(f\"LightGBM CV: {np.mean(lgb_scores):.4f} ± {np.std(lgb_scores):.4f}\")"
   ]
  },
  {
   "cell_type": "code",
   "execution_count": 7,
   "metadata": {
    "execution": {
     "iopub.execute_input": "2025-09-02T02:50:33.786642Z",
     "iopub.status.busy": "2025-09-02T02:50:33.786563Z",
     "iopub.status.idle": "2025-09-02T02:50:36.671537Z",
     "shell.execute_reply": "2025-09-02T02:50:36.671313Z"
    }
   },
   "outputs": [
    {
     "name": "stdout",
     "output_type": "stream",
     "text": [
      "\n",
      "2. XGBoost訓練中...\n"
     ]
    },
    {
     "name": "stdout",
     "output_type": "stream",
     "text": [
      "XGBoost CV: 0.8170 ± 0.0262\n"
     ]
    }
   ],
   "source": [
    "# ========== Model 2: XGBoost ==========\n",
    "print(\"\\n2. XGBoost訓練中...\")\n",
    "xgb_scores = []\n",
    "for fold, (train_idx, val_idx) in enumerate(kf.split(X_train_final, y_train_final)):\n",
    "    X_tr, X_val = X_train_final.iloc[train_idx], X_train_final.iloc[val_idx]\n",
    "    y_tr, y_val = y_train_final.iloc[train_idx], y_train_final.iloc[val_idx]\n",
    "    \n",
    "    model = xgb.XGBClassifier(\n",
    "        objective='binary:logistic',\n",
    "        eval_metric='logloss',\n",
    "        max_depth=4,\n",
    "        learning_rate=0.05,\n",
    "        subsample=0.8,\n",
    "        colsample_bytree=0.8,\n",
    "        reg_alpha=0.1,\n",
    "        reg_lambda=0.1,\n",
    "        random_state=RANDOM_SEED,\n",
    "        n_estimators=500,\n",
    "        verbosity=0\n",
    "    )\n",
    "    model.fit(X_tr, y_tr)\n",
    "    \n",
    "    val_pred = model.predict_proba(X_val)[:, 1]\n",
    "    test_pred = model.predict_proba(X_test_final)[:, 1]\n",
    "    \n",
    "    oof_predictions[val_idx, 1] = val_pred\n",
    "    test_predictions[:, 1] += test_pred / N_FOLDS\n",
    "    \n",
    "    fold_score = accuracy_score(y_val, (val_pred >= 0.5).astype(int))\n",
    "    xgb_scores.append(fold_score)\n",
    "    \n",
    "model_scores['XGBoost'] = np.mean(xgb_scores)\n",
    "print(f\"XGBoost CV: {np.mean(xgb_scores):.4f} ± {np.std(xgb_scores):.4f}\")"
   ]
  },
  {
   "cell_type": "code",
   "execution_count": 8,
   "metadata": {
    "execution": {
     "iopub.execute_input": "2025-09-02T02:50:36.672594Z",
     "iopub.status.busy": "2025-09-02T02:50:36.672523Z",
     "iopub.status.idle": "2025-09-02T02:50:37.628528Z",
     "shell.execute_reply": "2025-09-02T02:50:37.628254Z"
    }
   },
   "outputs": [
    {
     "name": "stdout",
     "output_type": "stream",
     "text": [
      "\n",
      "3. Random Forest訓練中...\n"
     ]
    },
    {
     "name": "stdout",
     "output_type": "stream",
     "text": [
      "RandomForest CV: 0.8417 ± 0.0158\n"
     ]
    }
   ],
   "source": [
    "# ========== Model 3: Random Forest ==========\n",
    "print(\"\\n3. Random Forest訓練中...\")\n",
    "rf_scores = []\n",
    "for fold, (train_idx, val_idx) in enumerate(kf.split(X_train_final, y_train_final)):\n",
    "    X_tr, X_val = X_train_final.iloc[train_idx], X_train_final.iloc[val_idx]\n",
    "    y_tr, y_val = y_train_final.iloc[train_idx], y_train_final.iloc[val_idx]\n",
    "\n",
    "    model = RandomForestClassifier(\n",
    "        n_estimators=300,\n",
    "        max_depth=8,\n",
    "        min_samples_split=5,\n",
    "        min_samples_leaf=2,\n",
    "        max_features='sqrt',\n",
    "        bootstrap=True,\n",
    "        random_state=RANDOM_SEED,\n",
    "        n_jobs=-1\n",
    "    )\n",
    "    model.fit(X_tr, y_tr)\n",
    "\n",
    "    val_pred = model.predict_proba(X_val)[:, 1]\n",
    "    test_pred = model.predict_proba(X_test_final)[:, 1]\n",
    "\n",
    "    oof_predictions[val_idx, 2] = val_pred\n",
    "    test_predictions[:, 2] += test_pred / N_FOLDS\n",
    "\n",
    "    fold_score = accuracy_score(y_val, (val_pred >= 0.5).astype(int))\n",
    "    rf_scores.append(fold_score)\n",
    "\n",
    "model_scores['RandomForest'] = np.mean(rf_scores)\n",
    "print(f\"RandomForest CV: {np.mean(rf_scores):.4f} ± {np.std(rf_scores):.4f}\")"
   ]
  },
  {
   "cell_type": "code",
   "execution_count": 9,
   "metadata": {
    "execution": {
     "iopub.execute_input": "2025-09-02T02:50:37.629670Z",
     "iopub.status.busy": "2025-09-02T02:50:37.629593Z",
     "iopub.status.idle": "2025-09-02T02:50:38.360115Z",
     "shell.execute_reply": "2025-09-02T02:50:38.359895Z"
    }
   },
   "outputs": [
    {
     "name": "stdout",
     "output_type": "stream",
     "text": [
      "\n",
      "4. Extra Trees訓練中...\n"
     ]
    },
    {
     "name": "stdout",
     "output_type": "stream",
     "text": [
      "ExtraTrees CV: 0.8227 ± 0.0147\n"
     ]
    }
   ],
   "source": [
    "# ========== Model 4: Extra Trees ==========\n",
    "print(\"\\n4. Extra Trees訓練中...\")\n",
    "et_scores = []\n",
    "for fold, (train_idx, val_idx) in enumerate(kf.split(X_train_final, y_train_final)):\n",
    "    X_tr, X_val = X_train_final.iloc[train_idx], X_train_final.iloc[val_idx]\n",
    "    y_tr, y_val = y_train_final.iloc[train_idx], y_train_final.iloc[val_idx]\n",
    "\n",
    "    model = ExtraTreesClassifier(\n",
    "        n_estimators=300,\n",
    "        max_depth=8,\n",
    "        min_samples_split=5,\n",
    "        min_samples_leaf=2,\n",
    "        max_features='sqrt',\n",
    "        bootstrap=False,\n",
    "        random_state=RANDOM_SEED,\n",
    "        n_jobs=-1\n",
    "    )\n",
    "    model.fit(X_tr, y_tr)\n",
    "\n",
    "    val_pred = model.predict_proba(X_val)[:, 1]\n",
    "    test_pred = model.predict_proba(X_test_final)[:, 1]\n",
    "\n",
    "    oof_predictions[val_idx, 3] = val_pred\n",
    "    test_predictions[:, 3] += test_pred / N_FOLDS\n",
    "\n",
    "    fold_score = accuracy_score(y_val, (val_pred >= 0.5).astype(int))\n",
    "    et_scores.append(fold_score)\n",
    "\n",
    "model_scores['ExtraTrees'] = np.mean(et_scores)\n",
    "print(f\"ExtraTrees CV: {np.mean(et_scores):.4f} ± {np.std(et_scores):.4f}\")"
   ]
  },
  {
   "cell_type": "code",
   "execution_count": 10,
   "metadata": {
    "execution": {
     "iopub.execute_input": "2025-09-02T02:50:38.361200Z",
     "iopub.status.busy": "2025-09-02T02:50:38.361130Z",
     "iopub.status.idle": "2025-09-02T02:50:38.490642Z",
     "shell.execute_reply": "2025-09-02T02:50:38.490415Z"
    }
   },
   "outputs": [
    {
     "name": "stdout",
     "output_type": "stream",
     "text": [
      "\n",
      "5. SVM訓練中...\n",
      "SVM CV: 0.8305 ± 0.0157\n"
     ]
    }
   ],
   "source": [
    "# ========== Model 5: SVM ==========\n",
    "print(\"\\n5. SVM訓練中...\")\n",
    "# SVMのためのスケーリング\n",
    "scaler = StandardScaler()\n",
    "X_train_scaled = scaler.fit_transform(X_train_final)\n",
    "X_test_scaled = scaler.transform(X_test_final)\n",
    "\n",
    "svm_scores = []\n",
    "for fold, (train_idx, val_idx) in enumerate(kf.split(X_train_final, y_train_final)):\n",
    "    X_tr, X_val = X_train_scaled[train_idx], X_train_scaled[val_idx]\n",
    "    y_tr, y_val = y_train_final.iloc[train_idx], y_train_final.iloc[val_idx]\n",
    "\n",
    "    model = SVC(\n",
    "        kernel='rbf',\n",
    "        C=1.0,\n",
    "        gamma='scale',\n",
    "        probability=True,\n",
    "        random_state=RANDOM_SEED\n",
    "    )\n",
    "    model.fit(X_tr, y_tr)\n",
    "\n",
    "    val_pred = model.predict_proba(X_val)[:, 1]\n",
    "    test_pred = model.predict_proba(X_test_scaled)[:, 1]\n",
    "\n",
    "    oof_predictions[val_idx, 4] = val_pred\n",
    "    test_predictions[:, 4] += test_pred / N_FOLDS\n",
    "\n",
    "    fold_score = accuracy_score(y_val, (val_pred >= 0.5).astype(int))\n",
    "    svm_scores.append(fold_score)\n",
    "\n",
    "model_scores['SVM'] = np.mean(svm_scores)\n",
    "print(f\"SVM CV: {np.mean(svm_scores):.4f} ± {np.std(svm_scores):.4f}\")"
   ]
  },
  {
   "cell_type": "code",
   "execution_count": 11,
   "metadata": {
    "execution": {
     "iopub.execute_input": "2025-09-02T02:50:38.491728Z",
     "iopub.status.busy": "2025-09-02T02:50:38.491658Z",
     "iopub.status.idle": "2025-09-02T02:50:38.499415Z",
     "shell.execute_reply": "2025-09-02T02:50:38.499199Z"
    }
   },
   "outputs": [
    {
     "name": "stdout",
     "output_type": "stream",
     "text": [
      "\n",
      "6. Logistic Regression訓練中...\n",
      "LogisticRegression CV: 0.8059 ± 0.0134\n",
      "\n",
      "✅ Base Models構築完了！\n"
     ]
    }
   ],
   "source": [
    "# ========== Model 6: Logistic Regression ==========\n",
    "print(\"\\n6. Logistic Regression訓練中...\")\n",
    "lr_scores = []\n",
    "for fold, (train_idx, val_idx) in enumerate(kf.split(X_train_final, y_train_final)):\n",
    "    X_tr, X_val = X_train_scaled[train_idx], X_train_scaled[val_idx]\n",
    "    y_tr, y_val = y_train_final.iloc[train_idx], y_train_final.iloc[val_idx]\n",
    "\n",
    "    model = LogisticRegression(\n",
    "        C=1.0,\n",
    "        penalty='l2',\n",
    "        solver='liblinear',\n",
    "        random_state=RANDOM_SEED,\n",
    "        max_iter=1000\n",
    "    )\n",
    "    model.fit(X_tr, y_tr)\n",
    "\n",
    "    val_pred = model.predict_proba(X_val)[:, 1]\n",
    "    test_pred = model.predict_proba(X_test_scaled)[:, 1]\n",
    "\n",
    "    oof_predictions[val_idx, 5] = val_pred\n",
    "    test_predictions[:, 5] += test_pred / N_FOLDS\n",
    "\n",
    "    fold_score = accuracy_score(y_val, (val_pred >= 0.5).astype(int))\n",
    "    lr_scores.append(fold_score)\n",
    "\n",
    "model_scores['LogisticRegression'] = np.mean(lr_scores)\n",
    "print(f\"LogisticRegression CV: {np.mean(lr_scores):.4f} ± {np.std(lr_scores):.4f}\")\n",
    "\n",
    "print(\"\\n✅ Base Models構築完了！\")"
   ]
  },
  {
   "cell_type": "markdown",
   "metadata": {},
   "source": [
    "## 🏗️ Phase 6: Stacking & Blending"
   ]
  },
  {
   "cell_type": "code",
   "execution_count": 12,
   "metadata": {
    "execution": {
     "iopub.execute_input": "2025-09-02T02:50:38.500391Z",
     "iopub.status.busy": "2025-09-02T02:50:38.500340Z",
     "iopub.status.idle": "2025-09-02T02:50:38.504516Z",
     "shell.execute_reply": "2025-09-02T02:50:38.504335Z"
    }
   },
   "outputs": [
    {
     "name": "stdout",
     "output_type": "stream",
     "text": [
      "=== Base Models性能 ===\n",
      "LightGBM       : 0.8384 (OOF: 0.8384)\n",
      "XGBoost        : 0.8170 (OOF: 0.8171)\n",
      "RandomForest   : 0.8417 (OOF: 0.8418)\n",
      "ExtraTrees     : 0.8227 (OOF: 0.8227)\n",
      "SVM            : 0.8305 (OOF: 0.8305)\n",
      "LogisticRegression: 0.8059 (OOF: 0.8058)\n",
      "\n",
      "Simple Average: 0.8429\n",
      "Weighted Average: 0.8429\n",
      "\n",
      "重み分布:\n",
      "LightGBM       : 0.169\n",
      "XGBoost        : 0.165\n",
      "RandomForest   : 0.170\n",
      "ExtraTrees     : 0.166\n",
      "SVM            : 0.168\n",
      "LogisticRegression: 0.163\n"
     ]
    }
   ],
   "source": [
    "# Base Modelsの性能確認\n",
    "print(\"=== Base Models性能 ===\")\n",
    "model_names = ['LightGBM', 'XGBoost', 'RandomForest', 'ExtraTrees', 'SVM', 'LogisticRegression']\n",
    "for i, name in enumerate(model_names):\n",
    "    oof_score = accuracy_score(y_train_final, (oof_predictions[:, i] >= 0.5).astype(int))\n",
    "    print(f\"{name:15s}: {model_scores[name]:.4f} (OOF: {oof_score:.4f})\")\n",
    "\n",
    "# ========== Method 1: Simple Averaging ==========\n",
    "ensemble_avg = np.mean(oof_predictions, axis=1)\n",
    "ensemble_avg_score = accuracy_score(y_train_final, (ensemble_avg >= 0.5).astype(int))\n",
    "print(f\"\\nSimple Average: {ensemble_avg_score:.4f}\")\n",
    "\n",
    "# ========== Method 2: Weighted Averaging ==========\n",
    "# CVスコアベースの重み\n",
    "cv_scores = np.array([model_scores[name] for name in model_names])\n",
    "weights = cv_scores / np.sum(cv_scores)  # 正規化\n",
    "\n",
    "ensemble_weighted = np.average(oof_predictions, axis=1, weights=weights)\n",
    "ensemble_weighted_score = accuracy_score(y_train_final, (ensemble_weighted >= 0.5).astype(int))\n",
    "print(f\"Weighted Average: {ensemble_weighted_score:.4f}\")\n",
    "\n",
    "print(\"\\n重み分布:\")\n",
    "for i, (name, weight) in enumerate(zip(model_names, weights)):\n",
    "    print(f\"{name:15s}: {weight:.3f}\")"
   ]
  },
  {
   "cell_type": "code",
   "execution_count": 13,
   "metadata": {
    "execution": {
     "iopub.execute_input": "2025-09-02T02:50:38.505405Z",
     "iopub.status.busy": "2025-09-02T02:50:38.505339Z",
     "iopub.status.idle": "2025-09-02T02:50:39.102995Z",
     "shell.execute_reply": "2025-09-02T02:50:39.102796Z"
    }
   },
   "outputs": [
    {
     "name": "stderr",
     "output_type": "stream",
     "text": [
      "[I 2025-09-02 11:50:38,506] A new study created in memory with name: no-name-6ec42979-63e7-4592-9f73-f46eeb272a6e\n"
     ]
    },
    {
     "name": "stdout",
     "output_type": "stream",
     "text": [
      "\n",
      "🔍 Optuna重み最適化開始...\n"
     ]
    },
    {
     "data": {
      "application/vnd.jupyter.widget-view+json": {
       "model_id": "09a9d5fdd9164e22901f0447473bc05b",
       "version_major": 2,
       "version_minor": 0
      },
      "text/plain": [
       "  0%|          | 0/200 [00:00<?, ?it/s]"
      ]
     },
     "metadata": {},
     "output_type": "display_data"
    },
    {
     "name": "stdout",
     "output_type": "stream",
     "text": [
      "[I 2025-09-02 11:50:38,510] Trial 0 finished with value: 0.8417508417508418 and parameters: {'lgb_weight': 0.3745401188473625, 'xgb_weight': 0.9507143064099162, 'rf_weight': 0.7319939418114051, 'et_weight': 0.5986584841970366, 'svm_weight': 0.15601864044243652, 'lr_weight': 0.15599452033620265}. Best is trial 0 with value: 0.8417508417508418.\n",
      "[I 2025-09-02 11:50:38,511] Trial 1 finished with value: 0.8439955106621774 and parameters: {'lgb_weight': 0.05808361216819946, 'xgb_weight': 0.8661761457749352, 'rf_weight': 0.6011150117432088, 'et_weight': 0.7080725777960455, 'svm_weight': 0.020584494295802447, 'lr_weight': 0.9699098521619943}. Best is trial 1 with value: 0.8439955106621774.\n",
      "[I 2025-09-02 11:50:38,512] Trial 2 finished with value: 0.8417508417508418 and parameters: {'lgb_weight': 0.8324426408004217, 'xgb_weight': 0.21233911067827616, 'rf_weight': 0.18182496720710062, 'et_weight': 0.18340450985343382, 'svm_weight': 0.3042422429595377, 'lr_weight': 0.5247564316322378}. Best is trial 1 with value: 0.8439955106621774.\n",
      "[I 2025-09-02 11:50:38,513] Trial 3 finished with value: 0.8439955106621774 and parameters: {'lgb_weight': 0.43194501864211576, 'xgb_weight': 0.2912291401980419, 'rf_weight': 0.6118528947223795, 'et_weight': 0.13949386065204183, 'svm_weight': 0.29214464853521815, 'lr_weight': 0.3663618432936917}. Best is trial 1 with value: 0.8439955106621774.\n",
      "[I 2025-09-02 11:50:38,514] Trial 4 finished with value: 0.8428731762065096 and parameters: {'lgb_weight': 0.45606998421703593, 'xgb_weight': 0.7851759613930136, 'rf_weight': 0.19967378215835974, 'et_weight': 0.5142344384136116, 'svm_weight': 0.5924145688620425, 'lr_weight': 0.046450412719997725}. Best is trial 1 with value: 0.8439955106621774.\n",
      "[I 2025-09-02 11:50:38,515] Trial 5 finished with value: 0.8294051627384961 and parameters: {'lgb_weight': 0.6075448519014384, 'xgb_weight': 0.17052412368729153, 'rf_weight': 0.06505159298527952, 'et_weight': 0.9488855372533332, 'svm_weight': 0.9656320330745594, 'lr_weight': 0.8083973481164611}. Best is trial 1 with value: 0.8439955106621774.\n",
      "[I 2025-09-02 11:50:38,516] Trial 6 finished with value: 0.8361391694725028 and parameters: {'lgb_weight': 0.3046137691733707, 'xgb_weight': 0.09767211400638387, 'rf_weight': 0.6842330265121569, 'et_weight': 0.4401524937396013, 'svm_weight': 0.12203823484477883, 'lr_weight': 0.4951769101112702}. Best is trial 1 with value: 0.8439955106621774.\n",
      "[I 2025-09-02 11:50:38,517] Trial 7 finished with value: 0.8428731762065096 and parameters: {'lgb_weight': 0.034388521115218396, 'xgb_weight': 0.9093204020787821, 'rf_weight': 0.2587799816000169, 'et_weight': 0.662522284353982, 'svm_weight': 0.31171107608941095, 'lr_weight': 0.5200680211778108}. Best is trial 1 with value: 0.8439955106621774.\n",
      "[I 2025-09-02 11:50:38,518] Trial 8 finished with value: 0.8316498316498316 and parameters: {'lgb_weight': 0.5467102793432796, 'xgb_weight': 0.18485445552552704, 'rf_weight': 0.9695846277645586, 'et_weight': 0.7751328233611146, 'svm_weight': 0.9394989415641891, 'lr_weight': 0.8948273504276488}. Best is trial 1 with value: 0.8439955106621774.\n",
      "[I 2025-09-02 11:50:38,519] Trial 9 finished with value: 0.8451178451178452 and parameters: {'lgb_weight': 0.5978999788110851, 'xgb_weight': 0.9218742350231168, 'rf_weight': 0.0884925020519195, 'et_weight': 0.1959828624191452, 'svm_weight': 0.045227288910538066, 'lr_weight': 0.32533033076326434}. Best is trial 9 with value: 0.8451178451178452.\n",
      "[I 2025-09-02 11:50:38,522] Trial 10 finished with value: 0.8473625140291807 and parameters: {'lgb_weight': 0.9534661403809405, 'xgb_weight': 0.5659360709459067, 'rf_weight': 0.3687287727210974, 'et_weight': 0.0179618756148196, 'svm_weight': 0.6370920485539681, 'lr_weight': 0.2894610629307977}. Best is trial 10 with value: 0.8473625140291807.\n",
      "[I 2025-09-02 11:50:38,524] Trial 11 finished with value: 0.8462401795735129 and parameters: {'lgb_weight': 0.9816405626580188, 'xgb_weight': 0.6240835271723653, 'rf_weight': 0.3798629689192034, 'et_weight': 0.0037686944711460384, 'svm_weight': 0.6702616045050608, 'lr_weight': 0.2707438047275479}. Best is trial 10 with value: 0.8473625140291807.\n",
      "[I 2025-09-02 11:50:38,527] Trial 12 finished with value: 0.8462401795735129 and parameters: {'lgb_weight': 0.973739964219728, 'xgb_weight': 0.604339342379785, 'rf_weight': 0.4079187342158914, 'et_weight': 0.01063333338958922, 'svm_weight': 0.6789343066331723, 'lr_weight': 0.21785358383633718}. Best is trial 10 with value: 0.8473625140291807.\n",
      "[I 2025-09-02 11:50:38,530] Trial 13 finished with value: 0.8417508417508418 and parameters: {'lgb_weight': 0.9655928431436248, 'xgb_weight': 0.5079868554344628, 'rf_weight': 0.395347277071911, 'et_weight': 0.34563502785036654, 'svm_weight': 0.7716641432569382, 'lr_weight': 0.6768180580956149}. Best is trial 10 with value: 0.8473625140291807.\n",
      "[I 2025-09-02 11:50:38,533] Trial 14 finished with value: 0.8473625140291807 and parameters: {'lgb_weight': 0.771924012380071, 'xgb_weight': 0.6943205327568088, 'rf_weight': 0.39732934753999904, 'et_weight': 0.009719875566598353, 'svm_weight': 0.4756127324808232, 'lr_weight': 0.0052274027084454056}. Best is trial 10 with value: 0.8473625140291807.\n",
      "[I 2025-09-02 11:50:38,536] Trial 15 finished with value: 0.8439955106621774 and parameters: {'lgb_weight': 0.7665882120395119, 'xgb_weight': 0.41692460832750056, 'rf_weight': 0.4968966630789066, 'et_weight': 0.29174579398997624, 'svm_weight': 0.4958944808819062, 'lr_weight': 0.02088405570743842}. Best is trial 10 with value: 0.8473625140291807.\n",
      "[I 2025-09-02 11:50:38,538] Trial 16 finished with value: 0.8462401795735129 and parameters: {'lgb_weight': 0.7954571187252484, 'xgb_weight': 0.73090335881407, 'rf_weight': 0.8541254843274124, 'et_weight': 0.13107628428025891, 'svm_weight': 0.443106444200667, 'lr_weight': 0.11345417513072859}. Best is trial 10 with value: 0.8473625140291807.\n",
      "[I 2025-09-02 11:50:38,541] Trial 17 finished with value: 0.8439955106621774 and parameters: {'lgb_weight': 0.7277160447422736, 'xgb_weight': 0.39998069938371494, 'rf_weight': 0.3142096991177521, 'et_weight': 0.3175704279384305, 'svm_weight': 0.8213283902335964, 'lr_weight': 0.002769243253818375}. Best is trial 10 with value: 0.8473625140291807.\n",
      "[I 2025-09-02 11:50:38,544] Trial 18 finished with value: 0.8439955106621774 and parameters: {'lgb_weight': 0.8547717205174634, 'xgb_weight': 0.6715659962199054, 'rf_weight': 0.4739461994365914, 'et_weight': 0.04821852927409398, 'svm_weight': 0.3930340642478224, 'lr_weight': 0.4319734610218495}. Best is trial 10 with value: 0.8473625140291807.\n",
      "[I 2025-09-02 11:50:38,547] Trial 19 finished with value: 0.8428731762065096 and parameters: {'lgb_weight': 0.7059388023638251, 'xgb_weight': 0.5315844362186161, 'rf_weight': 0.0027828216308499742, 'et_weight': 0.4354686503317893, 'svm_weight': 0.5625128570253416, 'lr_weight': 0.18303300285044033}. Best is trial 10 with value: 0.8473625140291807.\n",
      "[I 2025-09-02 11:50:38,550] Trial 20 finished with value: 0.8428731762065096 and parameters: {'lgb_weight': 0.8959003703801377, 'xgb_weight': 0.7975440493378296, 'rf_weight': 0.5595811391020827, 'et_weight': 0.24554030832833104, 'svm_weight': 0.7645303912286305, 'lr_weight': 0.6438213784070337}. Best is trial 10 with value: 0.8473625140291807.\n",
      "[I 2025-09-02 11:50:38,553] Trial 21 finished with value: 0.8462401795735129 and parameters: {'lgb_weight': 0.9822080104602896, 'xgb_weight': 0.6264789135516162, 'rf_weight': 0.3483349798666536, 'et_weight': 0.053001986288141754, 'svm_weight': 0.6765930116661786, 'lr_weight': 0.2838165025079958}. Best is trial 10 with value: 0.8473625140291807.\n",
      "[I 2025-09-02 11:50:38,556] Trial 22 finished with value: 0.8462401795735129 and parameters: {'lgb_weight': 0.8976801025116038, 'xgb_weight': 0.4176765174659266, 'rf_weight': 0.4682652260775046, 'et_weight': 0.00039031064955535877, 'svm_weight': 0.624286306294607, 'lr_weight': 0.256735668727431}. Best is trial 10 with value: 0.8473625140291807.\n"
     ]
    },
    {
     "name": "stdout",
     "output_type": "stream",
     "text": [
      "[I 2025-09-02 11:50:38,559] Trial 23 finished with value: 0.8473625140291807 and parameters: {'lgb_weight': 0.6767473965306193, 'xgb_weight': 0.5577600256335348, 'rf_weight': 0.2377489041230749, 'et_weight': 0.10654699437019986, 'svm_weight': 0.5122137881108981, 'lr_weight': 0.3830063022876951}. Best is trial 10 with value: 0.8473625140291807.\n"
     ]
    },
    {
     "name": "stdout",
     "output_type": "stream",
     "text": [
      "[I 2025-09-02 11:50:38,563] Trial 24 finished with value: 0.8451178451178452 and parameters: {'lgb_weight': 0.6572264044054401, 'xgb_weight': 0.5551736786203355, 'rf_weight': 0.2430584087017256, 'et_weight': 0.08386494612868925, 'svm_weight': 0.4153572300743903, 'lr_weight': 0.42497380958128306}. Best is trial 10 with value: 0.8473625140291807.\n",
      "[I 2025-09-02 11:50:38,567] Trial 25 finished with value: 0.8462401795735129 and parameters: {'lgb_weight': 0.7054070708288731, 'xgb_weight': 0.34428263624996824, 'rf_weight': 0.14726135966679627, 'et_weight': 0.11361836644907176, 'svm_weight': 0.5173525652140669, 'lr_weight': 0.11008214409475708}. Best is trial 10 with value: 0.8473625140291807.\n",
      "[I 2025-09-02 11:50:38,570] Trial 26 finished with value: 0.8451178451178452 and parameters: {'lgb_weight': 0.7944552589740534, 'xgb_weight': 0.7026604744391588, 'rf_weight': 0.262710597972473, 'et_weight': 0.2414113024346805, 'svm_weight': 0.5133313043076896, 'lr_weight': 0.5970446750394403}. Best is trial 10 with value: 0.8473625140291807.\n",
      "[I 2025-09-02 11:50:38,574] Trial 27 finished with value: 0.8428731762065096 and parameters: {'lgb_weight': 0.8940353008459652, 'xgb_weight': 0.45514660963675163, 'rf_weight': 0.30954852247807996, 'et_weight': 0.18153859757208676, 'svm_weight': 0.36314027662114734, 'lr_weight': 0.3533252432767659}. Best is trial 10 with value: 0.8473625140291807.\n",
      "[I 2025-09-02 11:50:38,577] Trial 28 finished with value: 0.8395061728395061 and parameters: {'lgb_weight': 0.18851458307303098, 'xgb_weight': 0.7864340204704233, 'rf_weight': 0.43358316610321673, 'et_weight': 0.09266190233956148, 'svm_weight': 0.8543322369854978, 'lr_weight': 0.7219854080403716}. Best is trial 10 with value: 0.8473625140291807.\n",
      "[I 2025-09-02 11:50:38,580] Trial 29 finished with value: 0.8417508417508418 and parameters: {'lgb_weight': 0.538487293677396, 'xgb_weight': 0.9974698284809731, 'rf_weight': 0.1321682771570255, 'et_weight': 0.5699054756297404, 'svm_weight': 0.16434365252616923, 'lr_weight': 0.13350450437181838}. Best is trial 10 with value: 0.8473625140291807.\n",
      "[I 2025-09-02 11:50:38,583] Trial 30 finished with value: 0.8451178451178452 and parameters: {'lgb_weight': 0.6413166691254096, 'xgb_weight': 0.5917123448499332, 'rf_weight': 0.7305522033682628, 'et_weight': 0.4145917565949374, 'svm_weight': 0.4611767557695122, 'lr_weight': 0.40096237580560923}. Best is trial 10 with value: 0.8473625140291807.\n",
      "[I 2025-09-02 11:50:38,586] Trial 31 finished with value: 0.8451178451178452 and parameters: {'lgb_weight': 0.9332409286031609, 'xgb_weight': 0.6361131907749462, 'rf_weight': 0.39704616689740935, 'et_weight': 0.03440317187726209, 'svm_weight': 0.6683896193577393, 'lr_weight': 0.24203649438463565}. Best is trial 10 with value: 0.8473625140291807.\n",
      "[I 2025-09-02 11:50:38,589] Trial 32 finished with value: 0.8473625140291807 and parameters: {'lgb_weight': 0.8476402497042241, 'xgb_weight': 0.49403137473583836, 'rf_weight': 0.5532761215512378, 'et_weight': 0.005430077201880372, 'svm_weight': 0.7462935522097454, 'lr_weight': 0.3129090351269207}. Best is trial 10 with value: 0.8473625140291807.\n",
      "[I 2025-09-02 11:50:38,592] Trial 33 finished with value: 0.8428731762065096 and parameters: {'lgb_weight': 0.8436298615487889, 'xgb_weight': 0.4771309450597168, 'rf_weight': 0.5703135557501641, 'et_weight': 0.12339983521778736, 'svm_weight': 0.73361866430127, 'lr_weight': 0.460788789031206}. Best is trial 10 with value: 0.8473625140291807.\n",
      "[I 2025-09-02 11:50:38,595] Trial 34 finished with value: 0.8439955106621774 and parameters: {'lgb_weight': 0.7532241410098673, 'xgb_weight': 0.32735722777212195, 'rf_weight': 0.6437073036326417, 'et_weight': 0.17785183389299125, 'svm_weight': 0.5618853306782553, 'lr_weight': 0.3200056200173848}. Best is trial 10 with value: 0.8473625140291807.\n",
      "[I 2025-09-02 11:50:38,598] Trial 35 finished with value: 0.8451178451178452 and parameters: {'lgb_weight': 0.824930171860024, 'xgb_weight': 0.5545920198564845, 'rf_weight': 0.5322728275789339, 'et_weight': 0.24023507796271537, 'svm_weight': 0.2354184852213661, 'lr_weight': 0.19191678343111881}. Best is trial 10 with value: 0.8473625140291807.\n",
      "[I 2025-09-02 11:50:38,601] Trial 36 finished with value: 0.8439955106621774 and parameters: {'lgb_weight': 0.6651274853688888, 'xgb_weight': 0.7234518875837553, 'rf_weight': 0.32877681068502407, 'et_weight': 0.07536762452723603, 'svm_weight': 0.8789675400807032, 'lr_weight': 0.09123722242836696}. Best is trial 10 with value: 0.8473625140291807.\n",
      "[I 2025-09-02 11:50:38,603] Trial 37 finished with value: 0.8428731762065096 and parameters: {'lgb_weight': 0.35981096710114013, 'xgb_weight': 0.8315651457566958, 'rf_weight': 0.7881185864342393, 'et_weight': 0.8874432378189304, 'svm_weight': 0.5999061923642109, 'lr_weight': 0.556264005425815}. Best is trial 10 with value: 0.8473625140291807.\n",
      "[I 2025-09-02 11:50:38,606] Trial 38 finished with value: 0.8462401795735129 and parameters: {'lgb_weight': 0.866938888526139, 'xgb_weight': 0.47976292193579007, 'rf_weight': 0.20347581524593497, 'et_weight': 0.1535553032304086, 'svm_weight': 0.7096741780532523, 'lr_weight': 0.37607468871412714}. Best is trial 10 with value: 0.8473625140291807.\n",
      "[I 2025-09-02 11:50:38,609] Trial 39 finished with value: 0.8451178451178452 and parameters: {'lgb_weight': 0.5045594147961994, 'xgb_weight': 0.2544706058654857, 'rf_weight': 0.6269302547794083, 'et_weight': 0.07107508681115904, 'svm_weight': 0.35541119214042083, 'lr_weight': 0.06548158391780162}. Best is trial 10 with value: 0.8473625140291807.\n",
      "[I 2025-09-02 11:50:38,612] Trial 40 finished with value: 0.8462401795735129 and parameters: {'lgb_weight': 0.5913918185898498, 'xgb_weight': 0.6705762521946967, 'rf_weight': 0.44470039021267393, 'et_weight': 0.35568883659237, 'svm_weight': 0.5548979159481268, 'lr_weight': 0.48358047972258966}. Best is trial 10 with value: 0.8473625140291807.\n",
      "[I 2025-09-02 11:50:38,615] Trial 41 finished with value: 0.8473625140291807 and parameters: {'lgb_weight': 0.9350301326214097, 'xgb_weight': 0.5650609235891589, 'rf_weight': 0.3678267012063479, 'et_weight': 0.025601437745921177, 'svm_weight': 0.7966526794141379, 'lr_weight': 0.2936803238396093}. Best is trial 10 with value: 0.8473625140291807.\n",
      "[I 2025-09-02 11:50:38,617] Trial 42 finished with value: 0.8451178451178452 and parameters: {'lgb_weight': 0.9325697862487133, 'xgb_weight': 0.5675774085109473, 'rf_weight': 0.26059486366400797, 'et_weight': 0.0015334969850303373, 'svm_weight': 0.9133468183333054, 'lr_weight': 0.2982451893646033}. Best is trial 10 with value: 0.8473625140291807.\n",
      "[I 2025-09-02 11:50:38,620] Trial 43 finished with value: 0.8462401795735129 and parameters: {'lgb_weight': 0.8031631051461432, 'xgb_weight': 0.5204445686619537, 'rf_weight': 0.5315671632649581, 'et_weight': 0.0546313899903028, 'svm_weight': 0.8159347533274628, 'lr_weight': 0.17177468940216725}. Best is trial 10 with value: 0.8473625140291807.\n",
      "[I 2025-09-02 11:50:38,622] Trial 44 finished with value: 0.8338945005611672 and parameters: {'lgb_weight': 0.9158501074923818, 'xgb_weight': 0.005458575377313035, 'rf_weight': 0.3514060607012237, 'et_weight': 0.11931707528919996, 'svm_weight': 0.9779747377518548, 'lr_weight': 0.34597693439265126}. Best is trial 10 with value: 0.8473625140291807.\n",
      "[I 2025-09-02 11:50:38,625] Trial 45 finished with value: 0.8451178451178452 and parameters: {'lgb_weight': 0.7593600813011481, 'xgb_weight': 0.749285318977463, 'rf_weight': 0.29170007560030853, 'et_weight': 0.19596980814527942, 'svm_weight': 0.6475456884406504, 'lr_weight': 0.5435021782204172}. Best is trial 10 with value: 0.8473625140291807.\n",
      "[I 2025-09-02 11:50:38,628] Trial 46 finished with value: 0.8417508417508418 and parameters: {'lgb_weight': 0.99283208727362, 'xgb_weight': 0.6662251052459482, 'rf_weight': 0.20502465260788336, 'et_weight': 0.032714280740475415, 'svm_weight': 0.7688604639154614, 'lr_weight': 0.9919564653632482}. Best is trial 10 with value: 0.8473625140291807.\n",
      "[I 2025-09-02 11:50:38,630] Trial 47 finished with value: 0.8462401795735129 and parameters: {'lgb_weight': 0.8388392283069649, 'xgb_weight': 0.44444384708616747, 'rf_weight': 0.3695799059177217, 'et_weight': 0.14614569412560996, 'svm_weight': 0.7220764440154012, 'lr_weight': 0.21683793118485267}. Best is trial 10 with value: 0.8473625140291807.\n",
      "[I 2025-09-02 11:50:38,633] Trial 48 finished with value: 0.8428731762065096 and parameters: {'lgb_weight': 0.9439856539177188, 'xgb_weight': 0.8712170988625488, 'rf_weight': 0.4345548536959814, 'et_weight': 0.715178644798404, 'svm_weight': 0.8105324522169878, 'lr_weight': 0.3906584336645491}. Best is trial 10 with value: 0.8473625140291807.\n",
      "[I 2025-09-02 11:50:38,636] Trial 49 finished with value: 0.835016835016835 and parameters: {'lgb_weight': 0.12034299787022817, 'xgb_weight': 0.389450389468899, 'rf_weight': 0.5027858421476906, 'et_weight': 0.08721552661924908, 'svm_weight': 0.4758289772308486, 'lr_weight': 0.9299864218315568}. Best is trial 10 with value: 0.8473625140291807.\n",
      "[I 2025-09-02 11:50:38,638] Trial 50 finished with value: 0.8406285072951739 and parameters: {'lgb_weight': 0.4174249811734262, 'xgb_weight': 0.5053653396075953, 'rf_weight': 0.9986409325592858, 'et_weight': 0.2195967271001806, 'svm_weight': 0.6011268008272348, 'lr_weight': 0.7905824228406693}. Best is trial 10 with value: 0.8473625140291807.\n",
      "[I 2025-09-02 11:50:38,641] Trial 51 finished with value: 0.8451178451178452 and parameters: {'lgb_weight': 0.87799566422365, 'xgb_weight': 0.595722550792335, 'rf_weight': 0.3923364078137274, 'et_weight': 0.0007748807154570481, 'svm_weight': 0.6421838334968194, 'lr_weight': 0.26727891085559036}. Best is trial 10 with value: 0.8473625140291807.\n",
      "[I 2025-09-02 11:50:38,644] Trial 52 finished with value: 0.8451178451178452 and parameters: {'lgb_weight': 0.9972787137289797, 'xgb_weight': 0.624286485360682, 'rf_weight': 0.29052590108692555, 'et_weight': 0.05151068187892085, 'svm_weight': 0.5355552318361436, 'lr_weight': 0.31101760757190666}. Best is trial 10 with value: 0.8473625140291807.\n",
      "[I 2025-09-02 11:50:38,646] Trial 53 finished with value: 0.8451178451178452 and parameters: {'lgb_weight': 0.9492924568279443, 'xgb_weight': 0.5820195490517716, 'rf_weight': 0.37120222364605315, 'et_weight': 0.022789263547050638, 'svm_weight': 0.7071851393375742, 'lr_weight': 0.21825720079138905}. Best is trial 10 with value: 0.8473625140291807.\n",
      "[I 2025-09-02 11:50:38,649] Trial 54 finished with value: 0.8428731762065096 and parameters: {'lgb_weight': 0.7129391843100692, 'xgb_weight': 0.5323996495779436, 'rf_weight': 0.5888900372404716, 'et_weight': 0.0971371466559975, 'svm_weight': 0.779308799093156, 'lr_weight': 0.43113273227196763}. Best is trial 10 with value: 0.8473625140291807.\n",
      "[I 2025-09-02 11:50:38,652] Trial 55 finished with value: 0.8439955106621774 and parameters: {'lgb_weight': 0.7889317633356219, 'xgb_weight': 0.6488269511161379, 'rf_weight': 0.4882199609503385, 'et_weight': 0.15722700104876214, 'svm_weight': 0.426273859409822, 'lr_weight': 0.15680711159435756}. Best is trial 10 with value: 0.8473625140291807.\n",
      "[I 2025-09-02 11:50:38,654] Trial 56 finished with value: 0.8439955106621774 and parameters: {'lgb_weight': 0.8676160409383992, 'xgb_weight': 0.6944137141380673, 'rf_weight': 0.235849533962672, 'et_weight': 0.042728771427184384, 'svm_weight': 0.6122617368271746, 'lr_weight': 0.04379228765148353}. Best is trial 10 with value: 0.8473625140291807.\n",
      "[I 2025-09-02 11:50:38,657] Trial 57 finished with value: 0.8462401795735129 and parameters: {'lgb_weight': 0.9097239041625688, 'xgb_weight': 0.609428531822706, 'rf_weight': 0.1600081392985892, 'et_weight': 0.11241938798568116, 'svm_weight': 0.8583215750625797, 'lr_weight': 0.26292341650897044}. Best is trial 10 with value: 0.8473625140291807.\n",
      "[I 2025-09-02 11:50:38,659] Trial 58 finished with value: 0.8451178451178452 and parameters: {'lgb_weight': 0.9646718023980455, 'xgb_weight': 0.7563498752140425, 'rf_weight': 0.4354719170178528, 'et_weight': 0.5006686585442219, 'svm_weight': 0.4888159271741971, 'lr_weight': 0.4700722683952618}. Best is trial 10 with value: 0.8473625140291807.\n",
      "[I 2025-09-02 11:50:38,662] Trial 59 finished with value: 0.8439955106621774 and parameters: {'lgb_weight': 0.8175645283867923, 'xgb_weight': 0.36642383485811963, 'rf_weight': 0.08984575648728213, 'et_weight': 0.26965605483871097, 'svm_weight': 0.5800171037900719, 'lr_weight': 0.34131233433254005}. Best is trial 10 with value: 0.8473625140291807.\n",
      "[I 2025-09-02 11:50:38,665] Trial 60 finished with value: 0.8417508417508418 and parameters: {'lgb_weight': 0.7558564972672362, 'xgb_weight': 0.44127360780478864, 'rf_weight': 0.33732325439788047, 'et_weight': 0.9943019267014168, 'svm_weight': 0.679809205427774, 'lr_weight': 0.4038255582423751}. Best is trial 10 with value: 0.8473625140291807.\n",
      "[I 2025-09-02 11:50:38,668] Trial 61 finished with value: 0.8462401795735129 and parameters: {'lgb_weight': 0.9715474915133135, 'xgb_weight': 0.5535399411073011, 'rf_weight': 0.40570522699152645, 'et_weight': 0.0032844741030758277, 'svm_weight': 0.754306035665943, 'lr_weight': 0.2881062886082673}. Best is trial 10 with value: 0.8473625140291807.\n",
      "[I 2025-09-02 11:50:38,670] Trial 62 finished with value: 0.8462401795735129 and parameters: {'lgb_weight': 0.8961430234458007, 'xgb_weight': 0.4861618460052316, 'rf_weight': 0.5294664019788489, 'et_weight': 0.0700833607658477, 'svm_weight': 0.6847358919976531, 'lr_weight': 0.2230027706973145}. Best is trial 10 with value: 0.8473625140291807.\n",
      "[I 2025-09-02 11:50:38,673] Trial 63 finished with value: 0.8439955106621774 and parameters: {'lgb_weight': 0.9996406309804552, 'xgb_weight': 0.6155750050503598, 'rf_weight': 0.4088333261334632, 'et_weight': 0.02353005006728252, 'svm_weight': 0.648150090532996, 'lr_weight': 0.1283270083560757}. Best is trial 10 with value: 0.8473625140291807.\n",
      "[I 2025-09-02 11:50:38,676] Trial 64 finished with value: 0.8473625140291807 and parameters: {'lgb_weight': 0.9345435602684585, 'xgb_weight': 0.6935185148790235, 'rf_weight': 0.4579740729347583, 'et_weight': 0.032531732918701275, 'svm_weight': 0.7943675454283289, 'lr_weight': 0.36194552778373446}. Best is trial 10 with value: 0.8473625140291807.\n",
      "[I 2025-09-02 11:50:38,678] Trial 65 finished with value: 0.8462401795735129 and parameters: {'lgb_weight': 0.8520187573810573, 'xgb_weight': 0.7013165276697598, 'rf_weight': 0.46118413029514216, 'et_weight': 0.05809849814592998, 'svm_weight': 0.9084883821429692, 'lr_weight': 0.3632942634011117}. Best is trial 10 with value: 0.8473625140291807.\n",
      "[I 2025-09-02 11:50:38,681] Trial 66 finished with value: 0.8462401795735129 and parameters: {'lgb_weight': 0.9268957120210607, 'xgb_weight': 0.6398852972003413, 'rf_weight': 0.6657546089292474, 'et_weight': 0.10228645774548598, 'svm_weight': 0.835903037947658, 'lr_weight': 0.4529226174896819}. Best is trial 10 with value: 0.8473625140291807.\n",
      "[I 2025-09-02 11:50:38,684] Trial 67 finished with value: 0.8417508417508418 and parameters: {'lgb_weight': 0.6937584110938801, 'xgb_weight': 0.5355017583389674, 'rf_weight': 0.3133445547300544, 'et_weight': 0.13825506102579277, 'svm_weight': 0.7954423937437609, 'lr_weight': 0.32298352653432205}. Best is trial 10 with value: 0.8473625140291807.\n",
      "[I 2025-09-02 11:50:38,686] Trial 68 finished with value: 0.8451178451178452 and parameters: {'lgb_weight': 0.9553805550930534, 'xgb_weight': 0.8216948442102465, 'rf_weight': 0.5563351823296327, 'et_weight': 0.037670091691609606, 'svm_weight': 0.3915639390775613, 'lr_weight': 0.5146633291824132}. Best is trial 10 with value: 0.8473625140291807.\n",
      "[I 2025-09-02 11:50:38,689] Trial 69 finished with value: 0.8439955106621774 and parameters: {'lgb_weight': 0.7823408447824661, 'xgb_weight': 0.7567689529692885, 'rf_weight': 0.28295128785852386, 'et_weight': 0.173014996652272, 'svm_weight': 0.7415415015275263, 'lr_weight': 0.2876585117238843}. Best is trial 10 with value: 0.8473625140291807.\n",
      "[I 2025-09-02 11:50:38,692] Trial 70 finished with value: 0.8428731762065096 and parameters: {'lgb_weight': 0.6235392196508949, 'xgb_weight': 0.719624465495499, 'rf_weight': 0.5073995803384229, 'et_weight': 0.5391835084350578, 'svm_weight': 0.28136815857915287, 'lr_weight': 0.4056413225919978}. Best is trial 10 with value: 0.8473625140291807.\n"
     ]
    },
    {
     "name": "stdout",
     "output_type": "stream",
     "text": [
      "[I 2025-09-02 11:50:38,695] Trial 71 finished with value: 0.8462401795735129 and parameters: {'lgb_weight': 0.8770074031238493, 'xgb_weight': 0.5636307129679395, 'rf_weight': 0.47063493503784815, 'et_weight': 0.003151943821452172, 'svm_weight': 0.6983195013134065, 'lr_weight': 0.24581381256777643}. Best is trial 10 with value: 0.8473625140291807.\n",
      "[I 2025-09-02 11:50:38,698] Trial 72 finished with value: 0.8451178451178452 and parameters: {'lgb_weight': 0.9132498644846989, 'xgb_weight': 0.6760860189036098, 'rf_weight': 0.36356565627030163, 'et_weight': 0.07498789787484952, 'svm_weight': 0.5315705363327998, 'lr_weight': 0.3723621761836466}. Best is trial 10 with value: 0.8473625140291807.\n",
      "[I 2025-09-02 11:50:38,702] Trial 73 finished with value: 0.8439955106621774 and parameters: {'lgb_weight': 0.9738056456461704, 'xgb_weight': 0.5878175934269843, 'rf_weight': 0.4131542366115015, 'et_weight': 0.027589203631067215, 'svm_weight': 0.6309143793810765, 'lr_weight': 0.17903136524862628}. Best is trial 10 with value: 0.8473625140291807.\n"
     ]
    },
    {
     "name": "stdout",
     "output_type": "stream",
     "text": [
      "[I 2025-09-02 11:50:38,705] Trial 74 finished with value: 0.8462401795735129 and parameters: {'lgb_weight': 0.82278345596094, 'xgb_weight': 0.46747526213994545, 'rf_weight': 0.3333848773320734, 'et_weight': 0.09387680529955303, 'svm_weight': 0.7407036452670082, 'lr_weight': 0.20698678360656747}. Best is trial 10 with value: 0.8473625140291807.\n"
     ]
    },
    {
     "name": "stdout",
     "output_type": "stream",
     "text": [
      "[I 2025-09-02 11:50:38,708] Trial 75 finished with value: 0.8473625140291807 and parameters: {'lgb_weight': 0.8858058066857589, 'xgb_weight': 0.654678144066098, 'rf_weight': 0.38476889680036697, 'et_weight': 0.06149742135141467, 'svm_weight': 0.7931961589291202, 'lr_weight': 0.3311532067967352}. Best is trial 10 with value: 0.8473625140291807.\n"
     ]
    },
    {
     "name": "stdout",
     "output_type": "stream",
     "text": [
      "[I 2025-09-02 11:50:38,712] Trial 76 finished with value: 0.8439955106621774 and parameters: {'lgb_weight': 0.7269922169066101, 'xgb_weight': 0.6474424492932495, 'rf_weight': 0.38277812822021257, 'et_weight': 0.12502259165808874, 'svm_weight': 0.8801099012266982, 'lr_weight': 0.3281048751147192}. Best is trial 10 with value: 0.8473625140291807.\n",
      "[I 2025-09-02 11:50:38,715] Trial 77 finished with value: 0.8462401795735129 and parameters: {'lgb_weight': 0.8378669042863687, 'xgb_weight': 0.515371329126298, 'rf_weight': 0.22561899685656311, 'et_weight': 0.05572264013540536, 'svm_weight': 0.44364294267079485, 'lr_weight': 0.4332136768249989}. Best is trial 10 with value: 0.8473625140291807.\n",
      "[I 2025-09-02 11:50:38,718] Trial 78 finished with value: 0.8428731762065096 and parameters: {'lgb_weight': 0.6797215598591778, 'xgb_weight': 0.6701418175577251, 'rf_weight': 0.605828606862635, 'et_weight': 0.8730450303178987, 'svm_weight': 0.950264803363586, 'lr_weight': 0.5858580958054767}. Best is trial 10 with value: 0.8473625140291807.\n",
      "[I 2025-09-02 11:50:38,720] Trial 79 finished with value: 0.8451178451178452 and parameters: {'lgb_weight': 0.888122878833254, 'xgb_weight': 0.7306842784865799, 'rf_weight': 0.4561354558014024, 'et_weight': 0.21437026730855602, 'svm_weight': 0.8015150847654533, 'lr_weight': 0.2696968192498771}. Best is trial 10 with value: 0.8473625140291807.\n",
      "[I 2025-09-02 11:50:38,724] Trial 80 finished with value: 0.8406285072951739 and parameters: {'lgb_weight': 0.24215732786975236, 'xgb_weight': 0.7908353318909616, 'rf_weight': 0.8989998829616029, 'et_weight': 0.07620326053663573, 'svm_weight': 0.5719669508725548, 'lr_weight': 0.35407658383837637}. Best is trial 10 with value: 0.8473625140291807.\n",
      "[I 2025-09-02 11:50:38,726] Trial 81 finished with value: 0.8462401795735129 and parameters: {'lgb_weight': 0.9454812868290559, 'xgb_weight': 0.606582043590431, 'rf_weight': 0.428879055423432, 'et_weight': 0.016638489815152323, 'svm_weight': 0.7827889721486362, 'lr_weight': 0.2398393590963721}. Best is trial 10 with value: 0.8473625140291807.\n",
      "[I 2025-09-02 11:50:38,729] Trial 82 finished with value: 0.8473625140291807 and parameters: {'lgb_weight': 0.92295427311911, 'xgb_weight': 0.5733509637913216, 'rf_weight': 0.34383404922432914, 'et_weight': 0.03924055112701805, 'svm_weight': 0.8357752970814005, 'lr_weight': 0.2939374933418321}. Best is trial 10 with value: 0.8473625140291807.\n",
      "[I 2025-09-02 11:50:38,732] Trial 83 finished with value: 0.8451178451178452 and parameters: {'lgb_weight': 0.9218694369727654, 'xgb_weight': 0.5739766064008973, 'rf_weight': 0.2690242289062102, 'et_weight': 0.026828051235903008, 'svm_weight': 0.8794534547322646, 'lr_weight': 0.3026188251203702}. Best is trial 10 with value: 0.8473625140291807.\n",
      "[I 2025-09-02 11:50:38,735] Trial 84 finished with value: 0.8439955106621774 and parameters: {'lgb_weight': 0.8968298703128298, 'xgb_weight': 0.49863172604807665, 'rf_weight': 0.349774117584745, 'et_weight': 0.055529477402125674, 'svm_weight': 0.8389093054419013, 'lr_weight': 0.3857882757350797}. Best is trial 10 with value: 0.8473625140291807.\n",
      "[I 2025-09-02 11:50:38,738] Trial 85 finished with value: 0.8428731762065096 and parameters: {'lgb_weight': 0.8601791820858032, 'xgb_weight': 0.54310481357172, 'rf_weight': 0.3175498915547817, 'et_weight': 0.6631311946201217, 'svm_weight': 0.9985364655754743, 'lr_weight': 0.335294025925332}. Best is trial 10 with value: 0.8473625140291807.\n",
      "[I 2025-09-02 11:50:38,740] Trial 86 finished with value: 0.8439955106621774 and parameters: {'lgb_weight': 0.8060012572929341, 'xgb_weight': 0.6298842345856847, 'rf_weight': 0.38157671870490595, 'et_weight': 0.10484236017478221, 'svm_weight': 0.9254603053864617, 'lr_weight': 0.27315547099934356}. Best is trial 10 with value: 0.8473625140291807.\n",
      "[I 2025-09-02 11:50:38,743] Trial 87 finished with value: 0.8439955106621774 and parameters: {'lgb_weight': 0.9499661335118398, 'xgb_weight': 0.42733262055605925, 'rf_weight': 0.3049311935480468, 'et_weight': 0.15889904917656383, 'svm_weight': 0.8291094782555575, 'lr_weight': 0.3101987430081908}. Best is trial 10 with value: 0.8473625140291807.\n",
      "[I 2025-09-02 11:50:38,746] Trial 88 finished with value: 0.8428731762065096 and parameters: {'lgb_weight': 0.8528527624889708, 'xgb_weight': 0.6912626503074699, 'rf_weight': 0.4868478828811057, 'et_weight': 0.04417514079712544, 'svm_weight': 0.7221694143399462, 'lr_weight': 0.07549848483275445}. Best is trial 10 with value: 0.8473625140291807.\n",
      "[I 2025-09-02 11:50:38,749] Trial 89 finished with value: 0.8473625140291807 and parameters: {'lgb_weight': 0.9263193443274018, 'xgb_weight': 0.6590527336747792, 'rf_weight': 0.41775483766745714, 'et_weight': 0.08189375744915595, 'svm_weight': 0.7533932994921257, 'lr_weight': 0.4138097471700475}. Best is trial 10 with value: 0.8473625140291807.\n",
      "[I 2025-09-02 11:50:38,752] Trial 90 finished with value: 0.8462401795735129 and parameters: {'lgb_weight': 0.7758150002948582, 'xgb_weight': 0.6521490300408577, 'rf_weight': 0.4118206126346383, 'et_weight': 0.12540309793894938, 'svm_weight': 0.762246697072705, 'lr_weight': 0.4226489108195702}. Best is trial 10 with value: 0.8473625140291807.\n",
      "[I 2025-09-02 11:50:38,755] Trial 91 finished with value: 0.8462401795735129 and parameters: {'lgb_weight': 0.9794909300086134, 'xgb_weight': 0.589179842565639, 'rf_weight': 0.3580356693953622, 'et_weight': 0.07331474877693415, 'svm_weight': 0.6620380052470336, 'lr_weight': 0.495642393046522}. Best is trial 10 with value: 0.8473625140291807.\n",
      "[I 2025-09-02 11:50:38,758] Trial 92 finished with value: 0.8473625140291807 and parameters: {'lgb_weight': 0.9263794472706232, 'xgb_weight': 0.6239888922273297, 'rf_weight': 0.51928242184808, 'et_weight': 0.022025324479124517, 'svm_weight': 0.8522041411748356, 'lr_weight': 0.3566700613218906}. Best is trial 10 with value: 0.8473625140291807.\n"
     ]
    },
    {
     "name": "stdout",
     "output_type": "stream",
     "text": [
      "[I 2025-09-02 11:50:38,761] Trial 93 finished with value: 0.8428731762065096 and parameters: {'lgb_weight': 0.569928562889125, 'xgb_weight': 0.7157269948486574, 'rf_weight': 0.5162281917455819, 'et_weight': 0.02705340809521533, 'svm_weight': 0.9030988179761757, 'lr_weight': 0.3713153488563734}. Best is trial 10 with value: 0.8473625140291807.\n"
     ]
    },
    {
     "name": "stdout",
     "output_type": "stream",
     "text": [
      "[I 2025-09-02 11:50:38,764] Trial 94 finished with value: 0.8462401795735129 and parameters: {'lgb_weight': 0.9296599135346292, 'xgb_weight': 0.684626807304231, 'rf_weight': 0.5636012128143919, 'et_weight': 0.09895444656090764, 'svm_weight': 0.8664760499799435, 'lr_weight': 0.455873895887541}. Best is trial 10 with value: 0.8473625140291807.\n",
      "[I 2025-09-02 11:50:38,767] Trial 95 finished with value: 0.8462401795735129 and parameters: {'lgb_weight': 0.8745989000445478, 'xgb_weight': 0.7656038917516387, 'rf_weight': 0.5463248242669501, 'et_weight': 0.041487691957441473, 'svm_weight': 0.7972889694993627, 'lr_weight': 0.41123939748827776}. Best is trial 10 with value: 0.8473625140291807.\n",
      "[I 2025-09-02 11:50:38,770] Trial 96 finished with value: 0.8451178451178452 and parameters: {'lgb_weight': 0.907847404721887, 'xgb_weight': 0.5707090147574624, 'rf_weight': 0.44737332129066987, 'et_weight': 0.3771331790954223, 'svm_weight': 0.8458130786727305, 'lr_weight': 0.34071124854214374}. Best is trial 10 with value: 0.8473625140291807.\n",
      "[I 2025-09-02 11:50:38,773] Trial 97 finished with value: 0.8473625140291807 and parameters: {'lgb_weight': 0.8356288478509596, 'xgb_weight': 0.6084521907552465, 'rf_weight': 0.5886545613768861, 'et_weight': 0.08215739622359378, 'svm_weight': 0.8147452422428846, 'lr_weight': 0.3584516323431933}. Best is trial 10 with value: 0.8473625140291807.\n",
      "[I 2025-09-02 11:50:38,776] Trial 98 finished with value: 0.8451178451178452 and parameters: {'lgb_weight': 0.732142214988025, 'xgb_weight': 0.519664148633561, 'rf_weight': 0.4746061296636149, 'et_weight': 0.1377217665707467, 'svm_weight': 0.780927543248202, 'lr_weight': 0.3042899476832813}. Best is trial 10 with value: 0.8473625140291807.\n",
      "[I 2025-09-02 11:50:38,779] Trial 99 finished with value: 0.8473625140291807 and parameters: {'lgb_weight': 0.9611049321940802, 'xgb_weight': 0.5421551851685691, 'rf_weight': 0.42646105138654233, 'et_weight': 0.0033043570949009837, 'svm_weight': 0.7502406900980448, 'lr_weight': 0.39088903316046647}. Best is trial 10 with value: 0.8473625140291807.\n",
      "[I 2025-09-02 11:50:38,782] Trial 100 finished with value: 0.8484848484848485 and parameters: {'lgb_weight': 0.8822779945726751, 'xgb_weight': 0.6572254061477755, 'rf_weight': 0.38308179951746263, 'et_weight': 0.0613261581059554, 'svm_weight': 0.7238575469945601, 'lr_weight': 0.43797138346289866}. Best is trial 100 with value: 0.8484848484848485.\n",
      "[I 2025-09-02 11:50:38,785] Trial 101 finished with value: 0.8484848484848485 and parameters: {'lgb_weight': 0.9328248082660081, 'xgb_weight': 0.649697595059635, 'rf_weight': 0.38769084722017966, 'et_weight': 0.06826160712283488, 'svm_weight': 0.720872484025217, 'lr_weight': 0.3804590803989462}. Best is trial 100 with value: 0.8484848484848485.\n",
      "[I 2025-09-02 11:50:38,788] Trial 102 finished with value: 0.8484848484848485 and parameters: {'lgb_weight': 0.894853281154429, 'xgb_weight': 0.6548667916562952, 'rf_weight': 0.3887501517388977, 'et_weight': 0.06581759433455675, 'svm_weight': 0.7228994474571667, 'lr_weight': 0.442683959261237}. Best is trial 100 with value: 0.8484848484848485.\n",
      "[I 2025-09-02 11:50:38,791] Trial 103 finished with value: 0.8473625140291807 and parameters: {'lgb_weight': 0.8890271819690918, 'xgb_weight': 0.7115101953028771, 'rf_weight': 0.3881916806805832, 'et_weight': 0.061960815585989336, 'svm_weight': 0.704486467545519, 'lr_weight': 0.48350102091741015}. Best is trial 100 with value: 0.8484848484848485.\n",
      "[I 2025-09-02 11:50:38,794] Trial 104 finished with value: 0.8428731762065096 and parameters: {'lgb_weight': 0.8651479740740695, 'xgb_weight': 0.6367052316788337, 'rf_weight': 0.36298402809597524, 'et_weight': 0.10680714767873895, 'svm_weight': 0.6988072153824078, 'lr_weight': 0.013015347213076844}. Best is trial 100 with value: 0.8484848484848485.\n",
      "[I 2025-09-02 11:50:38,797] Trial 105 finished with value: 0.8473625140291807 and parameters: {'lgb_weight': 0.8074042550365872, 'xgb_weight': 0.5936791517091705, 'rf_weight': 0.33485151984679734, 'et_weight': 0.04401999394131023, 'svm_weight': 0.7281660395430655, 'lr_weight': 0.44319855895642546}. Best is trial 100 with value: 0.8484848484848485.\n",
      "[I 2025-09-02 11:50:38,800] Trial 106 finished with value: 0.8462401795735129 and parameters: {'lgb_weight': 0.902777891973402, 'xgb_weight': 0.49158640086398864, 'rf_weight': 0.39050804457015353, 'et_weight': 0.06147211117791444, 'svm_weight': 0.6578926072853561, 'lr_weight': 0.5197524100669957}. Best is trial 100 with value: 0.8484848484848485.\n",
      "[I 2025-09-02 11:50:38,804] Trial 107 finished with value: 0.8473625140291807 and parameters: {'lgb_weight': 0.9427359801745717, 'xgb_weight': 0.7332694914272957, 'rf_weight': 0.278743828058143, 'et_weight': 0.0008450880798676133, 'svm_weight': 0.6185375129871019, 'lr_weight': 0.5465200650729714}. Best is trial 100 with value: 0.8484848484848485.\n",
      "[I 2025-09-02 11:50:38,807] Trial 108 finished with value: 0.8451178451178452 and parameters: {'lgb_weight': 0.8338920446600194, 'xgb_weight': 0.6610262119232121, 'rf_weight': 0.17511527432320342, 'et_weight': 0.16146678404495232, 'svm_weight': 0.4674216470802958, 'lr_weight': 0.4694853786463287}. Best is trial 100 with value: 0.8484848484848485.\n",
      "[I 2025-09-02 11:50:38,809] Trial 109 finished with value: 0.8462401795735129 and parameters: {'lgb_weight': 0.8745902383841616, 'xgb_weight': 0.46407188362287277, 'rf_weight': 0.2996458634684462, 'et_weight': 0.033577363916081016, 'svm_weight': 0.5055459243226651, 'lr_weight': 0.6555374142856152}. Best is trial 100 with value: 0.8484848484848485.\n",
      "[I 2025-09-02 11:50:38,813] Trial 110 finished with value: 0.8406285072951739 and parameters: {'lgb_weight': 0.5031879175408266, 'xgb_weight': 0.5550087168275265, 'rf_weight': 0.25176480291227654, 'et_weight': 0.20146603890471274, 'svm_weight': 0.7732390552288585, 'lr_weight': 0.39304753650336377}. Best is trial 100 with value: 0.8484848484848485.\n",
      "[I 2025-09-02 11:50:38,815] Trial 111 finished with value: 0.8484848484848485 and parameters: {'lgb_weight': 0.9869625777498728, 'xgb_weight': 0.6617480571989388, 'rf_weight': 0.42025549174072463, 'et_weight': 0.09240126789121464, 'svm_weight': 0.7547376205578908, 'lr_weight': 0.42823960192801075}. Best is trial 100 with value: 0.8484848484848485.\n",
      "[I 2025-09-02 11:50:38,819] Trial 112 finished with value: 0.8473625140291807 and parameters: {'lgb_weight': 0.9857290046915119, 'xgb_weight': 0.6841428841125835, 'rf_weight': 0.4472094116108589, 'et_weight': 0.1176736562886798, 'svm_weight': 0.8192453513423803, 'lr_weight': 0.37903992101455697}. Best is trial 100 with value: 0.8484848484848485.\n",
      "[I 2025-09-02 11:50:38,822] Trial 113 finished with value: 0.8473625140291807 and parameters: {'lgb_weight': 0.9642017688047508, 'xgb_weight': 0.6122245676035625, 'rf_weight': 0.32821401393854294, 'et_weight': 0.0600044001487487, 'svm_weight': 0.6823950136187792, 'lr_weight': 0.32920945374977234}. Best is trial 100 with value: 0.8484848484848485.\n",
      "[I 2025-09-02 11:50:38,824] Trial 114 finished with value: 0.8439955106621774 and parameters: {'lgb_weight': 0.46836687942179933, 'xgb_weight': 0.578377535768013, 'rf_weight': 0.37780064819753095, 'et_weight': 0.09028832022146707, 'svm_weight': 0.06405879611111942, 'lr_weight': 0.4392535194682953}. Best is trial 100 with value: 0.8484848484848485.\n",
      "[I 2025-09-02 11:50:38,828] Trial 115 finished with value: 0.8451178451178452 and parameters: {'lgb_weight': 0.9089949118591265, 'xgb_weight': 0.698235775148649, 'rf_weight': 0.48892979727555885, 'et_weight': 0.0200395946144896, 'svm_weight': 0.7253273169410803, 'lr_weight': 0.2785742587674396}. Best is trial 100 with value: 0.8484848484848485.\n",
      "[I 2025-09-02 11:50:38,831] Trial 116 finished with value: 0.8451178451178452 and parameters: {'lgb_weight': 0.9959503714222508, 'xgb_weight': 0.6318028679964396, 'rf_weight': 0.401741463874018, 'et_weight': 0.136659398916266, 'svm_weight': 0.7950550117150216, 'lr_weight': 0.24236698129130738}. Best is trial 100 with value: 0.8484848484848485.\n",
      "[I 2025-09-02 11:50:38,834] Trial 117 finished with value: 0.8383838383838383 and parameters: {'lgb_weight': 7.341267310995159e-05, 'xgb_weight': 0.7751599071036241, 'rf_weight': 0.35104387015785976, 'et_weight': 0.044084848136559274, 'svm_weight': 0.7417276409936993, 'lr_weight': 0.7596529860537735}. Best is trial 100 with value: 0.8484848484848485.\n",
      "[I 2025-09-02 11:50:38,837] Trial 118 finished with value: 0.8462401795735129 and parameters: {'lgb_weight': 0.9441157689299625, 'xgb_weight': 0.7314991246191617, 'rf_weight': 0.12860326738942016, 'et_weight': 0.08549803165869818, 'svm_weight': 0.768779583085327, 'lr_weight': 0.47623082887016394}. Best is trial 100 with value: 0.8484848484848485.\n",
      "[I 2025-09-02 11:50:38,840] Trial 119 finished with value: 0.8462401795735129 and parameters: {'lgb_weight': 0.8878672806339557, 'xgb_weight': 0.6543835713855529, 'rf_weight': 0.4297461448219168, 'et_weight': 0.06644317820374161, 'svm_weight': 0.7147010582846426, 'lr_weight': 0.317454736875549}. Best is trial 100 with value: 0.8484848484848485.\n",
      "[I 2025-09-02 11:50:38,843] Trial 120 finished with value: 0.8439955106621774 and parameters: {'lgb_weight': 0.9564812521331536, 'xgb_weight': 0.8096295565951814, 'rf_weight': 0.22328710360933668, 'et_weight': 0.016774050849413816, 'svm_weight': 0.541886565049897, 'lr_weight': 0.5070860606541174}. Best is trial 100 with value: 0.8484848484848485.\n",
      "[I 2025-09-02 11:50:38,846] Trial 121 finished with value: 0.8473625140291807 and parameters: {'lgb_weight': 0.9140161491148252, 'xgb_weight': 0.6696583979372036, 'rf_weight': 0.4188167301271486, 'et_weight': 0.08503880103188192, 'svm_weight': 0.7887814606455016, 'lr_weight': 0.422423463920845}. Best is trial 100 with value: 0.8484848484848485.\n",
      "[I 2025-09-02 11:50:38,849] Trial 122 finished with value: 0.8451178451178452 and parameters: {'lgb_weight': 0.9281926182074502, 'xgb_weight': 0.7428378654015313, 'rf_weight': 0.4588988238008786, 'et_weight': 0.11249797380102382, 'svm_weight': 0.7511575907097277, 'lr_weight': 0.4001181573020345}. Best is trial 100 with value: 0.8484848484848485.\n",
      "[I 2025-09-02 11:50:38,852] Trial 123 finished with value: 0.8462401795735129 and parameters: {'lgb_weight': 0.8461293794243986, 'xgb_weight': 0.6566342143123465, 'rf_weight': 0.40044028009667865, 'et_weight': 0.04572570948120684, 'svm_weight': 0.8150756237915403, 'lr_weight': 0.4189297695067555}. Best is trial 100 with value: 0.8484848484848485.\n",
      "[I 2025-09-02 11:50:38,855] Trial 124 finished with value: 0.8462401795735129 and parameters: {'lgb_weight': 0.9751217067933801, 'xgb_weight': 0.6835836468733081, 'rf_weight': 0.3535162161484197, 'et_weight': 0.0746729109497537, 'svm_weight': 0.6920281097681468, 'lr_weight': 0.3707324343062784}. Best is trial 100 with value: 0.8484848484848485.\n",
      "[I 2025-09-02 11:50:38,858] Trial 125 finished with value: 0.8417508417508418 and parameters: {'lgb_weight': 0.9298834868048094, 'xgb_weight': 0.5261455076553097, 'rf_weight': 0.37009925081018985, 'et_weight': 0.029638088795025268, 'svm_weight': 0.5903597890662928, 'lr_weight': 0.8524877027395776}. Best is trial 100 with value: 0.8484848484848485.\n",
      "[I 2025-09-02 11:50:38,861] Trial 126 finished with value: 0.8462401795735129 and parameters: {'lgb_weight': 0.8893981953921516, 'xgb_weight': 0.6072139050162904, 'rf_weight': 0.44223250250337554, 'et_weight': 0.09624138398278836, 'svm_weight': 0.754310455126788, 'lr_weight': 0.2926832854212658}. Best is trial 100 with value: 0.8484848484848485.\n",
      "[I 2025-09-02 11:50:38,864] Trial 127 finished with value: 0.8451178451178452 and parameters: {'lgb_weight': 0.9997051179194859, 'xgb_weight': 0.5657856611551236, 'rf_weight': 0.4163909960939787, 'et_weight': 0.014987799089221737, 'svm_weight': 0.38828848822597906, 'lr_weight': 0.44924627807704604}. Best is trial 100 with value: 0.8484848484848485.\n",
      "[I 2025-09-02 11:50:38,867] Trial 128 finished with value: 0.8417508417508418 and parameters: {'lgb_weight': 0.8647649612436892, 'xgb_weight': 0.1638661918533213, 'rf_weight': 0.31423232395132217, 'et_weight': 0.05823655255581947, 'svm_weight': 0.6727607942985866, 'lr_weight': 0.34459934681033516}. Best is trial 100 with value: 0.8484848484848485.\n",
      "[I 2025-09-02 11:50:38,870] Trial 129 finished with value: 0.8473625140291807 and parameters: {'lgb_weight': 0.940573136547948, 'xgb_weight': 0.6419446802236173, 'rf_weight': 0.3859508369636687, 'et_weight': 0.14265629216902267, 'svm_weight': 0.7338786125465501, 'lr_weight': 0.5735768534610826}. Best is trial 100 with value: 0.8484848484848485.\n",
      "[I 2025-09-02 11:50:38,873] Trial 130 finished with value: 0.8462401795735129 and parameters: {'lgb_weight': 0.8148453525627126, 'xgb_weight': 0.7117440296309172, 'rf_weight': 0.47645571071205406, 'et_weight': 0.0015321700421481038, 'svm_weight': 0.829317750399842, 'lr_weight': 0.40780849094687543}. Best is trial 100 with value: 0.8484848484848485.\n",
      "[I 2025-09-02 11:50:38,876] Trial 131 finished with value: 0.8473625140291807 and parameters: {'lgb_weight': 0.9240039733781805, 'xgb_weight': 0.6216902138829715, 'rf_weight': 0.5130784426071383, 'et_weight': 0.02649194395450552, 'svm_weight': 0.8569499868642041, 'lr_weight': 0.3539427260139423}. Best is trial 100 with value: 0.8484848484848485.\n",
      "[I 2025-09-02 11:50:38,879] Trial 132 finished with value: 0.8473625140291807 and parameters: {'lgb_weight': 0.9090846929934764, 'xgb_weight': 0.5945902150398941, 'rf_weight': 0.454199985008107, 'et_weight': 0.032548469057550426, 'svm_weight': 0.7704068019508397, 'lr_weight': 0.37985663585810064}. Best is trial 100 with value: 0.8484848484848485.\n",
      "[I 2025-09-02 11:50:38,882] Trial 133 finished with value: 0.8473625140291807 and parameters: {'lgb_weight': 0.96509833174522, 'xgb_weight': 0.6626359265742067, 'rf_weight': 0.5307511881984037, 'et_weight': 0.0769219205463452, 'svm_weight': 0.8779391972685048, 'lr_weight': 0.3269281200014114}. Best is trial 100 with value: 0.8484848484848485.\n",
      "[I 2025-09-02 11:50:38,885] Trial 134 finished with value: 0.8451178451178452 and parameters: {'lgb_weight': 0.9330927647486973, 'xgb_weight': 0.6204650550404464, 'rf_weight': 0.3422429964714995, 'et_weight': 0.04786750067869602, 'svm_weight': 0.4437360729348778, 'lr_weight': 0.3480641233575824}. Best is trial 100 with value: 0.8484848484848485.\n",
      "[I 2025-09-02 11:50:38,888] Trial 135 finished with value: 0.8417508417508418 and parameters: {'lgb_weight': 0.8951819465123806, 'xgb_weight': 0.6392928470886069, 'rf_weight': 0.03538322446695341, 'et_weight': 0.8045030423437471, 'svm_weight': 0.8032519407719747, 'lr_weight': 0.3656631197447683}. Best is trial 100 with value: 0.8484848484848485.\n",
      "[I 2025-09-02 11:50:38,891] Trial 136 finished with value: 0.8462401795735129 and parameters: {'lgb_weight': 0.8515794653487477, 'xgb_weight': 0.5446916730543558, 'rf_weight': 0.5790079856500576, 'et_weight': 0.11284173519330275, 'svm_weight': 0.9003462149041399, 'lr_weight': 0.2528966912087234}. Best is trial 100 with value: 0.8484848484848485.\n",
      "[I 2025-09-02 11:50:38,894] Trial 137 finished with value: 0.8417508417508418 and parameters: {'lgb_weight': 0.35165901853121806, 'xgb_weight': 0.7016495600602888, 'rf_weight': 0.635266108752055, 'et_weight': 0.018504192119709127, 'svm_weight': 0.8424100252313926, 'lr_weight': 0.3033386592540084}. Best is trial 100 with value: 0.8484848484848485.\n"
     ]
    },
    {
     "name": "stdout",
     "output_type": "stream",
     "text": [
      "[I 2025-09-02 11:50:38,898] Trial 138 finished with value: 0.8484848484848485 and parameters: {'lgb_weight': 0.9738928420637221, 'xgb_weight': 0.6763245253191019, 'rf_weight': 0.40182637900194196, 'et_weight': 0.05957074717102067, 'svm_weight': 0.7872461673320575, 'lr_weight': 0.4338903406121589}. Best is trial 100 with value: 0.8484848484848485.\n",
      "[I 2025-09-02 11:50:38,901] Trial 139 finished with value: 0.8462401795735129 and parameters: {'lgb_weight': 0.978507140869774, 'xgb_weight': 0.67776664495287, 'rf_weight': 0.41175577652674533, 'et_weight': 0.4613129924869069, 'svm_weight': 0.7186351226506481, 'lr_weight': 0.45970951035002705}. Best is trial 100 with value: 0.8484848484848485.\n",
      "[I 2025-09-02 11:50:38,904] Trial 140 finished with value: 0.8462401795735129 and parameters: {'lgb_weight': 0.9569729250681878, 'xgb_weight': 0.5008738412581144, 'rf_weight': 0.3729306592543101, 'et_weight': 0.0662053605776604, 'svm_weight': 0.7561963455413747, 'lr_weight': 0.4308375182919313}. Best is trial 100 with value: 0.8484848484848485.\n"
     ]
    },
    {
     "name": "stdout",
     "output_type": "stream",
     "text": [
      "[I 2025-09-02 11:50:38,907] Trial 141 finished with value: 0.8473625140291807 and parameters: {'lgb_weight': 0.9128056921982565, 'xgb_weight': 0.5757742001147099, 'rf_weight': 0.42551104640155213, 'et_weight': 0.044452172139473285, 'svm_weight': 0.7993521336073485, 'lr_weight': 0.3943556438016068}. Best is trial 100 with value: 0.8484848484848485.\n"
     ]
    },
    {
     "name": "stdout",
     "output_type": "stream",
     "text": [
      "[I 2025-09-02 11:50:38,911] Trial 142 finished with value: 0.8473625140291807 and parameters: {'lgb_weight': 0.9431684953446784, 'xgb_weight': 0.6209837108177884, 'rf_weight': 0.49896036200841787, 'et_weight': 0.0010144153317222862, 'svm_weight': 0.7713546529412683, 'lr_weight': 0.4114872057136372}. Best is trial 100 with value: 0.8484848484848485.\n"
     ]
    },
    {
     "name": "stdout",
     "output_type": "stream",
     "text": [
      "[I 2025-09-02 11:50:38,914] Trial 143 finished with value: 0.8439955106621774 and parameters: {'lgb_weight': 0.8807789369077736, 'xgb_weight': 0.6566145438976349, 'rf_weight': 0.396987507920521, 'et_weight': 0.08179356783139599, 'svm_weight': 0.8269523909451847, 'lr_weight': 0.04332746969037882}. Best is trial 100 with value: 0.8484848484848485.\n",
      "[I 2025-09-02 11:50:38,917] Trial 144 finished with value: 0.8451178451178452 and parameters: {'lgb_weight': 0.9834998414951883, 'xgb_weight': 0.5927089677703121, 'rf_weight': 0.467819052904477, 'et_weight': 0.29832800066451776, 'svm_weight': 0.7816924290278672, 'lr_weight': 0.4380422585301712}. Best is trial 100 with value: 0.8484848484848485.\n",
      "[I 2025-09-02 11:50:38,920] Trial 145 finished with value: 0.8451178451178452 and parameters: {'lgb_weight': 0.9232996523641641, 'xgb_weight': 0.6905960956898793, 'rf_weight': 0.37232459375038285, 'et_weight': 0.09584299649735367, 'svm_weight': 0.7086238194481567, 'lr_weight': 0.36328354684994674}. Best is trial 100 with value: 0.8484848484848485.\n",
      "[I 2025-09-02 11:50:38,923] Trial 146 finished with value: 0.8439955106621774 and parameters: {'lgb_weight': 0.9641906358570371, 'xgb_weight': 0.6341691938146607, 'rf_weight': 0.3274227191535009, 'et_weight': 0.05605330327301388, 'svm_weight': 0.48635108691188117, 'lr_weight': 0.4932098308722998}. Best is trial 100 with value: 0.8484848484848485.\n",
      "[I 2025-09-02 11:50:38,926] Trial 147 finished with value: 0.8451178451178452 and parameters: {'lgb_weight': 0.8711051166317052, 'xgb_weight': 0.7187394795468085, 'rf_weight': 0.444429904259825, 'et_weight': 0.02835985761319905, 'svm_weight': 0.7388716574647292, 'lr_weight': 0.32426815516965235}. Best is trial 100 with value: 0.8484848484848485.\n",
      "[I 2025-09-02 11:50:38,930] Trial 148 finished with value: 0.8462401795735129 and parameters: {'lgb_weight': 0.6530944055308883, 'xgb_weight': 0.5559738844771306, 'rf_weight': 0.5474921444636796, 'et_weight': 0.12680511270597156, 'svm_weight': 0.6356179734192474, 'lr_weight': 0.2005523167938598}. Best is trial 100 with value: 0.8484848484848485.\n",
      "[I 2025-09-02 11:50:38,933] Trial 149 finished with value: 0.8473625140291807 and parameters: {'lgb_weight': 0.8991172364754977, 'xgb_weight': 0.6720647923888212, 'rf_weight': 0.39835647575476496, 'et_weight': 0.0412966693559395, 'svm_weight': 0.8528184035620923, 'lr_weight': 0.3831474793367625}. Best is trial 100 with value: 0.8484848484848485.\n",
      "[I 2025-09-02 11:50:38,936] Trial 150 finished with value: 0.8473625140291807 and parameters: {'lgb_weight': 0.9502028707437449, 'xgb_weight': 0.6031572172919576, 'rf_weight': 0.34813158409042505, 'et_weight': 0.06749936657243401, 'svm_weight': 0.8047914147949446, 'lr_weight': 0.2943531203103906}. Best is trial 100 with value: 0.8484848484848485.\n",
      "[I 2025-09-02 11:50:38,940] Trial 151 finished with value: 0.8473625140291807 and parameters: {'lgb_weight': 0.7902288593453741, 'xgb_weight': 0.6200173260489739, 'rf_weight': 0.6632513653797953, 'et_weight': 0.08838506413542856, 'svm_weight': 0.8106725749518235, 'lr_weight': 0.35298057928608284}. Best is trial 100 with value: 0.8484848484848485.\n",
      "[I 2025-09-02 11:50:38,943] Trial 152 finished with value: 0.8473625140291807 and parameters: {'lgb_weight': 0.8223320815675639, 'xgb_weight': 0.6461109713444113, 'rf_weight': 0.6012757022899905, 'et_weight': 0.01697911755042121, 'svm_weight': 0.8271664936894026, 'lr_weight': 0.40711009493068767}. Best is trial 100 with value: 0.8484848484848485.\n",
      "[I 2025-09-02 11:50:38,946] Trial 153 finished with value: 0.8462401795735129 and parameters: {'lgb_weight': 0.8360070137207622, 'xgb_weight': 0.5787593792956799, 'rf_weight': 0.6216871742793564, 'et_weight': 0.06769754038962342, 'svm_weight': 0.7641392437685307, 'lr_weight': 0.3367689201364665}. Best is trial 100 with value: 0.8484848484848485.\n",
      "[I 2025-09-02 11:50:38,950] Trial 154 finished with value: 0.8451178451178452 and parameters: {'lgb_weight': 0.7618356952916866, 'xgb_weight': 0.6950879599079991, 'rf_weight': 0.42784821568231723, 'et_weight': 0.09959698276660783, 'svm_weight': 0.8631545391082776, 'lr_weight': 0.3585860625543848}. Best is trial 100 with value: 0.8484848484848485.\n",
      "[I 2025-09-02 11:50:38,953] Trial 155 finished with value: 0.8462401795735129 and parameters: {'lgb_weight': 0.8610966668736916, 'xgb_weight': 0.5374929475346701, 'rf_weight': 0.5721588556807238, 'et_weight': 0.04456315701777318, 'svm_weight': 0.7873046397836817, 'lr_weight': 0.46540101722555527}. Best is trial 100 with value: 0.8484848484848485.\n",
      "[I 2025-09-02 11:50:38,956] Trial 156 finished with value: 0.8451178451178452 and parameters: {'lgb_weight': 0.9160648234489198, 'xgb_weight': 0.6050564866062015, 'rf_weight': 0.35864449700745127, 'et_weight': 0.017033529235555483, 'svm_weight': 0.41705640859507, 'lr_weight': 0.31440738924594464}. Best is trial 100 with value: 0.8484848484848485.\n",
      "[I 2025-09-02 11:50:38,960] Trial 157 finished with value: 0.8473625140291807 and parameters: {'lgb_weight': 0.8845597632656855, 'xgb_weight': 0.6655235698518727, 'rf_weight': 0.38916428434277284, 'et_weight': 0.1710924870112514, 'svm_weight': 0.7404392232026142, 'lr_weight': 0.38597210054052333}. Best is trial 100 with value: 0.8484848484848485.\n"
     ]
    },
    {
     "name": "stdout",
     "output_type": "stream",
     "text": [
      "[I 2025-09-02 11:50:38,963] Trial 158 finished with value: 0.8462401795735129 and parameters: {'lgb_weight': 0.9345573236944177, 'xgb_weight': 0.5155309273908831, 'rf_weight': 0.5894776676413072, 'et_weight': 0.07810464920035268, 'svm_weight': 0.8921451841867277, 'lr_weight': 0.2758946896419842}. Best is trial 100 with value: 0.8484848484848485.\n"
     ]
    },
    {
     "name": "stdout",
     "output_type": "stream",
     "text": [
      "[I 2025-09-02 11:50:38,966] Trial 159 finished with value: 0.8439955106621774 and parameters: {'lgb_weight': 0.7448384406673307, 'xgb_weight': 0.6429804948539046, 'rf_weight': 0.4947783653072919, 'et_weight': 0.11652759553516984, 'svm_weight': 0.33762896284561245, 'lr_weight': 0.426956835801239}. Best is trial 100 with value: 0.8484848484848485.\n",
      "[I 2025-09-02 11:50:38,970] Trial 160 finished with value: 0.8451178451178452 and parameters: {'lgb_weight': 0.8482879863451641, 'xgb_weight': 0.7422896496992022, 'rf_weight': 0.40838385349271583, 'et_weight': 0.03469620069282117, 'svm_weight': 0.8174292415696744, 'lr_weight': 0.4489259026912299}. Best is trial 100 with value: 0.8484848484848485.\n",
      "[I 2025-09-02 11:50:38,973] Trial 161 finished with value: 0.8473625140291807 and parameters: {'lgb_weight': 0.9585538782300691, 'xgb_weight': 0.5571121059155306, 'rf_weight': 0.42782705083064854, 'et_weight': 0.0017966611280220354, 'svm_weight': 0.7560768134944085, 'lr_weight': 0.40008918275533956}. Best is trial 100 with value: 0.8484848484848485.\n",
      "[I 2025-09-02 11:50:38,976] Trial 162 finished with value: 0.8451178451178452 and parameters: {'lgb_weight': 0.9992668439618915, 'xgb_weight': 0.47821129953022395, 'rf_weight': 0.7057797772625247, 'et_weight': 0.058915993081222584, 'svm_weight': 0.7170595845132137, 'lr_weight': 0.3773652391995752}. Best is trial 100 with value: 0.8484848484848485.\n",
      "[I 2025-09-02 11:50:38,979] Trial 163 finished with value: 0.8451178451178452 and parameters: {'lgb_weight': 0.9759088877769402, 'xgb_weight': 0.5278580889715031, 'rf_weight': 0.37746883443167817, 'et_weight': 0.6143043709053047, 'svm_weight': 0.6902120522325943, 'lr_weight': 0.34776963379108244}. Best is trial 100 with value: 0.8484848484848485.\n",
      "[I 2025-09-02 11:50:38,983] Trial 164 finished with value: 0.8462401795735129 and parameters: {'lgb_weight': 0.9447312216265267, 'xgb_weight': 0.5905249090778979, 'rf_weight': 0.4621115997759774, 'et_weight': 0.01691177224906318, 'svm_weight': 0.7856848180852408, 'lr_weight': 0.22807111747297992}. Best is trial 100 with value: 0.8484848484848485.\n",
      "[I 2025-09-02 11:50:38,986] Trial 165 finished with value: 0.8462401795735129 and parameters: {'lgb_weight': 0.9079323496657007, 'xgb_weight': 0.6200009089837417, 'rf_weight': 0.4368241652144926, 'et_weight': 0.033237644828946755, 'svm_weight': 0.7503967973629572, 'lr_weight': 0.42012352588174273}. Best is trial 100 with value: 0.8484848484848485.\n",
      "[I 2025-09-02 11:50:38,989] Trial 166 finished with value: 0.8462401795735129 and parameters: {'lgb_weight': 0.9666912218939678, 'xgb_weight': 0.5414494099352207, 'rf_weight': 0.5212981249382798, 'et_weight': 0.08331739046519712, 'svm_weight': 0.7347783132705001, 'lr_weight': 0.3921018285323021}. Best is trial 100 with value: 0.8484848484848485.\n",
      "[I 2025-09-02 11:50:38,992] Trial 167 finished with value: 0.8372615039281706 and parameters: {'lgb_weight': 0.9313145129164849, 'xgb_weight': 0.009681596672247272, 'rf_weight': 0.4136946515456445, 'et_weight': 0.00042542061398909495, 'svm_weight': 0.8412789813513656, 'lr_weight': 0.144814653208754}. Best is trial 100 with value: 0.8484848484848485.\n",
      "[I 2025-09-02 11:50:38,995] Trial 168 finished with value: 0.8462401795735129 and parameters: {'lgb_weight': 0.8964237102667639, 'xgb_weight': 0.5701681282754829, 'rf_weight': 0.389968346181217, 'et_weight': 0.05322168837776843, 'svm_weight': 0.7734345441795312, 'lr_weight': 0.37001119828346823}. Best is trial 100 with value: 0.8484848484848485.\n",
      "[I 2025-09-02 11:50:38,999] Trial 169 finished with value: 0.8462401795735129 and parameters: {'lgb_weight': 0.9823531786061785, 'xgb_weight': 0.6784998828320393, 'rf_weight': 0.33651532789826644, 'et_weight': 0.02445253433335382, 'svm_weight': 0.6674396841307745, 'lr_weight': 0.332386308962443}. Best is trial 100 with value: 0.8484848484848485.\n",
      "[I 2025-09-02 11:50:39,002] Trial 170 finished with value: 0.8462401795735129 and parameters: {'lgb_weight': 0.9237214650849216, 'xgb_weight': 0.707786547231127, 'rf_weight': 0.29546688425671724, 'et_weight': 0.048623822302385204, 'svm_weight': 0.801586803410756, 'lr_weight': 0.480679770914626}. Best is trial 100 with value: 0.8484848484848485.\n",
      "[I 2025-09-02 11:50:39,005] Trial 171 finished with value: 0.8417508417508418 and parameters: {'lgb_weight': 0.5346120961833769, 'xgb_weight': 0.6577102388218647, 'rf_weight': 0.3662653581692867, 'et_weight': 0.06627480614816945, 'svm_weight': 0.7020724496228604, 'lr_weight': 0.484584891979692}. Best is trial 100 with value: 0.8484848484848485.\n",
      "[I 2025-09-02 11:50:39,008] Trial 172 finished with value: 0.8462401795735129 and parameters: {'lgb_weight': 0.8720187621063377, 'xgb_weight': 0.7140619380898121, 'rf_weight': 0.39477328197260975, 'et_weight': 0.10662059432304884, 'svm_weight': 0.7144832315782303, 'lr_weight': 0.45018034315375394}. Best is trial 100 with value: 0.8484848484848485.\n",
      "[I 2025-09-02 11:50:39,011] Trial 173 finished with value: 0.8473625140291807 and parameters: {'lgb_weight': 0.9048149796867182, 'xgb_weight': 0.6873119811095063, 'rf_weight': 0.4233330139066934, 'et_weight': 0.06744781845362866, 'svm_weight': 0.7531984746669952, 'lr_weight': 0.5345924835160256}. Best is trial 100 with value: 0.8484848484848485.\n",
      "[I 2025-09-02 11:50:39,015] Trial 174 finished with value: 0.8451178451178452 and parameters: {'lgb_weight': 0.9522223946281088, 'xgb_weight': 0.6329940738548367, 'rf_weight': 0.38073508290187474, 'et_weight': 0.03633400880927683, 'svm_weight': 0.7330518557710222, 'lr_weight': 0.10689689251329954}. Best is trial 100 with value: 0.8484848484848485.\n",
      "[I 2025-09-02 11:50:39,018] Trial 175 finished with value: 0.8462401795735129 and parameters: {'lgb_weight': 0.8835676803699014, 'xgb_weight': 0.5033162090329836, 'rf_weight': 0.4819712118006705, 'et_weight': 0.08664092064468415, 'svm_weight': 0.5090622128058006, 'lr_weight': 0.4146076111590093}. Best is trial 100 with value: 0.8484848484848485.\n",
      "[I 2025-09-02 11:50:39,021] Trial 176 finished with value: 0.8462401795735129 and parameters: {'lgb_weight': 0.8280958524848014, 'xgb_weight': 0.6029792275102793, 'rf_weight': 0.45046251097917583, 'et_weight': 0.016116678217874263, 'svm_weight': 0.6942364738709571, 'lr_weight': 0.5105331535178818}. Best is trial 100 with value: 0.8484848484848485.\n",
      "[I 2025-09-02 11:50:39,024] Trial 177 finished with value: 0.8473625140291807 and parameters: {'lgb_weight': 0.8892970638339439, 'xgb_weight': 0.6504603829397505, 'rf_weight': 0.3580068080002047, 'et_weight': 0.05215453860304204, 'svm_weight': 0.7782575691637804, 'lr_weight': 0.3075146290115081}. Best is trial 100 with value: 0.8484848484848485.\n",
      "[I 2025-09-02 11:50:39,028] Trial 178 finished with value: 0.8484848484848485 and parameters: {'lgb_weight': 0.9240887326254232, 'xgb_weight': 0.7526390222206255, 'rf_weight': 0.40390554087913255, 'et_weight': 0.0008296164348570306, 'svm_weight': 0.7615002783913607, 'lr_weight': 0.4369774626162618}. Best is trial 100 with value: 0.8484848484848485.\n",
      "[I 2025-09-02 11:50:39,031] Trial 179 finished with value: 0.8451178451178452 and parameters: {'lgb_weight': 0.93530812966274, 'xgb_weight': 0.7858831331002364, 'rf_weight': 0.4107378934716106, 'et_weight': 0.0025280490874444784, 'svm_weight': 0.8165354474354473, 'lr_weight': 0.43914630042677283}. Best is trial 100 with value: 0.8484848484848485.\n",
      "[I 2025-09-02 11:50:39,034] Trial 180 finished with value: 0.8439955106621774 and parameters: {'lgb_weight': 0.6157984979778404, 'xgb_weight': 0.7602975509254881, 'rf_weight': 0.436156486441125, 'et_weight': 0.0002487835151618045, 'svm_weight': 0.7883296069157026, 'lr_weight': 0.3934522247007142}. Best is trial 100 with value: 0.8484848484848485.\n",
      "[I 2025-09-02 11:50:39,038] Trial 181 finished with value: 0.8484848484848485 and parameters: {'lgb_weight': 0.9196627757655548, 'xgb_weight': 0.726317374065499, 'rf_weight': 0.39093862063785595, 'et_weight': 0.03320393856901409, 'svm_weight': 0.7260894390078279, 'lr_weight': 0.46330487061859493}. Best is trial 100 with value: 0.8484848484848485.\n",
      "[I 2025-09-02 11:50:39,041] Trial 182 finished with value: 0.8462401795735129 and parameters: {'lgb_weight': 0.966207783489159, 'xgb_weight': 0.7397155544128002, 'rf_weight': 0.5428349244923227, 'et_weight': 0.027248220749503903, 'svm_weight': 0.7555096845577638, 'lr_weight': 0.4307899681674227}. Best is trial 100 with value: 0.8484848484848485.\n",
      "[I 2025-09-02 11:50:39,044] Trial 183 finished with value: 0.8462401795735129 and parameters: {'lgb_weight': 0.917481906019088, 'xgb_weight': 0.6955397002134497, 'rf_weight': 0.41083801577340384, 'et_weight': 0.036487144524172066, 'svm_weight': 0.72969014315933, 'lr_weight': 0.36536524780418617}. Best is trial 100 with value: 0.8484848484848485.\n",
      "[I 2025-09-02 11:50:39,048] Trial 184 finished with value: 0.8473625140291807 and parameters: {'lgb_weight': 0.9406831747128425, 'xgb_weight': 0.7192913104193874, 'rf_weight': 0.37064489162081127, 'et_weight': 0.018869172159992738, 'svm_weight': 0.7717817520630235, 'lr_weight': 0.45250534034930434}. Best is trial 100 with value: 0.8484848484848485.\n",
      "[I 2025-09-02 11:50:39,051] Trial 185 finished with value: 0.8462401795735129 and parameters: {'lgb_weight': 0.9140871514804422, 'xgb_weight': 0.6671870784194861, 'rf_weight': 0.3977775992239486, 'et_weight': 0.04887295809092818, 'svm_weight': 0.8017649010886223, 'lr_weight': 0.47092613284327733}. Best is trial 100 with value: 0.8484848484848485.\n",
      "[I 2025-09-02 11:50:39,054] Trial 186 finished with value: 0.8428731762065096 and parameters: {'lgb_weight': 0.9551555665968579, 'xgb_weight': 0.9676136533368747, 'rf_weight': 0.4370185700275636, 'et_weight': 0.0779367997895641, 'svm_weight': 0.8390693455834602, 'lr_weight': 0.4084630162584064}. Best is trial 100 with value: 0.8484848484848485.\n",
      "[I 2025-09-02 11:50:39,057] Trial 187 finished with value: 0.8462401795735129 and parameters: {'lgb_weight': 0.9816500028324161, 'xgb_weight': 0.8403876444572256, 'rf_weight': 0.323259984924565, 'et_weight': 0.03317143671101558, 'svm_weight': 0.4590775001584976, 'lr_weight': 0.34202080122882444}. Best is trial 100 with value: 0.8484848484848485.\n",
      "[I 2025-09-02 11:50:39,061] Trial 188 finished with value: 0.8473625140291807 and parameters: {'lgb_weight': 0.8992516903440375, 'xgb_weight': 0.5867635197675953, 'rf_weight': 0.3501421193567699, 'et_weight': 0.1004381762229062, 'svm_weight': 0.7478747338668705, 'lr_weight': 0.288751742784571}. Best is trial 100 with value: 0.8484848484848485.\n",
      "[I 2025-09-02 11:50:39,064] Trial 189 finished with value: 0.8484848484848485 and parameters: {'lgb_weight': 0.8651507506594496, 'xgb_weight': 0.6279660353229808, 'rf_weight': 0.38039484531870293, 'et_weight': 0.0002527604950152973, 'svm_weight': 0.7177226135401866, 'lr_weight': 0.42696873682336184}. Best is trial 100 with value: 0.8484848484848485.\n",
      "[I 2025-09-02 11:50:39,068] Trial 190 finished with value: 0.8451178451178452 and parameters: {'lgb_weight': 0.8540691721080749, 'xgb_weight': 0.6319326137579759, 'rf_weight': 0.37241485766506216, 'et_weight': 0.05415242037014694, 'svm_weight': 0.7233377846395836, 'lr_weight': 0.2645456582235478}. Best is trial 100 with value: 0.8484848484848485.\n",
      "[I 2025-09-02 11:50:39,071] Trial 191 finished with value: 0.8428731762065096 and parameters: {'lgb_weight': 0.867411705916082, 'xgb_weight': 0.6112172783534471, 'rf_weight': 0.3926147749353337, 'et_weight': 0.0011494375377495412, 'svm_weight': 0.18987261155797974, 'lr_weight': 0.4263758470088122}. Best is trial 100 with value: 0.8484848484848485.\n",
      "[I 2025-09-02 11:50:39,075] Trial 192 finished with value: 0.8473625140291807 and parameters: {'lgb_weight': 0.926130897547688, 'xgb_weight': 0.6742321235790028, 'rf_weight': 0.4147242098452747, 'et_weight': 0.01760732769372645, 'svm_weight': 0.7655006891449316, 'lr_weight': 0.3977588521203114}. Best is trial 100 with value: 0.8484848484848485.\n",
      "[I 2025-09-02 11:50:39,078] Trial 193 finished with value: 0.8473625140291807 and parameters: {'lgb_weight': 0.8822712993950089, 'xgb_weight': 0.5610187934164815, 'rf_weight': 0.338468037728026, 'et_weight': 0.03541747788564564, 'svm_weight': 0.7054909532366112, 'lr_weight': 0.4639619306443502}. Best is trial 100 with value: 0.8484848484848485.\n",
      "[I 2025-09-02 11:50:39,082] Trial 194 finished with value: 0.8462401795735129 and parameters: {'lgb_weight': 0.9475082547822673, 'xgb_weight': 0.6443751792385728, 'rf_weight': 0.45611549282236674, 'et_weight': 0.06695851059770741, 'svm_weight': 0.7412163795690654, 'lr_weight': 0.3768347309289698}. Best is trial 100 with value: 0.8484848484848485.\n",
      "[I 2025-09-02 11:50:39,086] Trial 195 finished with value: 0.8473625140291807 and parameters: {'lgb_weight': 0.8426376431840465, 'xgb_weight': 0.5793564207705508, 'rf_weight': 0.390466537938109, 'et_weight': 0.02608530003957692, 'svm_weight': 0.6532138603897452, 'lr_weight': 0.41675904589880924}. Best is trial 100 with value: 0.8484848484848485.\n",
      "[I 2025-09-02 11:50:39,089] Trial 196 finished with value: 0.8462401795735129 and parameters: {'lgb_weight': 0.8110913877056969, 'xgb_weight': 0.6202679455972043, 'rf_weight': 0.36276621684991534, 'et_weight': 0.04831389093377135, 'svm_weight': 0.7870056464232887, 'lr_weight': 0.4400249003960717}. Best is trial 100 with value: 0.8484848484848485.\n",
      "[I 2025-09-02 11:50:39,093] Trial 197 finished with value: 0.8462401795735129 and parameters: {'lgb_weight': 0.906001559385318, 'xgb_weight': 0.543189037876829, 'rf_weight': 0.42657538159157027, 'et_weight': 0.01568612259592437, 'svm_weight': 0.8180382431006863, 'lr_weight': 0.38549189142187246}. Best is trial 100 with value: 0.8484848484848485.\n",
      "[I 2025-09-02 11:50:39,096] Trial 198 finished with value: 0.8462401795735129 and parameters: {'lgb_weight': 0.9721160663550803, 'xgb_weight': 0.6946828833894084, 'rf_weight': 0.7968752765288865, 'et_weight': 0.07004204408676024, 'svm_weight': 0.8671818526682206, 'lr_weight': 0.3554437447951411}. Best is trial 100 with value: 0.8484848484848485.\n"
     ]
    },
    {
     "name": "stdout",
     "output_type": "stream",
     "text": [
      "[I 2025-09-02 11:50:39,100] Trial 199 finished with value: 0.8451178451178452 and parameters: {'lgb_weight': 0.9317806687043074, 'xgb_weight': 0.6550373446498585, 'rf_weight': 0.38194770912142534, 'et_weight': 0.08919586610502388, 'svm_weight': 0.6797726080261641, 'lr_weight': 0.31469082630084183}. Best is trial 100 with value: 0.8484848484848485.\n",
      "\n",
      "Optuna Optimized: 0.8485 (Best: 0.8485)\n",
      "\n",
      "最適重み:\n",
      "LightGBM       : 0.280\n",
      "XGBoost        : 0.209\n",
      "RandomForest   : 0.122\n",
      "ExtraTrees     : 0.019\n",
      "SVM            : 0.230\n",
      "LogisticRegression: 0.139\n"
     ]
    }
   ],
   "source": [
    "# ========== Method 3: Optuna Optimization ==========\n",
    "print(\"\\n🔍 Optuna重み最適化開始...\")\n",
    "\n",
    "def objective(trial):\n",
    "    # 各モデルの重みを0-1の範囲で最適化\n",
    "    w1 = trial.suggest_float('lgb_weight', 0.0, 1.0)\n",
    "    w2 = trial.suggest_float('xgb_weight', 0.0, 1.0)\n",
    "    w3 = trial.suggest_float('rf_weight', 0.0, 1.0)\n",
    "    w4 = trial.suggest_float('et_weight', 0.0, 1.0)\n",
    "    w5 = trial.suggest_float('svm_weight', 0.0, 1.0)\n",
    "    w6 = trial.suggest_float('lr_weight', 0.0, 1.0)\n",
    "    \n",
    "    weights = np.array([w1, w2, w3, w4, w5, w6])\n",
    "    weights = weights / np.sum(weights)  # 正規化\n",
    "    \n",
    "    # 重み付きアンサンブル\n",
    "    ensemble_pred = np.average(oof_predictions, axis=1, weights=weights)\n",
    "    ensemble_binary = (ensemble_pred >= 0.5).astype(int)\n",
    "    \n",
    "    return accuracy_score(y_train_final, ensemble_binary)\n",
    "\n",
    "# TODO(human): Optuna試行回数を設定 (100-500推奨)\n",
    "study = optuna.create_study(direction='maximize', sampler=optuna.samplers.TPESampler(seed=RANDOM_SEED))\n",
    "study.optimize(objective, n_trials=200, show_progress_bar=True)  # デフォルト200回\n",
    "\n",
    "# 最適重み\n",
    "best_weights = np.array([\n",
    "    study.best_params['lgb_weight'],\n",
    "    study.best_params['xgb_weight'],\n",
    "    study.best_params['rf_weight'],\n",
    "    study.best_params['et_weight'],\n",
    "    study.best_params['svm_weight'],\n",
    "    study.best_params['lr_weight']\n",
    "])\n",
    "best_weights = best_weights / np.sum(best_weights)\n",
    "\n",
    "ensemble_optuna = np.average(oof_predictions, axis=1, weights=best_weights)\n",
    "ensemble_optuna_score = accuracy_score(y_train_final, (ensemble_optuna >= 0.5).astype(int))\n",
    "\n",
    "print(f\"\\nOptuna Optimized: {ensemble_optuna_score:.4f} (Best: {study.best_value:.4f})\")\n",
    "print(\"\\n最適重み:\")\n",
    "for name, weight in zip(model_names, best_weights):\n",
    "    print(f\"{name:15s}: {weight:.3f}\")"
   ]
  },
  {
   "cell_type": "code",
   "execution_count": 14,
   "metadata": {
    "execution": {
     "iopub.execute_input": "2025-09-02T02:50:39.103993Z",
     "iopub.status.busy": "2025-09-02T02:50:39.103922Z",
     "iopub.status.idle": "2025-09-02T02:50:40.200031Z",
     "shell.execute_reply": "2025-09-02T02:50:40.199810Z"
    }
   },
   "outputs": [
    {
     "name": "stdout",
     "output_type": "stream",
     "text": [
      "\n",
      "🏗️ Level-1 Stacking実装...\n"
     ]
    },
    {
     "name": "stdout",
     "output_type": "stream",
     "text": [
      "Stacking CV: 0.8271 ± 0.0257\n",
      "Stacking OOF: 0.8272\n"
     ]
    }
   ],
   "source": [
    "# ========== Method 4: Level-1 Stacking ==========\n",
    "print(\"\\n🏗️ Level-1 Stacking実装...\")\n",
    "\n",
    "# Meta-learnerとしてLightGBMを使用\n",
    "meta_model = lgb.LGBMClassifier(\n",
    "    objective='binary',\n",
    "    num_leaves=15,\n",
    "    learning_rate=0.1,\n",
    "    n_estimators=100,\n",
    "    random_state=RANDOM_SEED,\n",
    "    verbose=-1\n",
    ")\n",
    "\n",
    "# Level-1 Cross Validation\n",
    "stacking_scores = []\n",
    "stacking_oof = np.zeros(len(y_train_final))\n",
    "stacking_test = np.zeros(len(X_test_final))\n",
    "\n",
    "for fold, (train_idx, val_idx) in enumerate(kf.split(oof_predictions, y_train_final)):\n",
    "    X_meta_train = oof_predictions[train_idx]\n",
    "    X_meta_val = oof_predictions[val_idx]\n",
    "    y_meta_train = y_train_final.iloc[train_idx]\n",
    "    y_meta_val = y_train_final.iloc[val_idx]\n",
    "\n",
    "    meta_model.fit(X_meta_train, y_meta_train)\n",
    "\n",
    "    val_pred = meta_model.predict_proba(X_meta_val)[:, 1]\n",
    "    test_pred = meta_model.predict_proba(test_predictions)[:, 1]\n",
    "\n",
    "    stacking_oof[val_idx] = val_pred\n",
    "    stacking_test += test_pred / N_FOLDS\n",
    "\n",
    "    fold_score = accuracy_score(y_meta_val, (val_pred >= 0.5).astype(int))\n",
    "    stacking_scores.append(fold_score)\n",
    "\n",
    "stacking_cv_score = np.mean(stacking_scores)\n",
    "stacking_oof_score = accuracy_score(y_train_final, (stacking_oof >= 0.5).astype(int))\n",
    "\n",
    "print(f\"Stacking CV: {stacking_cv_score:.4f} ± {np.std(stacking_scores):.4f}\")\n",
    "print(f\"Stacking OOF: {stacking_oof_score:.4f}\")"
   ]
  },
  {
   "cell_type": "markdown",
   "metadata": {},
   "source": [
    "## 📊 Phase 7: 最終結果と提出"
   ]
  },
  {
   "cell_type": "code",
   "execution_count": 15,
   "metadata": {
    "execution": {
     "iopub.execute_input": "2025-09-02T02:50:40.201191Z",
     "iopub.status.busy": "2025-09-02T02:50:40.201118Z",
     "iopub.status.idle": "2025-09-02T02:50:40.203660Z",
     "shell.execute_reply": "2025-09-02T02:50:40.203391Z"
    }
   },
   "outputs": [
    {
     "name": "stdout",
     "output_type": "stream",
     "text": [
      "=== アンサンブル手法比較 ===\n",
      "Simple Average:    0.8429\n",
      "Weighted Average:  0.8429\n",
      "Optuna Optimized:  0.8485\n",
      "Level-1 Stacking:  0.8272\n",
      "\n",
      "🏆 最高性能: Optuna Optimized (0.8485)\n"
     ]
    }
   ],
   "source": [
    "# 全アンサンブル手法の比較\n",
    "print(\"=== アンサンブル手法比較 ===\")\n",
    "print(f\"Simple Average:    {ensemble_avg_score:.4f}\")\n",
    "print(f\"Weighted Average:  {ensemble_weighted_score:.4f}\")\n",
    "print(f\"Optuna Optimized:  {ensemble_optuna_score:.4f}\")\n",
    "print(f\"Level-1 Stacking:  {stacking_oof_score:.4f}\")\n",
    "\n",
    "# 最高性能の手法を選択\n",
    "methods = {\n",
    "    'Simple Average': (ensemble_avg_score, np.mean(test_predictions, axis=1)),\n",
    "    'Weighted Average': (ensemble_weighted_score, np.average(test_predictions, axis=1, weights=weights)),\n",
    "    'Optuna Optimized': (ensemble_optuna_score, np.average(test_predictions, axis=1, weights=best_weights)),\n",
    "    'Level-1 Stacking': (stacking_oof_score, stacking_test)\n",
    "}\n",
    "\n",
    "best_method = max(methods.keys(), key=lambda k: methods[k][0])\n",
    "best_score = methods[best_method][0]\n",
    "best_predictions = methods[best_method][1]\n",
    "\n",
    "print(f\"\\n🏆 最高性能: {best_method} ({best_score:.4f})\")"
   ]
  },
  {
   "cell_type": "code",
   "execution_count": 16,
   "metadata": {
    "execution": {
     "iopub.execute_input": "2025-09-02T02:50:40.204719Z",
     "iopub.status.busy": "2025-09-02T02:50:40.204665Z",
     "iopub.status.idle": "2025-09-02T02:50:40.206950Z",
     "shell.execute_reply": "2025-09-02T02:50:40.206654Z"
    }
   },
   "outputs": [
    {
     "name": "stdout",
     "output_type": "stream",
     "text": [
      "\n",
      "=== 過去実験との比較 ===\n",
      "過去のKaggleスコア:\n",
      "  exp004: 0.77990\n",
      "  exp007: 0.77751\n",
      "  exp008: 0.78468\n",
      "\n",
      "exp009 予測CV: 0.8485\n",
      "期待Kaggleスコア: 0.77952\n",
      "⚠️ さらなる改善が必要\n"
     ]
    }
   ],
   "source": [
    "# 過去実験との比較\n",
    "print(\"\\n=== 過去実験との比較 ===\")\n",
    "past_results = {\n",
    "    'exp004': 0.77990,\n",
    "    'exp007': 0.77751,\n",
    "    'exp008': 0.78468\n",
    "}\n",
    "\n",
    "print(\"過去のKaggleスコア:\")\n",
    "for exp, score in past_results.items():\n",
    "    print(f\"  {exp}: {score:.5f}\")\n",
    "\n",
    "print(f\"\\nexp009 予測CV: {best_score:.4f}\")\n",
    "\n",
    "# exp008との比較で期待スコア計算\n",
    "exp008_cv = 0.8541\n",
    "exp008_kaggle = 0.78468\n",
    "expected_ratio = exp008_kaggle / exp008_cv\n",
    "expected_kaggle = best_score * expected_ratio\n",
    "\n",
    "print(f\"期待Kaggleスコア: {expected_kaggle:.5f}\")\n",
    "if expected_kaggle > 0.83:\n",
    "    print(\"🎉 0.83突破の可能性大！\")\n",
    "elif expected_kaggle > past_results['exp008']:\n",
    "    improvement = expected_kaggle - past_results['exp008']\n",
    "    print(f\"✅ exp008から {improvement:+.5f} 改善期待\")\n",
    "else:\n",
    "    print(\"⚠️ さらなる改善が必要\")"
   ]
  },
  {
   "cell_type": "code",
   "execution_count": 17,
   "metadata": {
    "execution": {
     "iopub.execute_input": "2025-09-02T02:50:40.208206Z",
     "iopub.status.busy": "2025-09-02T02:50:40.208137Z",
     "iopub.status.idle": "2025-09-02T02:50:40.212815Z",
     "shell.execute_reply": "2025-09-02T02:50:40.212609Z"
    }
   },
   "outputs": [
    {
     "name": "stdout",
     "output_type": "stream",
     "text": [
      "=== 予測分布 ===\n",
      "生存予測: 155 (37.1%)\n",
      "死亡予測: 263 (62.9%)\n",
      "\n",
      "訓練データ生存率: 38.4%\n",
      "\n",
      "✅ 提出ファイル保存完了\n",
      "Path: results/exp009/result.csv\n"
     ]
    }
   ],
   "source": [
    "# 提出ファイル作成\n",
    "submission = pd.DataFrame({\n",
    "    'PassengerId': test_df['PassengerId'],\n",
    "    'Survived': (best_predictions >= 0.5).astype(int)\n",
    "})\n",
    "\n",
    "# 予測分布確認\n",
    "print(\"=== 予測分布 ===\")\n",
    "print(f\"生存予測: {submission['Survived'].sum()} ({submission['Survived'].mean():.1%})\")\n",
    "print(f\"死亡予測: {len(submission) - submission['Survived'].sum()} ({1 - submission['Survived'].mean():.1%})\")\n",
    "print(f\"\\n訓練データ生存率: {y_train_final.mean():.1%}\")\n",
    "\n",
    "# ファイル保存\n",
    "import os\n",
    "os.makedirs('/Users/koki.ogai/Documents/ghq/github.com/oddgai/kaggle-projects/titanic/results/exp009', exist_ok=True)\n",
    "submission.to_csv('/Users/koki.ogai/Documents/ghq/github.com/oddgai/kaggle-projects/titanic/results/exp009/result.csv', index=False)\n",
    "\n",
    "print(f\"\\n✅ 提出ファイル保存完了\")\n",
    "print(f\"Path: results/exp009/result.csv\")"
   ]
  },
  {
   "cell_type": "code",
   "execution_count": 18,
   "metadata": {
    "execution": {
     "iopub.execute_input": "2025-09-02T02:50:40.213713Z",
     "iopub.status.busy": "2025-09-02T02:50:40.213657Z",
     "iopub.status.idle": "2025-09-02T02:50:40.216241Z",
     "shell.execute_reply": "2025-09-02T02:50:40.216050Z"
    }
   },
   "outputs": [
    {
     "name": "stdout",
     "output_type": "stream",
     "text": [
      "\n",
      "======================================================================\n",
      "         🚀 EXP009 PERFECT ENSEMBLE STRATEGY\n",
      "======================================================================\n",
      "\n",
      "🏆 最終結果:\n",
      "  最高CV Score: 0.8485 (Optuna Optimized)\n",
      "  期待Kaggle: 0.77952\n",
      "  使用特徴量: 15個\n",
      "\n",
      "🤖 Base Models性能:\n",
      "  LightGBM       : 0.8384\n",
      "  XGBoost        : 0.8170\n",
      "  RandomForest   : 0.8417\n",
      "  ExtraTrees     : 0.8227\n",
      "  SVM            : 0.8305\n",
      "  LogisticRegression: 0.8059\n",
      "\n",
      "🏗️ アンサンブル手法:\n",
      "  Simple Average:   0.8429\n",
      "  Weighted Average: 0.8429\n",
      "  Optuna Optimized: 0.8485\n",
      "  Level-1 Stacking: 0.8272\n",
      "\n",
      "💡 技術的成果:\n",
      "  • 6種類のBase Models構築\n",
      "  • 4種類のアンサンブル手法実装\n",
      "  • 高度な特徴量選択（相関・重要度ベース）\n",
      "  • Optuna重み最適化\n",
      "  • IterativeImputer欠損値補完\n",
      "  • IQRベース外れ値処理\n",
      "\n",
      "📈 着実な改善を達成！\n",
      "\n",
      "======================================================================\n",
      "  Perfect Ensemble - Many Models, One Goal!\n",
      "  0.83への挑戦結果をお待ちしています...\n",
      "======================================================================\n"
     ]
    }
   ],
   "source": [
    "# 最終サマリー\n",
    "print(\"\\n\" + \"=\"*70)\n",
    "print(\"         🚀 EXP009 PERFECT ENSEMBLE STRATEGY\")\n",
    "print(\"=\"*70)\n",
    "\n",
    "print(f\"\\n🏆 最終結果:\")\n",
    "print(f\"  最高CV Score: {best_score:.4f} ({best_method})\")\n",
    "print(f\"  期待Kaggle: {expected_kaggle:.5f}\")\n",
    "print(f\"  使用特徴量: {len(final_features)}個\")\n",
    "\n",
    "print(f\"\\n🤖 Base Models性能:\")\n",
    "for name in model_names:\n",
    "    print(f\"  {name:15s}: {model_scores[name]:.4f}\")\n",
    "\n",
    "print(f\"\\n🏗️ アンサンブル手法:\")\n",
    "print(f\"  Simple Average:   {ensemble_avg_score:.4f}\")\n",
    "print(f\"  Weighted Average: {ensemble_weighted_score:.4f}\")\n",
    "print(f\"  Optuna Optimized: {ensemble_optuna_score:.4f}\")\n",
    "print(f\"  Level-1 Stacking: {stacking_oof_score:.4f}\")\n",
    "\n",
    "print(f\"\\n💡 技術的成果:\")\n",
    "print(f\"  • 6種類のBase Models構築\")\n",
    "print(f\"  • 4種類のアンサンブル手法実装\")\n",
    "print(f\"  • 高度な特徴量選択（相関・重要度ベース）\")\n",
    "print(f\"  • Optuna重み最適化\")\n",
    "print(f\"  • IterativeImputer欠損値補完\")\n",
    "print(f\"  • IQRベース外れ値処理\")\n",
    "\n",
    "if expected_kaggle > 0.83:\n",
    "    print(f\"\\n🎯 0.83の壁突破への道筋が見えた！\")\n",
    "    print(f\"期待改善: {expected_kaggle - past_results['exp008']:+.5f}\")\n",
    "    print(f\"Perfect Ensembleの威力を実感！\")\n",
    "else:\n",
    "    print(f\"\\n📈 着実な改善を達成！\")\n",
    "    if expected_kaggle > past_results['exp008']:\n",
    "        print(f\"exp008から {expected_kaggle - past_results['exp008']:+.5f} 改善\")\n",
    "\n",
    "print(\"\\n\" + \"=\"*70)\n",
    "print(\"  Perfect Ensemble - Many Models, One Goal!\")\n",
    "print(\"  0.83への挑戦結果をお待ちしています...\")\n",
    "print(\"=\"*70)"
   ]
  }
 ],
 "metadata": {
  "kernelspec": {
   "display_name": "titanic",
   "language": "python",
   "name": "python3"
  },
  "language_info": {
   "codemirror_mode": {
    "name": "ipython",
    "version": 3
   },
   "file_extension": ".py",
   "mimetype": "text/x-python",
   "name": "python",
   "nbconvert_exporter": "python",
   "pygments_lexer": "ipython3",
   "version": "3.12.11"
  },
  "widgets": {
   "application/vnd.jupyter.widget-state+json": {
    "state": {
     "09a9d5fdd9164e22901f0447473bc05b": {
      "model_module": "@jupyter-widgets/controls",
      "model_module_version": "2.0.0",
      "model_name": "HBoxModel",
      "state": {
       "_dom_classes": [],
       "_model_module": "@jupyter-widgets/controls",
       "_model_module_version": "2.0.0",
       "_model_name": "HBoxModel",
       "_view_count": null,
       "_view_module": "@jupyter-widgets/controls",
       "_view_module_version": "2.0.0",
       "_view_name": "HBoxView",
       "box_style": "",
       "children": [
        "IPY_MODEL_0c49d40e5d6a4853a65930e96d9a1fdc",
        "IPY_MODEL_b33df4749d8a442d8b8fea1bd141c3bd",
        "IPY_MODEL_89e9f88d7e6640b59490b0b70d5ba6b6"
       ],
       "layout": "IPY_MODEL_2794ae79bdc24661b4f15a153fff92ba",
       "tabbable": null,
       "tooltip": null
      }
     },
     "0c49d40e5d6a4853a65930e96d9a1fdc": {
      "model_module": "@jupyter-widgets/controls",
      "model_module_version": "2.0.0",
      "model_name": "HTMLModel",
      "state": {
       "_dom_classes": [],
       "_model_module": "@jupyter-widgets/controls",
       "_model_module_version": "2.0.0",
       "_model_name": "HTMLModel",
       "_view_count": null,
       "_view_module": "@jupyter-widgets/controls",
       "_view_module_version": "2.0.0",
       "_view_name": "HTMLView",
       "description": "",
       "description_allow_html": false,
       "layout": "IPY_MODEL_f5f3d9ce46554385bb747900683d74bf",
       "placeholder": "​",
       "style": "IPY_MODEL_5c6366c0237a4bc0bd65ad2fde422258",
       "tabbable": null,
       "tooltip": null,
       "value": "Best trial: 100. Best value: 0.848485: 100%"
      }
     },
     "2794ae79bdc24661b4f15a153fff92ba": {
      "model_module": "@jupyter-widgets/base",
      "model_module_version": "2.0.0",
      "model_name": "LayoutModel",
      "state": {
       "_model_module": "@jupyter-widgets/base",
       "_model_module_version": "2.0.0",
       "_model_name": "LayoutModel",
       "_view_count": null,
       "_view_module": "@jupyter-widgets/base",
       "_view_module_version": "2.0.0",
       "_view_name": "LayoutView",
       "align_content": null,
       "align_items": null,
       "align_self": null,
       "border_bottom": null,
       "border_left": null,
       "border_right": null,
       "border_top": null,
       "bottom": null,
       "display": null,
       "flex": null,
       "flex_flow": null,
       "grid_area": null,
       "grid_auto_columns": null,
       "grid_auto_flow": null,
       "grid_auto_rows": null,
       "grid_column": null,
       "grid_gap": null,
       "grid_row": null,
       "grid_template_areas": null,
       "grid_template_columns": null,
       "grid_template_rows": null,
       "height": null,
       "justify_content": null,
       "justify_items": null,
       "left": null,
       "margin": null,
       "max_height": null,
       "max_width": null,
       "min_height": null,
       "min_width": null,
       "object_fit": null,
       "object_position": null,
       "order": null,
       "overflow": null,
       "padding": null,
       "right": null,
       "top": null,
       "visibility": null,
       "width": null
      }
     },
     "3b1381744c4c495fa011836abd922aaa": {
      "model_module": "@jupyter-widgets/controls",
      "model_module_version": "2.0.0",
      "model_name": "HTMLStyleModel",
      "state": {
       "_model_module": "@jupyter-widgets/controls",
       "_model_module_version": "2.0.0",
       "_model_name": "HTMLStyleModel",
       "_view_count": null,
       "_view_module": "@jupyter-widgets/base",
       "_view_module_version": "2.0.0",
       "_view_name": "StyleView",
       "background": null,
       "description_width": "",
       "font_size": null,
       "text_color": null
      }
     },
     "5c6366c0237a4bc0bd65ad2fde422258": {
      "model_module": "@jupyter-widgets/controls",
      "model_module_version": "2.0.0",
      "model_name": "HTMLStyleModel",
      "state": {
       "_model_module": "@jupyter-widgets/controls",
       "_model_module_version": "2.0.0",
       "_model_name": "HTMLStyleModel",
       "_view_count": null,
       "_view_module": "@jupyter-widgets/base",
       "_view_module_version": "2.0.0",
       "_view_name": "StyleView",
       "background": null,
       "description_width": "",
       "font_size": null,
       "text_color": null
      }
     },
     "6a58590a5ae24a2aa1b4a73047294bbd": {
      "model_module": "@jupyter-widgets/base",
      "model_module_version": "2.0.0",
      "model_name": "LayoutModel",
      "state": {
       "_model_module": "@jupyter-widgets/base",
       "_model_module_version": "2.0.0",
       "_model_name": "LayoutModel",
       "_view_count": null,
       "_view_module": "@jupyter-widgets/base",
       "_view_module_version": "2.0.0",
       "_view_name": "LayoutView",
       "align_content": null,
       "align_items": null,
       "align_self": null,
       "border_bottom": null,
       "border_left": null,
       "border_right": null,
       "border_top": null,
       "bottom": null,
       "display": null,
       "flex": null,
       "flex_flow": null,
       "grid_area": null,
       "grid_auto_columns": null,
       "grid_auto_flow": null,
       "grid_auto_rows": null,
       "grid_column": null,
       "grid_gap": null,
       "grid_row": null,
       "grid_template_areas": null,
       "grid_template_columns": null,
       "grid_template_rows": null,
       "height": null,
       "justify_content": null,
       "justify_items": null,
       "left": null,
       "margin": null,
       "max_height": null,
       "max_width": null,
       "min_height": null,
       "min_width": null,
       "object_fit": null,
       "object_position": null,
       "order": null,
       "overflow": null,
       "padding": null,
       "right": null,
       "top": null,
       "visibility": null,
       "width": null
      }
     },
     "71b6b390f7fc42af9eca7409911e8ece": {
      "model_module": "@jupyter-widgets/controls",
      "model_module_version": "2.0.0",
      "model_name": "ProgressStyleModel",
      "state": {
       "_model_module": "@jupyter-widgets/controls",
       "_model_module_version": "2.0.0",
       "_model_name": "ProgressStyleModel",
       "_view_count": null,
       "_view_module": "@jupyter-widgets/base",
       "_view_module_version": "2.0.0",
       "_view_name": "StyleView",
       "bar_color": null,
       "description_width": ""
      }
     },
     "89e9f88d7e6640b59490b0b70d5ba6b6": {
      "model_module": "@jupyter-widgets/controls",
      "model_module_version": "2.0.0",
      "model_name": "HTMLModel",
      "state": {
       "_dom_classes": [],
       "_model_module": "@jupyter-widgets/controls",
       "_model_module_version": "2.0.0",
       "_model_name": "HTMLModel",
       "_view_count": null,
       "_view_module": "@jupyter-widgets/controls",
       "_view_module_version": "2.0.0",
       "_view_name": "HTMLView",
       "description": "",
       "description_allow_html": false,
       "layout": "IPY_MODEL_6a58590a5ae24a2aa1b4a73047294bbd",
       "placeholder": "​",
       "style": "IPY_MODEL_3b1381744c4c495fa011836abd922aaa",
       "tabbable": null,
       "tooltip": null,
       "value": " 200/200 [00:00&lt;00:00, 327.73it/s]"
      }
     },
     "b33df4749d8a442d8b8fea1bd141c3bd": {
      "model_module": "@jupyter-widgets/controls",
      "model_module_version": "2.0.0",
      "model_name": "FloatProgressModel",
      "state": {
       "_dom_classes": [],
       "_model_module": "@jupyter-widgets/controls",
       "_model_module_version": "2.0.0",
       "_model_name": "FloatProgressModel",
       "_view_count": null,
       "_view_module": "@jupyter-widgets/controls",
       "_view_module_version": "2.0.0",
       "_view_name": "ProgressView",
       "bar_style": "success",
       "description": "",
       "description_allow_html": false,
       "layout": "IPY_MODEL_e78a4554039d4bc49b2f00ed12b222ab",
       "max": 200.0,
       "min": 0.0,
       "orientation": "horizontal",
       "style": "IPY_MODEL_71b6b390f7fc42af9eca7409911e8ece",
       "tabbable": null,
       "tooltip": null,
       "value": 200.0
      }
     },
     "e78a4554039d4bc49b2f00ed12b222ab": {
      "model_module": "@jupyter-widgets/base",
      "model_module_version": "2.0.0",
      "model_name": "LayoutModel",
      "state": {
       "_model_module": "@jupyter-widgets/base",
       "_model_module_version": "2.0.0",
       "_model_name": "LayoutModel",
       "_view_count": null,
       "_view_module": "@jupyter-widgets/base",
       "_view_module_version": "2.0.0",
       "_view_name": "LayoutView",
       "align_content": null,
       "align_items": null,
       "align_self": null,
       "border_bottom": null,
       "border_left": null,
       "border_right": null,
       "border_top": null,
       "bottom": null,
       "display": null,
       "flex": null,
       "flex_flow": null,
       "grid_area": null,
       "grid_auto_columns": null,
       "grid_auto_flow": null,
       "grid_auto_rows": null,
       "grid_column": null,
       "grid_gap": null,
       "grid_row": null,
       "grid_template_areas": null,
       "grid_template_columns": null,
       "grid_template_rows": null,
       "height": null,
       "justify_content": null,
       "justify_items": null,
       "left": null,
       "margin": null,
       "max_height": null,
       "max_width": null,
       "min_height": null,
       "min_width": null,
       "object_fit": null,
       "object_position": null,
       "order": null,
       "overflow": null,
       "padding": null,
       "right": null,
       "top": null,
       "visibility": null,
       "width": null
      }
     },
     "f5f3d9ce46554385bb747900683d74bf": {
      "model_module": "@jupyter-widgets/base",
      "model_module_version": "2.0.0",
      "model_name": "LayoutModel",
      "state": {
       "_model_module": "@jupyter-widgets/base",
       "_model_module_version": "2.0.0",
       "_model_name": "LayoutModel",
       "_view_count": null,
       "_view_module": "@jupyter-widgets/base",
       "_view_module_version": "2.0.0",
       "_view_name": "LayoutView",
       "align_content": null,
       "align_items": null,
       "align_self": null,
       "border_bottom": null,
       "border_left": null,
       "border_right": null,
       "border_top": null,
       "bottom": null,
       "display": null,
       "flex": null,
       "flex_flow": null,
       "grid_area": null,
       "grid_auto_columns": null,
       "grid_auto_flow": null,
       "grid_auto_rows": null,
       "grid_column": null,
       "grid_gap": null,
       "grid_row": null,
       "grid_template_areas": null,
       "grid_template_columns": null,
       "grid_template_rows": null,
       "height": null,
       "justify_content": null,
       "justify_items": null,
       "left": null,
       "margin": null,
       "max_height": null,
       "max_width": null,
       "min_height": null,
       "min_width": null,
       "object_fit": null,
       "object_position": null,
       "order": null,
       "overflow": null,
       "padding": null,
       "right": null,
       "top": null,
       "visibility": null,
       "width": null
      }
     }
    },
    "version_major": 2,
    "version_minor": 0
   }
  }
 },
 "nbformat": 4,
 "nbformat_minor": 4
}

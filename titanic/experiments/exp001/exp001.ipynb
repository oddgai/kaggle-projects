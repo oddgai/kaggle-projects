{
 "cells": [
  {
   "cell_type": "markdown",
   "metadata": {},
   "source": [
    "# Titanic Baseline Model (exp001)\n",
    "\n",
    "EDAの結果を基にLightGBMでベースラインモデルを構築"
   ]
  },
  {
   "cell_type": "code",
   "execution_count": null,
   "metadata": {},
   "outputs": [],
   "source": [
    "import pandas as pd\n",
    "import numpy as np\n",
    "import matplotlib.pyplot as plt\n",
    "import seaborn as sns\n",
    "import warnings\n",
    "import japanize_matplotlib\n",
    "\n",
    "from sklearn.model_selection import train_test_split, StratifiedKFold, cross_val_score\n",
    "from sklearn.preprocessing import LabelEncoder\n",
    "from sklearn.metrics import accuracy_score, classification_report, confusion_matrix\n",
    "import lightgbm as lgb\n",
    "\n",
    "warnings.filterwarnings('ignore')\n",
    "pd.set_option('display.max_columns', None)\n",
    "plt.rcParams['font.family'] = 'IPAexGothic'\n",
    "sns.set_palette('husl')"
   ]
  },
  {
   "cell_type": "markdown",
   "metadata": {},
   "source": [
    "## データの読み込み"
   ]
  },
  {
   "cell_type": "code",
   "execution_count": null,
   "metadata": {},
   "outputs": [],
   "source": [
    "# データの読み込み\n",
    "train_df = pd.read_csv('../../data/train.csv')\n",
    "test_df = pd.read_csv('../../data/test.csv')\n",
    "\n",
    "print(f\"訓練データ: {train_df.shape}\")\n",
    "print(f\"テストデータ: {test_df.shape}\")\n",
    "\n",
    "# 全データを結合（特徴量エンジニアリングのため）\n",
    "all_data = pd.concat([train_df, test_df], sort=False).reset_index(drop=True)\n",
    "print(f\"全データ: {all_data.shape}\")"
   ]
  },
  {
   "cell_type": "markdown",
   "metadata": {},
   "source": [
    "## 特徴量エンジニアリング\n",
    "\n",
    "EDAで効果的だった特徴量を作成"
   ]
  },
  {
   "cell_type": "code",
   "execution_count": null,
   "metadata": {},
   "outputs": [],
   "source": [
    "def feature_engineering(df):\n",
    "    \"\"\"\n",
    "    特徴量エンジニアリングを実行\n",
    "    \"\"\"\n",
    "    df = df.copy()\n",
    "    \n",
    "    # 1. 称号（Title）の抽出\n",
    "    df['Title'] = df['Name'].str.extract(' ([A-Za-z]+)\\.', expand=False)\n",
    "    \n",
    "    # 称号のグルーピング\n",
    "    title_mapping = {\n",
    "        'Mr': 'Mr',\n",
    "        'Miss': 'Miss',\n",
    "        'Mrs': 'Mrs',\n",
    "        'Master': 'Master',\n",
    "        'Dr': 'Rare',\n",
    "        'Rev': 'Rare',\n",
    "        'Col': 'Rare',\n",
    "        'Major': 'Rare',\n",
    "        'Mlle': 'Miss',\n",
    "        'Countess': 'Rare',\n",
    "        'Ms': 'Miss',\n",
    "        'Lady': 'Rare',\n",
    "        'Jonkheer': 'Rare',\n",
    "        'Don': 'Rare',\n",
    "        'Dona': 'Rare',\n",
    "        'Mme': 'Mrs',\n",
    "        'Capt': 'Rare',\n",
    "        'Sir': 'Rare'\n",
    "    }\n",
    "    df['Title'] = df['Title'].map(title_mapping)\n",
    "    df['Title'] = df['Title'].fillna('Other')\n",
    "    \n",
    "    # 2. 家族サイズ\n",
    "    df['FamilySize'] = df['SibSp'] + df['Parch'] + 1\n",
    "    \n",
    "    # 3. 一人旅フラグ\n",
    "    df['IsAlone'] = (df['FamilySize'] == 1).astype(int)\n",
    "    \n",
    "    # 4. 家族サイズのカテゴリ化\n",
    "    df['FamilySizeGroup'] = 'Medium'\n",
    "    df.loc[df['FamilySize'] == 1, 'FamilySizeGroup'] = 'Alone'\n",
    "    df.loc[df['FamilySize'] >= 5, 'FamilySizeGroup'] = 'Large'\n",
    "    \n",
    "    # 5. 年齢のビニング\n",
    "    # 年齢の欠損値を称号で補完\n",
    "    age_by_title = df.groupby('Title')['Age'].median()\n",
    "    for title in age_by_title.index:\n",
    "        df.loc[(df['Age'].isnull()) & (df['Title'] == title), 'Age'] = age_by_title[title]\n",
    "    \n",
    "    # 年齢をカテゴリ化\n",
    "    df['AgeBin'] = pd.cut(df['Age'], bins=[0, 12, 20, 40, 120], labels=['Child', 'Teenager', 'Adult', 'Elder'])\n",
    "    \n",
    "    # 6. 運賃のビニング\n",
    "    # 運賃の欠損値をクラスの中央値で補完\n",
    "    df['Fare'] = df['Fare'].fillna(df['Fare'].median())\n",
    "    df['FareBin'] = pd.qcut(df['Fare'], q=4, labels=['Low', 'Medium', 'High', 'VeryHigh'])\n",
    "    \n",
    "    # 7. Cabinの有無\n",
    "    df['HasCabin'] = df['Cabin'].notna().astype(int)\n",
    "    \n",
    "    # 8. 乗船港の欠損値補完\n",
    "    df['Embarked'] = df['Embarked'].fillna('S')  # 最頻値で補完\n",
    "    \n",
    "    # 9. 性別×クラスの組み合わせ特徴量\n",
    "    df['Sex_Pclass'] = df['Sex'] + '_' + df['Pclass'].astype(str)\n",
    "    \n",
    "    # 10. チケット番号の特徴量\n",
    "    df['TicketPrefix'] = df['Ticket'].str.extract('([A-Za-z]+)', expand=False)\n",
    "    df['TicketPrefix'] = df['TicketPrefix'].fillna('None')\n",
    "    df['TicketNumber'] = df['Ticket'].str.extract('([0-9]+)', expand=False)\n",
    "    df['TicketNumber'] = df['TicketNumber'].fillna(0).astype(int)\n",
    "    df['HasTicketPrefix'] = (df['TicketPrefix'] != 'None').astype(int)\n",
    "    \n",
    "    return df\n",
    "\n",
    "# 特徴量エンジニアリングを実行\n",
    "all_data = feature_engineering(all_data)\n",
    "print(\"特徴量エンジニアリング完了\")\n",
    "print(f\"新しい特徴量数: {all_data.shape[1]}\")"
   ]
  },
  {
   "cell_type": "code",
   "execution_count": null,
   "metadata": {},
   "outputs": [],
   "source": [
    "# 新しい特徴量の確認\n",
    "print(\"新しく作成した特徴量:\")\n",
    "new_features = ['Title', 'FamilySize', 'IsAlone', 'FamilySizeGroup', 'AgeBin', \n",
    "                'FareBin', 'HasCabin', 'Sex_Pclass', 'TicketPrefix', 'HasTicketPrefix']\n",
    "\n",
    "for feature in new_features:\n",
    "    if feature in all_data.columns:\n",
    "        print(f\"\\n{feature}:\")\n",
    "        print(all_data[feature].value_counts())"
   ]
  },
  {
   "cell_type": "markdown",
   "metadata": {},
   "source": [
    "## データの前処理"
   ]
  },
  {
   "cell_type": "code",
   "execution_count": null,
   "metadata": {},
   "outputs": [],
   "source": [
    "# カテゴリカル変数をエンコード\n",
    "categorical_features = ['Sex', 'Embarked', 'Title', 'FamilySizeGroup', 'AgeBin', 'FareBin', 'Sex_Pclass', 'TicketPrefix']\n",
    "\n",
    "# Label Encoding\n",
    "label_encoders = {}\n",
    "for feature in categorical_features:\n",
    "    le = LabelEncoder()\n",
    "    all_data[feature] = le.fit_transform(all_data[feature].astype(str))\n",
    "    label_encoders[feature] = le\n",
    "\n",
    "print(\"ラベルエンコーディング完了\")"
   ]
  },
  {
   "cell_type": "code",
   "execution_count": null,
   "metadata": {},
   "outputs": [],
   "source": [
    "# 使用する特徴量を選択\n",
    "features_to_use = [\n",
    "    'Pclass', 'Sex', 'Age', 'SibSp', 'Parch', 'Fare', 'Embarked',\n",
    "    'Title', 'FamilySize', 'IsAlone', 'FamilySizeGroup', 'AgeBin', 'FareBin',\n",
    "    'HasCabin', 'Sex_Pclass', 'HasTicketPrefix'\n",
    "]\n",
    "\n",
    "# 訓練・テストデータに分割\n",
    "train_data = all_data[:len(train_df)].copy()\n",
    "test_data = all_data[len(train_df):].copy()\n",
    "\n",
    "X = train_data[features_to_use]\n",
    "y = train_data['Survived']\n",
    "X_test = test_data[features_to_use]\n",
    "\n",
    "print(f\"訓練データ特徴量: {X.shape}\")\n",
    "print(f\"テストデータ特徴量: {X_test.shape}\")\n",
    "print(f\"使用特徴量: {features_to_use}\")"
   ]
  },
  {
   "cell_type": "markdown",
   "metadata": {},
   "source": [
    "## モデルの訓練と評価"
   ]
  },
  {
   "cell_type": "code",
   "execution_count": null,
   "metadata": {},
   "outputs": [],
   "source": [
    "# 訓練・検証データの分割\n",
    "X_train, X_val, y_train, y_val = train_test_split(\n",
    "    X, y, test_size=0.2, random_state=42, stratify=y\n",
    ")\n",
    "\n",
    "print(f\"訓練データ: {X_train.shape}\")\n",
    "print(f\"検証データ: {X_val.shape}\")"
   ]
  },
  {
   "cell_type": "code",
   "execution_count": null,
   "metadata": {},
   "outputs": [],
   "source": [
    "# LightGBMモデルの設定\n",
    "lgb_params = {\n",
    "    'objective': 'binary',\n",
    "    'metric': 'binary_logloss',\n",
    "    'boosting_type': 'gbdt',\n",
    "    'num_leaves': 31,\n",
    "    'learning_rate': 0.05,\n",
    "    'feature_fraction': 0.9,\n",
    "    'bagging_fraction': 0.8,\n",
    "    'bagging_freq': 5,\n",
    "    'verbose': -1,\n",
    "    'random_state': 42\n",
    "}\n",
    "\n",
    "# LightGBMデータセットの作成\n",
    "train_dataset = lgb.Dataset(X_train, label=y_train)\n",
    "val_dataset = lgb.Dataset(X_val, label=y_val, reference=train_dataset)\n",
    "\n",
    "# モデルの訓練\n",
    "model = lgb.train(\n",
    "    lgb_params,\n",
    "    train_dataset,\n",
    "    num_boost_round=1000,\n",
    "    valid_sets=[train_dataset, val_dataset],\n",
    "    valid_names=['train', 'valid'],\n",
    "    callbacks=[lgb.early_stopping(100), lgb.log_evaluation(100)]\n",
    ")\n",
    "\n",
    "print(\"\\nモデル訓練完了\")"
   ]
  },
  {
   "cell_type": "code",
   "execution_count": null,
   "metadata": {},
   "outputs": [],
   "source": [
    "# 検証データでの予測\n",
    "y_pred = model.predict(X_val, num_iteration=model.best_iteration)\n",
    "y_pred_binary = (y_pred > 0.5).astype(int)\n",
    "\n",
    "# 精度評価\n",
    "accuracy = accuracy_score(y_val, y_pred_binary)\n",
    "print(f\"検証精度: {accuracy:.4f}\")\n",
    "\n",
    "print(\"\\n分類レポート:\")\n",
    "print(classification_report(y_val, y_pred_binary))"
   ]
  },
  {
   "cell_type": "code",
   "execution_count": null,
   "metadata": {},
   "outputs": [],
   "source": [
    "# 混同行列の可視化\n",
    "plt.figure(figsize=(6, 4))\n",
    "cm = confusion_matrix(y_val, y_pred_binary)\n",
    "sns.heatmap(cm, annot=True, fmt='d', cmap='Blues')\n",
    "plt.title('混同行列')\n",
    "plt.ylabel('実際のラベル')\n",
    "plt.xlabel('予測ラベル')\n",
    "plt.show()"
   ]
  },
  {
   "cell_type": "markdown",
   "metadata": {},
   "source": [
    "## 特徴量重要度"
   ]
  },
  {
   "cell_type": "code",
   "execution_count": null,
   "metadata": {},
   "outputs": [],
   "source": [
    "# 特徴量重要度の取得\n",
    "importance = model.feature_importance(importance_type='gain')\n",
    "feature_importance = pd.DataFrame({\n",
    "    'feature': features_to_use,\n",
    "    'importance': importance\n",
    "}).sort_values('importance', ascending=False)\n",
    "\n",
    "# 特徴量重要度の可視化\n",
    "plt.figure(figsize=(10, 8))\n",
    "sns.barplot(data=feature_importance.head(15), x='importance', y='feature')\n",
    "plt.title('特徴量重要度（Top 15）')\n",
    "plt.xlabel('重要度')\n",
    "plt.tight_layout()\n",
    "plt.show()\n",
    "\n",
    "print(\"特徴量重要度:\")\n",
    "print(feature_importance)"
   ]
  },
  {
   "cell_type": "markdown",
   "metadata": {},
   "source": [
    "## クロスバリデーション"
   ]
  },
  {
   "cell_type": "code",
   "execution_count": null,
   "metadata": {},
   "outputs": [],
   "source": [
    "# 5-fold クロスバリデーション\n",
    "kf = StratifiedKFold(n_splits=5, shuffle=True, random_state=42)\n",
    "cv_scores = []\n",
    "\n",
    "for fold, (train_idx, val_idx) in enumerate(kf.split(X, y)):\n",
    "    X_train_fold, X_val_fold = X.iloc[train_idx], X.iloc[val_idx]\n",
    "    y_train_fold, y_val_fold = y.iloc[train_idx], y.iloc[val_idx]\n",
    "    \n",
    "    # データセット作成\n",
    "    train_dataset = lgb.Dataset(X_train_fold, label=y_train_fold)\n",
    "    val_dataset = lgb.Dataset(X_val_fold, label=y_val_fold, reference=train_dataset)\n",
    "    \n",
    "    # モデル訓練\n",
    "    fold_model = lgb.train(\n",
    "        lgb_params,\n",
    "        train_dataset,\n",
    "        num_boost_round=1000,\n",
    "        valid_sets=[val_dataset],\n",
    "        callbacks=[lgb.early_stopping(100), lgb.log_evaluation(0)]\n",
    "    )\n",
    "    \n",
    "    # 予測と評価\n",
    "    y_pred_fold = fold_model.predict(X_val_fold, num_iteration=fold_model.best_iteration)\n",
    "    y_pred_fold_binary = (y_pred_fold > 0.5).astype(int)\n",
    "    fold_score = accuracy_score(y_val_fold, y_pred_fold_binary)\n",
    "    cv_scores.append(fold_score)\n",
    "    \n",
    "    print(f\"Fold {fold+1}: {fold_score:.4f}\")\n",
    "\n",
    "print(f\"\\nCV平均スコア: {np.mean(cv_scores):.4f} (+/- {np.std(cv_scores)*2:.4f})\")"
   ]
  },
  {
   "cell_type": "markdown",
   "metadata": {},
   "source": [
    "## テストデータでの予測"
   ]
  },
  {
   "cell_type": "code",
   "execution_count": null,
   "metadata": {},
   "outputs": [],
   "source": [
    "# 全訓練データでモデルを再訓練\n",
    "full_train_dataset = lgb.Dataset(X, label=y)\n",
    "final_model = lgb.train(\n",
    "    lgb_params,\n",
    "    full_train_dataset,\n",
    "    num_boost_round=model.best_iteration\n",
    ")\n",
    "\n",
    "# テストデータで予測\n",
    "test_predictions = final_model.predict(X_test)\n",
    "test_predictions_binary = (test_predictions > 0.5).astype(int)\n",
    "\n",
    "print(f\"テスト予測完了\")\n",
    "print(f\"生存予測数: {test_predictions_binary.sum()}\")\n",
    "print(f\"死亡予測数: {len(test_predictions_binary) - test_predictions_binary.sum()}\")\n",
    "print(f\"生存率: {test_predictions_binary.mean():.4f}\")"
   ]
  },
  {
   "cell_type": "markdown",
   "metadata": {},
   "source": [
    "## 提出ファイルの作成"
   ]
  },
  {
   "cell_type": "code",
   "execution_count": null,
   "metadata": {},
   "outputs": [],
   "source": [
    "# 提出ファイルの作成\n",
    "submission = pd.DataFrame({\n",
    "    'PassengerId': test_data['PassengerId'],\n",
    "    'Survived': test_predictions_binary\n",
    "})\n",
    "\n",
    "# results/exp001ディレクトリを作成\n",
    "import os\n",
    "os.makedirs('../../results/exp001', exist_ok=True)\n",
    "\n",
    "# ファイルを保存\n",
    "submission.to_csv('../../results/exp001/submission.csv', index=False)\n",
    "print(\"提出ファイルを保存しました: ../../results/exp001/submission.csv\")\n",
    "\n",
    "# 提出ファイルの確認\n",
    "print(\"\\n提出ファイルの最初の10行:\")\n",
    "print(submission.head(10))"
   ]
  },
  {
   "cell_type": "markdown",
   "metadata": {},
   "source": [
    "## 実験結果のまとめ\n",
    "\n",
    "### 使用した特徴量\n",
    "1. **基本特徴量**: Pclass, Sex, Age, SibSp, Parch, Fare, Embarked\n",
    "2. **エンジニアリング特徴量**: \n",
    "   - Title（称号）\n",
    "   - FamilySize（家族サイズ）\n",
    "   - IsAlone（一人旅フラグ）\n",
    "   - FamilySizeGroup（家族サイズカテゴリ）\n",
    "   - AgeBin（年齢ビン）\n",
    "   - FareBin（運賃ビン）\n",
    "   - HasCabin（客室有無）\n",
    "   - Sex_Pclass（性別×クラス）\n",
    "   - HasTicketPrefix（チケット番号プレフィックス有無）\n",
    "\n",
    "### モデル\n",
    "- **アルゴリズム**: LightGBM\n",
    "- **ハイパーパラメータ**: learning_rate=0.05, num_leaves=31など\n",
    "\n",
    "### 結果\n",
    "- **検証精度**: 表示された精度を参照\n",
    "- **CV平均スコア**: 表示されたスコアを参照\n",
    "\n",
    "### 次のステップ\n",
    "1. ハイパーパラメータチューニング\n",
    "2. アンサンブル学習\n",
    "3. より複雑な特徴量の作成\n",
    "4. 外部データの活用"
   ]
  }
 ],
 "metadata": {
  "kernelspec": {
   "display_name": "Python 3.12 (titanic-uv)",
   "language": "python",
   "name": "titanic-uv"
  },
  "language_info": {
   "codemirror_mode": {
    "name": "ipython",
    "version": 3
   },
   "file_extension": ".py",
   "mimetype": "text/x-python",
   "name": "python",
   "nbconvert_exporter": "python",
   "pygments_lexer": "ipython3",
   "version": "3.12.11"
  }
 },
 "nbformat": 4,
 "nbformat_minor": 4
}
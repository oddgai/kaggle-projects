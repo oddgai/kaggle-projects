{
 "cells": [
  {
   "cell_type": "markdown",
   "metadata": {},
   "source": [
    "# exp004 - 高度な特徴量エンジニアリング\n",
    "\n",
    "exp001-003の結果を踏まえ、名前、チケット、客室等からより高度な特徴量を抽出してモデル性能向上を目指す"
   ]
  },
  {
   "cell_type": "code",
   "execution_count": 1,
   "metadata": {
    "execution": {
     "iopub.execute_input": "2025-08-26T04:57:30.116388Z",
     "iopub.status.busy": "2025-08-26T04:57:30.116216Z",
     "iopub.status.idle": "2025-08-26T04:57:31.157770Z",
     "shell.execute_reply": "2025-08-26T04:57:31.157555Z"
    }
   },
   "outputs": [
    {
     "name": "stdout",
     "output_type": "stream",
     "text": [
      "Train shape: (891, 12)\n",
      "Test shape: (418, 11)\n"
     ]
    }
   ],
   "source": [
    "import pandas as pd\n",
    "import numpy as np\n",
    "import lightgbm as lgb\n",
    "from sklearn.model_selection import StratifiedKFold\n",
    "from sklearn.metrics import accuracy_score\n",
    "from sklearn.preprocessing import LabelEncoder\n",
    "import matplotlib.pyplot as plt\n",
    "import seaborn as sns\n",
    "import japanize_matplotlib\n",
    "import warnings\n",
    "warnings.filterwarnings('ignore')\n",
    "\n",
    "plt.rcParams['font.family'] = 'IPAexGothic'\n",
    "\n",
    "# データ読み込み\n",
    "train_df = pd.read_csv('/Users/koki.ogai/Documents/ghq/github.com/oddgai/kaggle-projects/titanic/data/train.csv')\n",
    "test_df = pd.read_csv('/Users/koki.ogai/Documents/ghq/github.com/oddgai/kaggle-projects/titanic/data/test.csv')\n",
    "\n",
    "print(f\"Train shape: {train_df.shape}\")\n",
    "print(f\"Test shape: {test_df.shape}\")"
   ]
  },
  {
   "cell_type": "markdown",
   "metadata": {},
   "source": [
    "## 高度な特徴量エンジニアリング"
   ]
  },
  {
   "cell_type": "code",
   "execution_count": 2,
   "metadata": {
    "execution": {
     "iopub.execute_input": "2025-08-26T04:57:31.170124Z",
     "iopub.status.busy": "2025-08-26T04:57:31.170046Z",
     "iopub.status.idle": "2025-08-26T04:57:31.192371Z",
     "shell.execute_reply": "2025-08-26T04:57:31.192145Z"
    }
   },
   "outputs": [
    {
     "name": "stdout",
     "output_type": "stream",
     "text": [
      "特徴量エンジニアリング後 - Train shape: (891, 36)\n",
      "特徴量エンジニアリング後 - Test shape: (418, 35)\n"
     ]
    }
   ],
   "source": [
    "def advanced_feature_engineering(df):\n",
    "    df = df.copy()\n",
    "\n",
    "    # 名前からの特徴量\n",
    "    df['Title'] = df['Name'].str.extract(r' ([A-Za-z]+)\\.')\n",
    "    title_mapping = {\n",
    "        'Mr': 'Mr', 'Mrs': 'Mrs', 'Miss': 'Miss', 'Master': 'Master',\n",
    "        'Dr': 'Rare', 'Rev': 'Rare', 'Col': 'Rare', 'Major': 'Rare',\n",
    "        'Mlle': 'Miss', 'Countess': 'Rare', 'Ms': 'Mrs', 'Lady': 'Rare',\n",
    "        'Jonkheer': 'Rare', 'Don': 'Rare', 'Dona': 'Rare', 'Mme': 'Mrs',\n",
    "        'Capt': 'Rare', 'Sir': 'Rare'\n",
    "    }\n",
    "    df['Title_Grouped'] = df['Title'].map(title_mapping).fillna('Other')\n",
    "    df['Name_Length'] = df['Name'].str.len()\n",
    "\n",
    "    # 苗字と家族サイズ\n",
    "    df['Surname'] = df['Name'].str.split(',').str[0]\n",
    "    all_surnames = pd.concat([train_df['Name'], test_df['Name']]).str.split(',').str[0]\n",
    "    surname_counts = all_surnames.value_counts()\n",
    "    df['Surname_Count'] = df['Surname'].map(surname_counts)\n",
    "\n",
    "    # チケット特徴量\n",
    "    df['Ticket_Length'] = df['Ticket'].str.len()\n",
    "    df['Ticket_IsNumeric'] = df['Ticket'].str.isnumeric().astype(int)\n",
    "    df['Ticket_Prefix'] = df['Ticket'].str.extract(r'^([A-Za-z]+)').fillna('NUMERIC')\n",
    "\n",
    "    all_tickets = pd.concat([train_df['Ticket'], test_df['Ticket']])\n",
    "    ticket_counts = all_tickets.value_counts()\n",
    "    df['Ticket_Count'] = df['Ticket'].map(ticket_counts)\n",
    "\n",
    "    # 客室特徴量\n",
    "    df['HasCabin'] = (~df['Cabin'].isnull()).astype(int)\n",
    "    df['Cabin_Deck'] = df['Cabin'].str.extract(r'^([A-Za-z])').fillna('Unknown')\n",
    "    df['Cabin_Number'] = df['Cabin'].str.extract(r'(\\d+)').astype(float)\n",
    "    df['Cabin_Count'] = df['Cabin'].fillna('').str.split().str.len()\n",
    "    df.loc[df['Cabin'].isnull(), 'Cabin_Count'] = 0\n",
    "\n",
    "    # 基本前処理\n",
    "    df['Sex'] = df['Sex'].map({'female': 0, 'male': 1})\n",
    "    df['Age'] = df.groupby(['Sex', 'Pclass'])['Age'].transform(lambda x: x.fillna(x.median()))\n",
    "    df['Fare'] = df.groupby('Pclass')['Fare'].transform(lambda x: x.fillna(x.median()))\n",
    "    df['Embarked'] = df['Embarked'].fillna('S')\n",
    "\n",
    "    # 家族構成\n",
    "    df['FamilySize'] = df['SibSp'] + df['Parch'] + 1\n",
    "    df['IsAlone'] = (df['FamilySize'] == 1).astype(int)\n",
    "    df['IsSmallFamily'] = ((df['FamilySize'] >= 2) & (df['FamilySize'] <= 4)).astype(int)\n",
    "    df['IsLargeFamily'] = (df['FamilySize'] > 4).astype(int)\n",
    "\n",
    "    # 年齢・運賃グループ\n",
    "    df['Age_Group'] = pd.cut(df['Age'], bins=[0, 12, 18, 25, 35, 50, 65, 100], labels=[0,1,2,3,4,5,6])\n",
    "    df['Fare_Group'] = pd.qcut(df['Fare'], q=8, labels=[0,1,2,3,4,5,6,7])\n",
    "\n",
    "    # 交互作用\n",
    "    df['Sex_Pclass'] = df['Sex'] * df['Pclass']\n",
    "    df['Age_Fare_Interaction'] = df['Age'] * df['Fare']\n",
    "    df['Age_FamilySize'] = df['Age'] * df['FamilySize']\n",
    "\n",
    "    # 統計特徴量\n",
    "    df['Age_Rank_SexPclass'] = df.groupby(['Sex', 'Pclass'])['Age'].rank(pct=True)\n",
    "    df['Fare_Rank_Pclass'] = df.groupby('Pclass')['Fare'].rank(pct=True)\n",
    "\n",
    "    return df\n",
    "\n",
    "# 特徴量エンジニアリング実行\n",
    "train_processed = advanced_feature_engineering(train_df)\n",
    "test_processed = advanced_feature_engineering(test_df)\n",
    "\n",
    "print(f\"特徴量エンジニアリング後 - Train shape: {train_processed.shape}\")\n",
    "print(f\"特徴量エンジニアリング後 - Test shape: {test_processed.shape}\")"
   ]
  },
  {
   "cell_type": "code",
   "execution_count": 3,
   "metadata": {
    "execution": {
     "iopub.execute_input": "2025-08-26T04:57:31.193286Z",
     "iopub.status.busy": "2025-08-26T04:57:31.193230Z",
     "iopub.status.idle": "2025-08-26T04:57:31.196597Z",
     "shell.execute_reply": "2025-08-26T04:57:31.196412Z"
    }
   },
   "outputs": [
    {
     "name": "stdout",
     "output_type": "stream",
     "text": [
      "Embarked: 3 categories\n",
      "Title_Grouped: 5 categories\n",
      "Cabin_Deck: 9 categories\n",
      "Ticket_Prefix: 21 categories\n",
      "エンコーディング完了\n"
     ]
    }
   ],
   "source": [
    "# カテゴリカル特徴量のエンコーディング\n",
    "categorical_features = ['Embarked', 'Title_Grouped', 'Cabin_Deck', 'Ticket_Prefix']\n",
    "\n",
    "for feature in categorical_features:\n",
    "    if feature in train_processed.columns:\n",
    "        le = LabelEncoder()\n",
    "        all_categories = pd.concat([train_processed[feature], test_processed[feature]]).astype(str)\n",
    "        le.fit(all_categories)\n",
    "\n",
    "        train_processed[feature] = le.transform(train_processed[feature].astype(str))\n",
    "        test_processed[feature] = le.transform(test_processed[feature].astype(str))\n",
    "\n",
    "        print(f\"{feature}: {len(le.classes_)} categories\")\n",
    "\n",
    "print(\"エンコーディング完了\")"
   ]
  },
  {
   "cell_type": "code",
   "execution_count": 4,
   "metadata": {
    "execution": {
     "iopub.execute_input": "2025-08-26T04:57:31.197506Z",
     "iopub.status.busy": "2025-08-26T04:57:31.197423Z",
     "iopub.status.idle": "2025-08-26T04:57:31.200617Z",
     "shell.execute_reply": "2025-08-26T04:57:31.200408Z"
    }
   },
   "outputs": [
    {
     "name": "stdout",
     "output_type": "stream",
     "text": [
      "使用する特徴量数: 27\n",
      "特徴量一覧:\n",
      " 1. Pclass\n",
      " 2. Sex\n",
      " 3. Age\n",
      " 4. SibSp\n",
      " 5. Parch\n",
      " 6. Fare\n",
      " 7. Embarked\n",
      " 8. Title_Grouped\n",
      " 9. Name_Length\n",
      "10. Surname_Count\n",
      "11. Ticket_Length\n",
      "12. Ticket_IsNumeric\n",
      "13. Ticket_Prefix\n",
      "14. Ticket_Count\n",
      "15. HasCabin\n",
      "16. Cabin_Deck\n",
      "17. Cabin_Number\n",
      "18. Cabin_Count\n",
      "19. FamilySize\n",
      "20. IsAlone\n",
      "21. IsSmallFamily\n",
      "22. IsLargeFamily\n",
      "23. Sex_Pclass\n",
      "24. Age_Fare_Interaction\n",
      "25. Age_FamilySize\n",
      "26. Age_Rank_SexPclass\n",
      "27. Fare_Rank_Pclass\n",
      "X shape: (891, 27)\n",
      "y shape: (891,)\n",
      "X_test shape: (418, 27)\n"
     ]
    }
   ],
   "source": [
    "# 特徴量選択\n",
    "exclude_features = ['PassengerId', 'Name', 'Ticket', 'Cabin', 'Survived', 'Surname', 'Title']\n",
    "feature_columns = [col for col in train_processed.columns\n",
    "                  if col not in exclude_features and\n",
    "                  train_processed[col].dtype in ['int64', 'float64', 'int32', 'float32']]\n",
    "\n",
    "print(f\"使用する特徴量数: {len(feature_columns)}\")\n",
    "print(\"特徴量一覧:\")\n",
    "for i, col in enumerate(feature_columns, 1):\n",
    "    print(f\"{i:2d}. {col}\")\n",
    "\n",
    "X = train_processed[feature_columns]\n",
    "y = train_processed['Survived']\n",
    "X_test = test_processed[feature_columns]\n",
    "\n",
    "print(f\"X shape: {X.shape}\")\n",
    "print(f\"y shape: {y.shape}\")\n",
    "print(f\"X_test shape: {X_test.shape}\")"
   ]
  },
  {
   "cell_type": "code",
   "execution_count": 5,
   "metadata": {
    "execution": {
     "iopub.execute_input": "2025-08-26T04:57:31.201554Z",
     "iopub.status.busy": "2025-08-26T04:57:31.201489Z",
     "iopub.status.idle": "2025-08-26T04:57:34.243668Z",
     "shell.execute_reply": "2025-08-26T04:57:34.243422Z"
    }
   },
   "outputs": [
    {
     "name": "stdout",
     "output_type": "stream",
     "text": [
      "交差検証開始\n",
      "Fold 1/5\n"
     ]
    },
    {
     "name": "stdout",
     "output_type": "stream",
     "text": [
      "Training until validation scores don't improve for 100 rounds\n",
      "Early stopping, best iteration is:\n",
      "[153]\tvalid_0's rmse: 0.312114\n",
      "Fold 1 Accuracy: 0.8771\n",
      "Fold 2/5\n",
      "Training until validation scores don't improve for 100 rounds\n",
      "Early stopping, best iteration is:\n",
      "[27]\tvalid_0's rmse: 0.34744\n",
      "Fold 2 Accuracy: 0.8258\n",
      "Fold 3/5\n",
      "Training until validation scores don't improve for 100 rounds\n",
      "Early stopping, best iteration is:\n",
      "[43]\tvalid_0's rmse: 0.373199\n",
      "Fold 3 Accuracy: 0.8202\n",
      "Fold 4/5\n",
      "Training until validation scores don't improve for 100 rounds\n",
      "Early stopping, best iteration is:\n",
      "[34]\tvalid_0's rmse: 0.355567\n",
      "Fold 4 Accuracy: 0.8371\n",
      "Fold 5/5\n",
      "Training until validation scores don't improve for 100 rounds\n",
      "Early stopping, best iteration is:\n",
      "[46]\tvalid_0's rmse: 0.340483\n",
      "Fold 5 Accuracy: 0.8708\n",
      "CV Accuracy: 0.8462 ± 0.0234\n",
      "OOF Accuracy: 0.8462\n"
     ]
    }
   ],
   "source": [
    "# モデル訓練\n",
    "lgb_params = {\n",
    "    'objective': 'regression',\n",
    "    'metric': 'rmse',\n",
    "    'boosting_type': 'gbdt',\n",
    "    'num_leaves': 31,\n",
    "    'learning_rate': 0.1,\n",
    "    'feature_fraction': 0.8,\n",
    "    'bagging_fraction': 0.8,\n",
    "    'bagging_freq': 5,\n",
    "    'verbose': -1,\n",
    "    'random_state': 42\n",
    "}\n",
    "\n",
    "n_folds = 5\n",
    "kf = StratifiedKFold(n_splits=n_folds, shuffle=True, random_state=42)\n",
    "\n",
    "cv_scores = []\n",
    "feature_importance = pd.DataFrame()\n",
    "oof_predictions = np.zeros(len(X))\n",
    "test_predictions = np.zeros(len(X_test))\n",
    "\n",
    "print(\"交差検証開始\")\n",
    "\n",
    "for fold, (train_idx, val_idx) in enumerate(kf.split(X, y), 1):\n",
    "    print(f\"Fold {fold}/{n_folds}\")\n",
    "\n",
    "    X_train, X_val = X.iloc[train_idx], X.iloc[val_idx]\n",
    "    y_train, y_val = y.iloc[train_idx], y.iloc[val_idx]\n",
    "\n",
    "    train_data = lgb.Dataset(X_train, label=y_train)\n",
    "    val_data = lgb.Dataset(X_val, label=y_val, reference=train_data)\n",
    "\n",
    "    model = lgb.train(\n",
    "        lgb_params,\n",
    "        train_data,\n",
    "        valid_sets=[val_data],\n",
    "        num_boost_round=1000,\n",
    "        callbacks=[lgb.early_stopping(100), lgb.log_evaluation(0)]\n",
    "    )\n",
    "\n",
    "    val_pred = model.predict(X_val)\n",
    "    test_pred = model.predict(X_test)\n",
    "\n",
    "    val_pred_binary = (val_pred >= 0.5).astype(int)\n",
    "    fold_score = accuracy_score(y_val, val_pred_binary)\n",
    "    cv_scores.append(fold_score)\n",
    "\n",
    "    print(f\"Fold {fold} Accuracy: {fold_score:.4f}\")\n",
    "\n",
    "    oof_predictions[val_idx] = val_pred\n",
    "    test_predictions += test_pred / n_folds\n",
    "\n",
    "    fold_importance = pd.DataFrame()\n",
    "    fold_importance['feature'] = feature_columns\n",
    "    fold_importance['importance'] = model.feature_importance()\n",
    "    fold_importance['fold'] = fold\n",
    "    feature_importance = pd.concat([feature_importance, fold_importance])\n",
    "\n",
    "mean_cv_score = np.mean(cv_scores)\n",
    "std_cv_score = np.std(cv_scores)\n",
    "\n",
    "print(f\"CV Accuracy: {mean_cv_score:.4f} ± {std_cv_score:.4f}\")\n",
    "\n",
    "oof_binary = (oof_predictions >= 0.5).astype(int)\n",
    "oof_accuracy = accuracy_score(y, oof_binary)\n",
    "print(f\"OOF Accuracy: {oof_accuracy:.4f}\")"
   ]
  },
  {
   "cell_type": "code",
   "execution_count": 6,
   "metadata": {
    "execution": {
     "iopub.execute_input": "2025-08-26T04:57:34.244685Z",
     "iopub.status.busy": "2025-08-26T04:57:34.244615Z",
     "iopub.status.idle": "2025-08-26T04:57:34.311598Z",
     "shell.execute_reply": "2025-08-26T04:57:34.311394Z"
    }
   },
   "outputs": [
    {
     "name": "stdout",
     "output_type": "stream",
     "text": [
      "特徴量重要度 Top 15\n",
      "Age_Fare_Interaction:    156.0\n",
      "Name_Length         :    149.6\n",
      "Age_Rank_SexPclass  :    145.4\n",
      "Fare_Rank_Pclass    :    135.0\n",
      "Fare                :    132.2\n",
      "Age_FamilySize      :    115.8\n",
      "Age                 :     92.0\n",
      "Ticket_Length       :     49.8\n",
      "Cabin_Number        :     49.6\n",
      "Surname_Count       :     34.6\n",
      "Ticket_Count        :     25.8\n",
      "Sex                 :     25.6\n",
      "Embarked            :     21.6\n",
      "Pclass              :     21.4\n",
      "Title_Grouped       :     19.0\n"
     ]
    },
    {
     "data": {
      "image/png": "[encoded data removed]",
      "text/plain": [
       "<Figure size 1000x600 with 1 Axes>"
      ]
     },
     "metadata": {},
     "output_type": "display_data"
    }
   ],
   "source": [
    "# 特徴量重要度\n",
    "importance_agg = feature_importance.groupby('feature')['importance'].agg(['mean', 'std']).reset_index()\n",
    "importance_agg = importance_agg.sort_values('mean', ascending=False)\n",
    "\n",
    "print(\"特徴量重要度 Top 15\")\n",
    "for i, row in importance_agg.head(15).iterrows():\n",
    "    print(f\"{row['feature']:20s}: {row['mean']:8.1f}\")\n",
    "\n",
    "# 可視化\n",
    "plt.figure(figsize=(10, 6))\n",
    "top_features = importance_agg.head(15)\n",
    "plt.barh(range(len(top_features)), top_features['mean'])\n",
    "plt.yticks(range(len(top_features)), top_features['feature'])\n",
    "plt.xlabel('重要度')\n",
    "plt.title('特徴量重要度 Top 15')\n",
    "plt.gca().invert_yaxis()\n",
    "plt.tight_layout()\n",
    "plt.show()"
   ]
  },
  {
   "cell_type": "code",
   "execution_count": 7,
   "metadata": {
    "execution": {
     "iopub.execute_input": "2025-08-26T04:57:34.312593Z",
     "iopub.status.busy": "2025-08-26T04:57:34.312529Z",
     "iopub.status.idle": "2025-08-26T04:57:34.316282Z",
     "shell.execute_reply": "2025-08-26T04:57:34.316093Z"
    }
   },
   "outputs": [
    {
     "name": "stdout",
     "output_type": "stream",
     "text": [
      "生存予測数: 144\n",
      "死亡予測数: 274\n",
      "生存率: 0.344\n",
      "提出ファイル保存完了\n",
      "==================================================\n",
      "          EXP004 実験結果サマリー\n",
      "==================================================\n",
      "使用特徴量数: 27\n",
      "CV Accuracy: 0.8462 ± 0.0234\n",
      "OOF Accuracy: 0.8462\n",
      "主要な新特徴量:\n",
      "- 敬称の詳細分類\n",
      "- 家族グループサイズ（苗字ベース）\n",
      "- グループチケット人数\n",
      "- 客室デッキ情報\n",
      "- 年齢・運賃の相対順位\n",
      "\n",
      "ベースライン（exp001）との比較:\n",
      "exp001 CV: 0.8496 ± 0.026\n",
      "exp004 CV: 0.8462 ± 0.0234\n",
      "→ 悪化: -0.0034\n",
      "==================================================\n"
     ]
    }
   ],
   "source": [
    "# テストデータ予測\n",
    "test_predictions_binary = (test_predictions >= 0.5).astype(int)\n",
    "\n",
    "submission = pd.DataFrame({\n",
    "    'PassengerId': test_processed['PassengerId'],\n",
    "    'Survived': test_predictions_binary\n",
    "})\n",
    "\n",
    "submission.to_csv('/Users/koki.ogai/Documents/ghq/github.com/oddgai/kaggle-projects/titanic/results/exp004/result.csv', index=False)\n",
    "\n",
    "print(f\"生存予測数: {test_predictions_binary.sum()}\")\n",
    "print(f\"死亡予測数: {len(test_predictions_binary) - test_predictions_binary.sum()}\")\n",
    "print(f\"生存率: {test_predictions_binary.mean():.3f}\")\n",
    "print(\"提出ファイル保存完了\")\n",
    "\n",
    "print(\"=\"*50)\n",
    "print(\"          EXP004 実験結果サマリー\")\n",
    "print(\"=\"*50)\n",
    "print(f\"使用特徴量数: {len(feature_columns)}\")\n",
    "print(f\"CV Accuracy: {mean_cv_score:.4f} ± {std_cv_score:.4f}\")\n",
    "print(f\"OOF Accuracy: {oof_accuracy:.4f}\")\n",
    "print(\"主要な新特徴量:\")\n",
    "print(\"- 敬称の詳細分類\")\n",
    "print(\"- 家族グループサイズ（苗字ベース）\")\n",
    "print(\"- グループチケット人数\")\n",
    "print(\"- 客室デッキ情報\")\n",
    "print(\"- 年齢・運賃の相対順位\")\n",
    "print()\n",
    "print(\"ベースライン（exp001）との比較:\")\n",
    "print(f\"exp001 CV: 0.8496 ± 0.026\")\n",
    "print(f\"exp004 CV: {mean_cv_score:.4f} ± {std_cv_score:.4f}\")\n",
    "if mean_cv_score > 0.8496:\n",
    "    print(f\"→ 改善: +{mean_cv_score - 0.8496:.4f}\")\n",
    "else:\n",
    "    print(f\"→ 悪化: {mean_cv_score - 0.8496:.4f}\")\n",
    "print(\"=\"*50)"
   ]
  },
  {
   "cell_type": "code",
   "execution_count": null,
   "metadata": {},
   "outputs": [],
   "source": []
  },
  {
   "cell_type": "code",
   "execution_count": null,
   "metadata": {},
   "outputs": [],
   "source": []
  }
 ],
 "metadata": {
  "kernelspec": {
   "display_name": "titanic",
   "language": "python",
   "name": "python3"
  },
  "language_info": {
   "codemirror_mode": {
    "name": "ipython",
    "version": 3
   },
   "file_extension": ".py",
   "mimetype": "text/x-python",
   "name": "python",
   "nbconvert_exporter": "python",
   "pygments_lexer": "ipython3",
   "version": "3.12.11"
  }
 },
 "nbformat": 4,
 "nbformat_minor": 4
}

{
 "cells": [
  {
   "cell_type": "markdown",
   "metadata": {},
   "source": [
    "# exp003 - 特徴量選択版モデル\n",
    "\n",
    "exp001の特徴量重要度に基づき、上位7個の特徴量のみを使用してシンプル化。\n",
    "過学習を軽減し、汎化性能の向上を目指す。"
   ]
  },
  {
   "cell_type": "code",
   "execution_count": 1,
   "metadata": {},
   "outputs": [],
   "source": [
    "import pandas as pd\n",
    "import numpy as np\n",
    "import matplotlib.pyplot as plt\n",
    "import seaborn as sns\n",
    "import warnings\n",
    "import japanize_matplotlib\n",
    "\n",
    "from sklearn.model_selection import train_test_split, StratifiedKFold\n",
    "from sklearn.preprocessing import LabelEncoder\n",
    "from sklearn.metrics import accuracy_score, classification_report, confusion_matrix\n",
    "import lightgbm as lgb\n",
    "\n",
    "warnings.filterwarnings('ignore')\n",
    "pd.set_option('display.max_columns', None)\n",
    "plt.rcParams['font.family'] = 'IPAexGothic'\n",
    "sns.set_palette('husl')"
   ]
  },
  {
   "cell_type": "markdown",
   "metadata": {},
   "source": [
    "## データの読み込みと前処理\n",
    "\n",
    "exp001と同じ特徴量エンジニアリングを実行"
   ]
  },
  {
   "cell_type": "code",
   "execution_count": 2,
   "metadata": {},
   "outputs": [
    {
     "name": "stdout",
     "output_type": "stream",
     "text": [
      "訓練データ: (891, 12)\n",
      "テストデータ: (418, 11)\n",
      "全データ: (1309, 12)\n"
     ]
    }
   ],
   "source": [
    "# データの読み込み\n",
    "train_df = pd.read_csv('../../data/train.csv')\n",
    "test_df = pd.read_csv('../../data/test.csv')\n",
    "\n",
    "print(f\"訓練データ: {train_df.shape}\")\n",
    "print(f\"テストデータ: {test_df.shape}\")\n",
    "\n",
    "# 全データを結合（特徴量エンジニアリングのため）\n",
    "all_data = pd.concat([train_df, test_df], sort=False).reset_index(drop=True)\n",
    "print(f\"全データ: {all_data.shape}\")"
   ]
  },
  {
   "cell_type": "code",
   "execution_count": null,
   "metadata": {},
   "outputs": [
    {
     "name": "stdout",
     "output_type": "stream",
     "text": [
      "特徴量エンジニアリング完了\n",
      "全特徴量数: 22\n"
     ]
    }
   ],
   "source": [
    "def feature_engineering(df):\n",
    "    \"\"\"\n",
    "    exp001と同じ特徴量エンジニアリングを実行\n",
    "    \"\"\"\n",
    "    df = df.copy()\n",
    "\n",
    "    # 1. 称号（Title）の抽出\n",
    "    df['Title'] = df['Name'].str.extract(' ([A-Za-z]+)\\.', expand=False)\n",
    "\n",
    "    # 称号のグルーピング\n",
    "    title_mapping = {\n",
    "        'Mr': 'Mr', 'Miss': 'Miss', 'Mrs': 'Mrs', 'Master': 'Master',\n",
    "        'Dr': 'Rare', 'Rev': 'Rare', 'Col': 'Rare', 'Major': 'Rare',\n",
    "        'Mlle': 'Miss', 'Countess': 'Rare', 'Ms': 'Miss', 'Lady': 'Rare',\n",
    "        'Jonkheer': 'Rare', 'Don': 'Rare', 'Dona': 'Rare', 'Mme': 'Mrs',\n",
    "        'Capt': 'Rare', 'Sir': 'Rare'\n",
    "    }\n",
    "    df['Title'] = df['Title'].map(title_mapping)\n",
    "    df['Title'] = df['Title'].fillna('Other')\n",
    "\n",
    "    # 2. 家族サイズ\n",
    "    df['FamilySize'] = df['SibSp'] + df['Parch'] + 1\n",
    "\n",
    "    # 3. 一人旅フラグ\n",
    "    df['IsAlone'] = (df['FamilySize'] == 1).astype(int)\n",
    "\n",
    "    # 4. 家族サイズのカテゴリ化\n",
    "    df['FamilySizeGroup'] = 'Medium'\n",
    "    df.loc[df['FamilySize'] == 1, 'FamilySizeGroup'] = 'Alone'\n",
    "    df.loc[df['FamilySize'] >= 5, 'FamilySizeGroup'] = 'Large'\n",
    "\n",
    "    # 5. 年齢のビニング\n",
    "    # 年齢の欠損値を称号で補完\n",
    "    age_by_title = df.groupby('Title')['Age'].median()\n",
    "    for title in age_by_title.index:\n",
    "        df.loc[(df['Age'].isnull()) & (df['Title'] == title), 'Age'] = age_by_title[title]\n",
    "\n",
    "    # 年齢をカテゴリ化\n",
    "    df['AgeBin'] = pd.cut(df['Age'], bins=[0, 12, 20, 40, 120], labels=['Child', 'Teenager', 'Adult', 'Elder'])\n",
    "\n",
    "    # 6. 運賃のビニング\n",
    "    # 運賃の欠損値をクラスの中央値で補完\n",
    "    df['Fare'] = df['Fare'].fillna(df['Fare'].median())\n",
    "    df['FareBin'] = pd.qcut(df['Fare'], q=4, labels=['Low', 'Medium', 'High', 'VeryHigh'])\n",
    "\n",
    "    # 7. Cabinの有無\n",
    "    df['HasCabin'] = df['Cabin'].notna().astype(int)\n",
    "\n",
    "    # 8. 乗船港の欠損値補完\n",
    "    df['Embarked'] = df['Embarked'].fillna('S')\n",
    "\n",
    "    # 9. 性別×クラスの組み合わせ特徴量\n",
    "    df['Sex_Pclass'] = df['Sex'] + '_' + df['Pclass'].astype(str)\n",
    "\n",
    "    # 10. チケット番号の特徴量（参考程度）\n",
    "    df['TicketPrefix'] = df['Ticket'].str.extract('([A-Za-z]+)', expand=False)\n",
    "    df['TicketPrefix'] = df['TicketPrefix'].fillna('None')\n",
    "    df['HasTicketPrefix'] = (df['TicketPrefix'] != 'None').astype(int)\n",
    "\n",
    "    return df\n",
    "\n",
    "# 特徴量エンジニアリングを実行\n",
    "all_data = feature_engineering(all_data)\n",
    "print(\"特徴量エンジニアリング完了\")\n",
    "print(f\"全特徴量数: {all_data.shape[1]}\")"
   ]
  },
  {
   "cell_type": "code",
   "execution_count": 4,
   "metadata": {},
   "outputs": [
    {
     "name": "stdout",
     "output_type": "stream",
     "text": [
      "ラベルエンコーディング完了\n"
     ]
    }
   ],
   "source": [
    "# カテゴリカル変数をエンコード\n",
    "categorical_features = ['Sex', 'Embarked', 'Title', 'FamilySizeGroup', 'AgeBin', 'FareBin', 'Sex_Pclass', 'TicketPrefix']\n",
    "\n",
    "# Label Encoding\n",
    "label_encoders = {}\n",
    "for feature in categorical_features:\n",
    "    le = LabelEncoder()\n",
    "    all_data[feature] = le.fit_transform(all_data[feature].astype(str))\n",
    "    label_encoders[feature] = le\n",
    "\n",
    "print(\"ラベルエンコーディング完了\")"
   ]
  },
  {
   "cell_type": "markdown",
   "metadata": {},
   "source": [
    "## 特徴量選択\n",
    "\n",
    "exp001の特徴量重要度に基づき、上位7個の特徴量のみを選択\n",
    "\n",
    "### exp001重要度ランキング\n",
    "1. **Sex_Pclass**: 1463 （性別×クラス組み合わせ）\n",
    "2. **Sex**: 878 （性別）\n",
    "3. **Age**: 709 （年齢）\n",
    "4. **Fare**: 536 （運賃）\n",
    "5. **HasCabin**: 162 （客室情報有無）\n",
    "6. **Pclass**: 157 （チケットクラス）\n",
    "7. **Embarked**: 125 （乗船港）\n",
    "\n",
    "### 除外される特徴量（重要度低）\n",
    "- FamilySize: 118\n",
    "- FareBin: 108\n",
    "- Title: 99\n",
    "- その他"
   ]
  },
  {
   "cell_type": "code",
   "execution_count": 5,
   "metadata": {},
   "outputs": [
    {
     "name": "stdout",
     "output_type": "stream",
     "text": [
      "exp001 特徴量数: 16個\n",
      "exp003 選択特徴量数: 7個\n",
      "削減数: 9個\n",
      "\n",
      "=== 選択した特徴量 ===\n",
      "1. Sex_Pclass\n",
      "2. Sex\n",
      "3. Age\n",
      "4. Fare\n",
      "5. HasCabin\n",
      "6. Pclass\n",
      "7. Embarked\n",
      "\n",
      "=== 除外した特徴量 ===\n",
      "- SibSp\n",
      "- Parch\n",
      "- Title\n",
      "- FamilySize\n",
      "- IsAlone\n",
      "- FamilySizeGroup\n",
      "- AgeBin\n",
      "- FareBin\n",
      "- HasTicketPrefix\n"
     ]
    }
   ],
   "source": [
    "# exp001の全特徴量（参考）\n",
    "all_features = [\n",
    "    'Pclass', 'Sex', 'Age', 'SibSp', 'Parch', 'Fare', 'Embarked',\n",
    "    'Title', 'FamilySize', 'IsAlone', 'FamilySizeGroup', 'AgeBin', 'FareBin',\n",
    "    'HasCabin', 'Sex_Pclass', 'HasTicketPrefix'\n",
    "]\n",
    "\n",
    "# exp003で使用する特徴量（重要度上位7個）\n",
    "selected_features = [\n",
    "    'Sex_Pclass',  # 1位: 性別×クラス組み合わせ（最重要）\n",
    "    'Sex',         # 2位: 性別\n",
    "    'Age',         # 3位: 年齢\n",
    "    'Fare',        # 4位: 運賃\n",
    "    'HasCabin',    # 5位: 客室情報有無\n",
    "    'Pclass',      # 6位: チケットクラス\n",
    "    'Embarked'     # 7位: 乗船港\n",
    "]\n",
    "\n",
    "print(f\"exp001 特徴量数: {len(all_features)}個\")\n",
    "print(f\"exp003 選択特徴量数: {len(selected_features)}個\")\n",
    "print(f\"削減数: {len(all_features) - len(selected_features)}個\")\n",
    "\n",
    "print(\"\\n=== 選択した特徴量 ===\")\n",
    "for i, feature in enumerate(selected_features, 1):\n",
    "    print(f\"{i}. {feature}\")\n",
    "\n",
    "excluded_features = [f for f in all_features if f not in selected_features]\n",
    "print(\"\\n=== 除外した特徴量 ===\")\n",
    "for feature in excluded_features:\n",
    "    print(f\"- {feature}\")"
   ]
  },
  {
   "cell_type": "code",
   "execution_count": 6,
   "metadata": {},
   "outputs": [
    {
     "name": "stdout",
     "output_type": "stream",
     "text": [
      "exp001 訓練データ特徴量: (891, 16)\n",
      "exp003 訓練データ特徴量: (891, 7)\n",
      "exp003 テストデータ特徴量: (418, 7)\n"
     ]
    }
   ],
   "source": [
    "# 訓練・テストデータに分割\n",
    "train_data = all_data[:len(train_df)].copy()\n",
    "test_data = all_data[len(train_df):].copy()\n",
    "\n",
    "# exp001（全特徴量）\n",
    "X_all = train_data[all_features]\n",
    "X_test_all = test_data[all_features]\n",
    "\n",
    "# exp003（選択特徴量のみ）\n",
    "X = train_data[selected_features]\n",
    "y = train_data['Survived']\n",
    "X_test = test_data[selected_features]\n",
    "\n",
    "print(f\"exp001 訓練データ特徴量: {X_all.shape}\")\n",
    "print(f\"exp003 訓練データ特徴量: {X.shape}\")\n",
    "print(f\"exp003 テストデータ特徴量: {X_test.shape}\")"
   ]
  },
  {
   "cell_type": "markdown",
   "metadata": {},
   "source": [
    "## モデル訓練と比較\n",
    "\n",
    "exp001のパラメータを使用して、特徴量数の違いによる効果を検証"
   ]
  },
  {
   "cell_type": "code",
   "execution_count": 7,
   "metadata": {},
   "outputs": [
    {
     "name": "stdout",
     "output_type": "stream",
     "text": [
      "exp003 訓練データ: (712, 7)\n",
      "exp003 検証データ: (179, 7)\n",
      "exp001 訓練データ: (712, 16)\n",
      "exp001 検証データ: (179, 16)\n"
     ]
    }
   ],
   "source": [
    "# 訓練・検証データの分割\n",
    "X_train, X_val, y_train, y_val = train_test_split(\n",
    "    X, y, test_size=0.2, random_state=42, stratify=y\n",
    ")\n",
    "\n",
    "# 比較用のexp001データ\n",
    "X_train_all, X_val_all, _, _ = train_test_split(\n",
    "    X_all, y, test_size=0.2, random_state=42, stratify=y\n",
    ")\n",
    "\n",
    "print(f\"exp003 訓練データ: {X_train.shape}\")\n",
    "print(f\"exp003 検証データ: {X_val.shape}\")\n",
    "print(f\"exp001 訓練データ: {X_train_all.shape}\")\n",
    "print(f\"exp001 検証データ: {X_val_all.shape}\")"
   ]
  },
  {
   "cell_type": "code",
   "execution_count": 8,
   "metadata": {},
   "outputs": [
    {
     "name": "stdout",
     "output_type": "stream",
     "text": [
      "=== モデル設定 ===\n",
      "LightGBMパラメータ: exp001と同じ設定を使用\n",
      "変更点: 特徴量数のみ（16個 → 7個）\n"
     ]
    }
   ],
   "source": [
    "# LightGBMパラメータ（exp001と同じ）\n",
    "lgb_params = {\n",
    "    'objective': 'binary',\n",
    "    'metric': 'binary_logloss',\n",
    "    'boosting_type': 'gbdt',\n",
    "    'num_leaves': 31,\n",
    "    'learning_rate': 0.05,\n",
    "    'feature_fraction': 0.9,\n",
    "    'bagging_fraction': 0.8,\n",
    "    'bagging_freq': 5,\n",
    "    'verbose': -1,\n",
    "    'random_state': 42\n",
    "}\n",
    "\n",
    "print(\"=== モデル設定 ===\")\n",
    "print(\"LightGBMパラメータ: exp001と同じ設定を使用\")\n",
    "print(\"変更点: 特徴量数のみ（16個 → 7個）\")"
   ]
  },
  {
   "cell_type": "markdown",
   "metadata": {},
   "source": [
    "### exp001（全特徴量）での結果（参考）"
   ]
  },
  {
   "cell_type": "code",
   "execution_count": 9,
   "metadata": {},
   "outputs": [
    {
     "name": "stdout",
     "output_type": "stream",
     "text": [
      "=== exp001モデル訓練中（参考用） ===\n",
      "Training until validation scores don't improve for 100 rounds\n",
      "[100]\ttrain's binary_logloss: 0.230291\tvalid's binary_logloss: 0.461034\n",
      "Early stopping, best iteration is:\n",
      "[55]\ttrain's binary_logloss: 0.300234\tvalid's binary_logloss: 0.443698\n",
      "exp001（16特徴量）検証精度: 0.8212\n",
      "exp001 最適イテレーション: 55\n"
     ]
    }
   ],
   "source": [
    "print(\"=== exp001モデル訓練中（参考用） ===\")\n",
    "\n",
    "# exp001: 全特徴量でのモデル\n",
    "train_dataset_all = lgb.Dataset(X_train_all, label=y_train)\n",
    "val_dataset_all = lgb.Dataset(X_val_all, label=y_val, reference=train_dataset_all)\n",
    "\n",
    "model_exp001 = lgb.train(\n",
    "    lgb_params,\n",
    "    train_dataset_all,\n",
    "    num_boost_round=1000,\n",
    "    valid_sets=[train_dataset_all, val_dataset_all],\n",
    "    valid_names=['train', 'valid'],\n",
    "    callbacks=[lgb.early_stopping(100), lgb.log_evaluation(100)]\n",
    ")\n",
    "\n",
    "# exp001の検証結果\n",
    "y_pred_exp001 = model_exp001.predict(X_val_all, num_iteration=model_exp001.best_iteration)\n",
    "y_pred_binary_exp001 = (y_pred_exp001 > 0.5).astype(int)\n",
    "val_accuracy_exp001 = accuracy_score(y_val, y_pred_binary_exp001)\n",
    "\n",
    "print(f\"exp001（16特徴量）検証精度: {val_accuracy_exp001:.4f}\")\n",
    "print(f\"exp001 最適イテレーション: {model_exp001.best_iteration}\")"
   ]
  },
  {
   "cell_type": "markdown",
   "metadata": {},
   "source": [
    "### exp003（選択特徴量）での結果"
   ]
  },
  {
   "cell_type": "code",
   "execution_count": 10,
   "metadata": {},
   "outputs": [
    {
     "name": "stdout",
     "output_type": "stream",
     "text": [
      "=== exp003モデル訓練中 ===\n",
      "Training until validation scores don't improve for 100 rounds\n",
      "[100]\ttrain's binary_logloss: 0.257063\tvalid's binary_logloss: 0.487337\n",
      "Early stopping, best iteration is:\n",
      "[54]\ttrain's binary_logloss: 0.322347\tvalid's binary_logloss: 0.468192\n",
      "exp003（7特徴量）検証精度: 0.8156\n",
      "exp003 最適イテレーション: 54\n"
     ]
    }
   ],
   "source": [
    "print(\"=== exp003モデル訓練中 ===\")\n",
    "\n",
    "# exp003: 選択特徴量でのモデル\n",
    "train_dataset = lgb.Dataset(X_train, label=y_train)\n",
    "val_dataset = lgb.Dataset(X_val, label=y_val, reference=train_dataset)\n",
    "\n",
    "model_exp003 = lgb.train(\n",
    "    lgb_params,\n",
    "    train_dataset,\n",
    "    num_boost_round=1000,\n",
    "    valid_sets=[train_dataset, val_dataset],\n",
    "    valid_names=['train', 'valid'],\n",
    "    callbacks=[lgb.early_stopping(100), lgb.log_evaluation(100)]\n",
    ")\n",
    "\n",
    "# exp003の検証結果\n",
    "y_pred_exp003 = model_exp003.predict(X_val, num_iteration=model_exp003.best_iteration)\n",
    "y_pred_binary_exp003 = (y_pred_exp003 > 0.5).astype(int)\n",
    "val_accuracy_exp003 = accuracy_score(y_val, y_pred_binary_exp003)\n",
    "\n",
    "print(f\"exp003（7特徴量）検証精度: {val_accuracy_exp003:.4f}\")\n",
    "print(f\"exp003 最適イテレーション: {model_exp003.best_iteration}\")"
   ]
  },
  {
   "cell_type": "code",
   "execution_count": 11,
   "metadata": {},
   "outputs": [
    {
     "name": "stdout",
     "output_type": "stream",
     "text": [
      "=== 検証結果比較 ===\n",
      "exp001（16特徴量）検証精度: 0.8212\n",
      "exp003（7特徴量） 検証精度: 0.8156\n",
      "精度差: -0.0056\n",
      "\n",
      "特徴量削減効果: 16個 → 7個 (9個削減)\n",
      "❌ 特徴量削減により精度が低下\n"
     ]
    }
   ],
   "source": [
    "# 結果比較\n",
    "print(\"=== 検証結果比較 ===\")\n",
    "print(f\"exp001（16特徴量）検証精度: {val_accuracy_exp001:.4f}\")\n",
    "print(f\"exp003（7特徴量） 検証精度: {val_accuracy_exp003:.4f}\")\n",
    "print(f\"精度差: {val_accuracy_exp003 - val_accuracy_exp001:.4f}\")\n",
    "print(f\"\\n特徴量削減効果: {len(all_features)}個 → {len(selected_features)}個 ({len(all_features) - len(selected_features)}個削減)\")\n",
    "\n",
    "if val_accuracy_exp003 > val_accuracy_exp001:\n",
    "    print(\"✅ 特徴量削減により精度が向上！\")\n",
    "elif abs(val_accuracy_exp003 - val_accuracy_exp001) < 0.001:\n",
    "    print(\"➡️ 精度はほぼ同等（シンプル化の効果あり）\")\n",
    "else:\n",
    "    print(\"❌ 特徴量削減により精度が低下\")"
   ]
  },
  {
   "cell_type": "markdown",
   "metadata": {},
   "source": [
    "## 分類レポート比較"
   ]
  },
  {
   "cell_type": "code",
   "execution_count": 12,
   "metadata": {},
   "outputs": [
    {
     "name": "stdout",
     "output_type": "stream",
     "text": [
      "=== exp001 分類レポート ===\n",
      "              precision    recall  f1-score   support\n",
      "\n",
      "         0.0       0.81      0.92      0.86       110\n",
      "         1.0       0.84      0.67      0.74        69\n",
      "\n",
      "    accuracy                           0.82       179\n",
      "   macro avg       0.83      0.79      0.80       179\n",
      "weighted avg       0.82      0.82      0.82       179\n",
      "\n",
      "=== exp003 分類レポート ===\n",
      "              precision    recall  f1-score   support\n",
      "\n",
      "         0.0       0.81      0.92      0.86       110\n",
      "         1.0       0.83      0.65      0.73        69\n",
      "\n",
      "    accuracy                           0.82       179\n",
      "   macro avg       0.82      0.79      0.80       179\n",
      "weighted avg       0.82      0.82      0.81       179\n",
      "\n"
     ]
    }
   ],
   "source": [
    "print(\"=== exp001 分類レポート ===\")\n",
    "print(classification_report(y_val, y_pred_binary_exp001))\n",
    "\n",
    "print(\"=== exp003 分類レポート ===\")\n",
    "print(classification_report(y_val, y_pred_binary_exp003))"
   ]
  },
  {
   "cell_type": "markdown",
   "metadata": {},
   "source": [
    "## 混同行列比較"
   ]
  },
  {
   "cell_type": "code",
   "execution_count": 13,
   "metadata": {},
   "outputs": [
    {
     "data": {
      "image/png": "[encoded data removed]",
      "text/plain": [
       "<Figure size 1200x400 with 4 Axes>"
      ]
     },
     "metadata": {},
     "output_type": "display_data"
    }
   ],
   "source": [
    "# 混同行列の比較可視化\n",
    "fig, (ax1, ax2) = plt.subplots(1, 2, figsize=(12, 4))\n",
    "\n",
    "# exp001\n",
    "cm_exp001 = confusion_matrix(y_val, y_pred_binary_exp001)\n",
    "sns.heatmap(cm_exp001, annot=True, fmt='d', cmap='Blues', ax=ax1)\n",
    "ax1.set_title(f'exp001 混同行列\\n(16特徴量, 精度: {val_accuracy_exp001:.4f})')\n",
    "ax1.set_ylabel('実際のラベル')\n",
    "ax1.set_xlabel('予測ラベル')\n",
    "\n",
    "# exp003\n",
    "cm_exp003 = confusion_matrix(y_val, y_pred_binary_exp003)\n",
    "sns.heatmap(cm_exp003, annot=True, fmt='d', cmap='Blues', ax=ax2)\n",
    "ax2.set_title(f'exp003 混同行列\\n(7特徴量, 精度: {val_accuracy_exp003:.4f})')\n",
    "ax2.set_ylabel('実際のラベル')\n",
    "ax2.set_xlabel('予測ラベル')\n",
    "\n",
    "plt.tight_layout()\n",
    "plt.show()"
   ]
  },
  {
   "cell_type": "markdown",
   "metadata": {},
   "source": [
    "## 5-fold クロスバリデーション比較"
   ]
  },
  {
   "cell_type": "code",
   "execution_count": null,
   "metadata": {},
   "outputs": [
    {
     "name": "stdout",
     "output_type": "stream",
     "text": [
      "=== exp001 5-fold CV ===\n",
      "Training until validation scores don't improve for 100 rounds\n",
      "Early stopping, best iteration is:\n",
      "[114]\tvalid_0's binary_logloss: 0.369859\n",
      "Fold 1: 0.8603\n",
      "Training until validation scores don't improve for 100 rounds\n",
      "Early stopping, best iteration is:\n",
      "[76]\tvalid_0's binary_logloss: 0.377865\n",
      "Fold 2: 0.8652\n",
      "Training until validation scores don't improve for 100 rounds\n",
      "Early stopping, best iteration is:\n",
      "[64]\tvalid_0's binary_logloss: 0.428052\n",
      "Fold 3: 0.8315\n",
      "Training until validation scores don't improve for 100 rounds\n",
      "Early stopping, best iteration is:\n",
      "[115]\tvalid_0's binary_logloss: 0.398408\n",
      "Fold 4: 0.8371\n",
      "Training until validation scores don't improve for 100 rounds\n",
      "Early stopping, best iteration is:\n",
      "[110]\tvalid_0's binary_logloss: 0.360075\n",
      "Fold 5: 0.8539\n",
      "exp001 CV平均: 0.8496 (+/- 0.0263)\n",
      "=== exp003 5-fold CV ===\n",
      "Training until validation scores don't improve for 100 rounds\n",
      "Early stopping, best iteration is:\n",
      "[118]\tvalid_0's binary_logloss: 0.364234\n",
      "Fold 1: 0.8492\n",
      "Training until validation scores don't improve for 100 rounds\n",
      "Early stopping, best iteration is:\n",
      "[144]\tvalid_0's binary_logloss: 0.376644\n",
      "Fold 2: 0.8539\n",
      "Training until validation scores don't improve for 100 rounds\n",
      "Early stopping, best iteration is:\n",
      "[69]\tvalid_0's binary_logloss: 0.450504\n",
      "Fold 3: 0.7978\n",
      "Training until validation scores don't improve for 100 rounds\n",
      "Early stopping, best iteration is:\n",
      "[92]\tvalid_0's binary_logloss: 0.413795\n",
      "Fold 4: 0.8202\n",
      "Training until validation scores don't improve for 100 rounds\n",
      "Early stopping, best iteration is:\n",
      "[55]\tvalid_0's binary_logloss: 0.391297\n",
      "Fold 5: 0.8371\n",
      "exp003 CV平均: 0.8316 (+/- 0.0411)\n"
     ]
    }
   ],
   "source": [
    "# 5-fold クロスバリデーション\n",
    "kf = StratifiedKFold(n_splits=5, shuffle=True, random_state=42)\n",
    "\n",
    "def cross_validate_model(X_data, model_name, feature_count):\n",
    "    cv_scores = []\n",
    "    print(f\"=== {model_name} 5-fold CV ===\")\n",
    "\n",
    "    for fold, (train_idx, val_idx) in enumerate(kf.split(X_data, y)):\n",
    "        X_train_fold, X_val_fold = X_data.iloc[train_idx], X_data.iloc[val_idx]\n",
    "        y_train_fold, y_val_fold = y.iloc[train_idx], y.iloc[val_idx]\n",
    "\n",
    "        # データセット作成\n",
    "        train_dataset = lgb.Dataset(X_train_fold, label=y_train_fold)\n",
    "        val_dataset = lgb.Dataset(X_val_fold, label=y_val_fold, reference=train_dataset)\n",
    "\n",
    "        # モデル訓練\n",
    "        fold_model = lgb.train(\n",
    "            lgb_params,\n",
    "            train_dataset,\n",
    "            num_boost_round=1000,\n",
    "            valid_sets=[val_dataset],\n",
    "            callbacks=[lgb.early_stopping(100), lgb.log_evaluation(0)]\n",
    "        )\n",
    "\n",
    "        # 予測と評価\n",
    "        y_pred_fold = fold_model.predict(X_val_fold, num_iteration=fold_model.best_iteration)\n",
    "        y_pred_fold_binary = (y_pred_fold > 0.5).astype(int)\n",
    "        fold_score = accuracy_score(y_val_fold, y_pred_fold_binary)\n",
    "        cv_scores.append(fold_score)\n",
    "\n",
    "        print(f\"Fold {fold+1}: {fold_score:.4f}\")\n",
    "\n",
    "    cv_mean = np.mean(cv_scores)\n",
    "    cv_std = np.std(cv_scores)\n",
    "    print(f\"{model_name} CV平均: {cv_mean:.4f} (+/- {cv_std*2:.4f})\")\n",
    "    return cv_mean, cv_std\n",
    "\n",
    "# exp001とexp003のCV比較\n",
    "cv_mean_exp001, cv_std_exp001 = cross_validate_model(X_all, \"exp001\", 16)\n",
    "cv_mean_exp003, cv_std_exp003 = cross_validate_model(X, \"exp003\", 7)"
   ]
  },
  {
   "cell_type": "code",
   "execution_count": 15,
   "metadata": {},
   "outputs": [
    {
     "name": "stdout",
     "output_type": "stream",
     "text": [
      "=== クロスバリデーション結果比較 ===\n",
      "exp001（16特徴量）CV: 0.8496 (+/- 0.0263)\n",
      "exp003（7特徴量） CV: 0.8316 (+/- 0.0411)\n",
      "CV平均差: -0.0180\n",
      "標準偏差変化: 0.0131 → 0.0206 (0.0074)\n",
      "⚠️ モデルの安定性は変わらないか、わずかに悪化\n"
     ]
    }
   ],
   "source": [
    "print(\"=== クロスバリデーション結果比較 ===\")\n",
    "print(f\"exp001（16特徴量）CV: {cv_mean_exp001:.4f} (+/- {cv_std_exp001*2:.4f})\")\n",
    "print(f\"exp003（7特徴量） CV: {cv_mean_exp003:.4f} (+/- {cv_std_exp003*2:.4f})\")\n",
    "print(f\"CV平均差: {cv_mean_exp003 - cv_mean_exp001:.4f}\")\n",
    "print(f\"標準偏差変化: {cv_std_exp001:.4f} → {cv_std_exp003:.4f} ({cv_std_exp003 - cv_std_exp001:.4f})\")\n",
    "\n",
    "# 安定性の評価\n",
    "if cv_std_exp003 < cv_std_exp001:\n",
    "    print(\"✅ モデルがより安定的になりました\")\n",
    "else:\n",
    "    print(\"⚠️ モデルの安定性は変わらないか、わずかに悪化\")"
   ]
  },
  {
   "cell_type": "markdown",
   "metadata": {},
   "source": [
    "## 特徴量重要度分析"
   ]
  },
  {
   "cell_type": "code",
   "execution_count": 16,
   "metadata": {},
   "outputs": [
    {
     "data": {
      "image/png": "[encoded data removed]",
      "text/plain": [
       "<Figure size 1000x600 with 1 Axes>"
      ]
     },
     "metadata": {},
     "output_type": "display_data"
    },
    {
     "name": "stdout",
     "output_type": "stream",
     "text": [
      "=== exp003 特徴量重要度 ===\n",
      "1. Sex_Pclass  :     2202\n",
      "3. Age         :      835\n",
      "4. Fare        :      676\n",
      "2. Sex         :      264\n",
      "7. Embarked    :      145\n",
      "5. HasCabin    :      112\n",
      "6. Pclass      :       75\n"
     ]
    }
   ],
   "source": [
    "# exp003の特徴量重要度\n",
    "importance_exp003 = model_exp003.feature_importance(importance_type='gain')\n",
    "feature_importance_exp003 = pd.DataFrame({\n",
    "    'feature': selected_features,\n",
    "    'importance': importance_exp003\n",
    "}).sort_values('importance', ascending=False)\n",
    "\n",
    "# 特徴量重要度の可視化\n",
    "plt.figure(figsize=(10, 6))\n",
    "sns.barplot(data=feature_importance_exp003, x='importance', y='feature')\n",
    "plt.title('exp003 特徴量重要度（選択した7特徴量）')\n",
    "plt.xlabel('重要度')\n",
    "plt.tight_layout()\n",
    "plt.show()\n",
    "\n",
    "print(\"=== exp003 特徴量重要度 ===\")\n",
    "for i, row in feature_importance_exp003.iterrows():\n",
    "    print(f\"{i+1}. {row['feature']:12s}: {row['importance']:8.0f}\")"
   ]
  },
  {
   "cell_type": "markdown",
   "metadata": {},
   "source": [
    "## テストデータでの予測"
   ]
  },
  {
   "cell_type": "code",
   "execution_count": 17,
   "metadata": {},
   "outputs": [
    {
     "name": "stdout",
     "output_type": "stream",
     "text": [
      "=== exp003最終モデル訓練中 ===\n",
      "exp003 テスト予測完了\n",
      "生存予測数: 137\n",
      "死亡予測数: 281\n",
      "生存率: 0.3278\n"
     ]
    }
   ],
   "source": [
    "# 全訓練データでexp003モデルを再訓練\n",
    "print(\"=== exp003最終モデル訓練中 ===\")\n",
    "full_train_dataset = lgb.Dataset(X, label=y)\n",
    "final_model_exp003 = lgb.train(\n",
    "    lgb_params,\n",
    "    full_train_dataset,\n",
    "    num_boost_round=model_exp003.best_iteration\n",
    ")\n",
    "\n",
    "# テストデータで予測\n",
    "test_predictions_exp003 = final_model_exp003.predict(X_test)\n",
    "test_predictions_binary_exp003 = (test_predictions_exp003 > 0.5).astype(int)\n",
    "\n",
    "print(f\"exp003 テスト予測完了\")\n",
    "print(f\"生存予測数: {test_predictions_binary_exp003.sum()}\")\n",
    "print(f\"死亡予測数: {len(test_predictions_binary_exp003) - test_predictions_binary_exp003.sum()}\")\n",
    "print(f\"生存率: {test_predictions_binary_exp003.mean():.4f}\")"
   ]
  },
  {
   "cell_type": "markdown",
   "metadata": {},
   "source": [
    "## 提出ファイルの作成"
   ]
  },
  {
   "cell_type": "code",
   "execution_count": 18,
   "metadata": {},
   "outputs": [
    {
     "name": "stdout",
     "output_type": "stream",
     "text": [
      "提出ファイルを保存しました: ../../results/exp003/submission.csv\n",
      "\n",
      "提出ファイルの最初の10行:\n",
      "     PassengerId  Survived\n",
      "891          892         0\n",
      "892          893         0\n",
      "893          894         0\n",
      "894          895         0\n",
      "895          896         0\n",
      "896          897         0\n",
      "897          898         1\n",
      "898          899         0\n",
      "899          900         1\n",
      "900          901         0\n"
     ]
    }
   ],
   "source": [
    "# 提出ファイルの作成\n",
    "submission_exp003 = pd.DataFrame({\n",
    "    'PassengerId': test_data['PassengerId'],\n",
    "    'Survived': test_predictions_binary_exp003\n",
    "})\n",
    "\n",
    "# results/exp003ディレクトリを作成\n",
    "import os\n",
    "os.makedirs('../../results/exp003', exist_ok=True)\n",
    "\n",
    "# ファイルを保存\n",
    "submission_exp003.to_csv('../../results/exp003/submission.csv', index=False)\n",
    "print(\"提出ファイルを保存しました: ../../results/exp003/submission.csv\")\n",
    "\n",
    "# 提出ファイルの確認\n",
    "print(\"\\n提出ファイルの最初の10行:\")\n",
    "print(submission_exp003.head(10))"
   ]
  },
  {
   "cell_type": "markdown",
   "metadata": {},
   "source": [
    "## 実験結果まとめ\n",
    "\n",
    "### 特徴量選択の効果\n",
    "\n",
    "#### 変更内容\n",
    "- **特徴量数**: 16個 → 7個（9個削減）\n",
    "- **選択基準**: exp001の特徴量重要度上位7個\n",
    "- **モデルパラメータ**: exp001と同じ設定を維持\n",
    "\n",
    "#### 選択した特徴量\n",
    "1. Sex_Pclass（性別×クラス組み合わせ）\n",
    "2. Sex（性別）\n",
    "3. Age（年齢）\n",
    "4. Fare（運賃）\n",
    "5. HasCabin（客室情報有無）\n",
    "6. Pclass（チケットクラス）\n",
    "7. Embarked（乗船港）\n",
    "\n",
    "#### 除外した特徴量\n",
    "- FamilySize, FareBin, Title, IsAlone, FamilySizeGroup, AgeBin, SibSp, Parch, HasTicketPrefix\n",
    "\n",
    "### 期待される効果\n",
    "- **シンプル化**: ノイズとなる特徴量の除去\n",
    "- **汎化性能向上**: 重要な特徴量に集中\n",
    "- **過学習軽減**: 特徴量数削減による複雑度低下\n",
    "- **解釈しやすさ**: より少ない特徴量での説明\n",
    "\n",
    "### 次のステップ\n",
    "- Kaggleでの実際のスコア確認\n",
    "- CVとKaggleスコアのギャップ縮小効果を検証\n",
    "- 必要に応じてさらなる改善手法の検討"
   ]
  }
 ],
 "metadata": {
  "kernelspec": {
   "display_name": "titanic",
   "language": "python",
   "name": "python3"
  },
  "language_info": {
   "codemirror_mode": {
    "name": "ipython",
    "version": 3
   },
   "file_extension": ".py",
   "mimetype": "text/x-python",
   "name": "python",
   "nbconvert_exporter": "python",
   "pygments_lexer": "ipython3",
   "version": "3.12.11"
  }
 },
 "nbformat": 4,
 "nbformat_minor": 4
}

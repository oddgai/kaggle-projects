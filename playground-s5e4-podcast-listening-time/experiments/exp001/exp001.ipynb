{
 "cells": [
  {
   "cell_type": "markdown",
   "metadata": {},
   "source": [
    "# 実験001: ベースラインモデル\n",
    "\n",
    "Playground Series S5E4: ポッドキャスト聴取時間予測"
   ]
  },
  {
   "cell_type": "markdown",
   "metadata": {},
   "source": [
    "## 1. ライブラリのインポート"
   ]
  },
  {
   "cell_type": "code",
   "execution_count": 1,
   "metadata": {
    "execution": {
     "iopub.execute_input": "2025-09-02T08:02:42.438339Z",
     "iopub.status.busy": "2025-09-02T08:02:42.438159Z",
     "iopub.status.idle": "2025-09-02T08:02:43.532798Z",
     "shell.execute_reply": "2025-09-02T08:02:43.532369Z"
    }
   },
   "outputs": [],
   "source": [
    "import pandas as pd\n",
    "import numpy as np\n",
    "import matplotlib.pyplot as plt\n",
    "import seaborn as sns\n",
    "from pathlib import Path\n",
    "import warnings\n",
    "\n",
    "from sklearn.model_selection import train_test_split, KFold, cross_val_score\n",
    "from sklearn.preprocessing import LabelEncoder, StandardScaler\n",
    "from sklearn.ensemble import RandomForestRegressor\n",
    "from sklearn.metrics import mean_squared_error, mean_absolute_error, r2_score\n",
    "from sklearn.impute import SimpleImputer\n",
    "import lightgbm as lgb\n",
    "\n",
    "warnings.filterwarnings('ignore')\n",
    "\n",
    "# 表示設定\n",
    "pd.set_option('display.max_columns', None)\n",
    "pd.set_option('display.max_rows', 100)\n",
    "\n",
    "# スタイル設定\n",
    "sns.set_style('whitegrid')\n",
    "plt.style.use('default')\n",
    "\n",
    "# シード値の設定\n",
    "np.random.seed(42)"
   ]
  },
  {
   "cell_type": "markdown",
   "metadata": {},
   "source": [
    "## 2. データの読み込み"
   ]
  },
  {
   "cell_type": "code",
   "execution_count": 2,
   "metadata": {
    "execution": {
     "iopub.execute_input": "2025-09-02T08:02:43.534554Z",
     "iopub.status.busy": "2025-09-02T08:02:43.534396Z",
     "iopub.status.idle": "2025-09-02T08:02:43.947227Z",
     "shell.execute_reply": "2025-09-02T08:02:43.946968Z"
    }
   },
   "outputs": [
    {
     "name": "stdout",
     "output_type": "stream",
     "text": [
      "訓練データ: (750000, 12)\n",
      "テストデータ: (250000, 11)\n",
      "提出サンプル: (250000, 2)\n",
      "\n",
      "目標変数: Listening_Time_minutes\n",
      "目標変数の統計: count    750000.000000\n",
      "mean         45.437406\n",
      "std          27.138306\n",
      "min           0.000000\n",
      "25%          23.178350\n",
      "50%          43.379460\n",
      "75%          64.811580\n",
      "max         119.970000\n",
      "Name: Listening_Time_minutes, dtype: float64\n"
     ]
    }
   ],
   "source": [
    "# データパスの設定\n",
    "data_dir = Path('../../data')\n",
    "\n",
    "# データの読み込み\n",
    "train_df = pd.read_csv(data_dir / 'train.csv')\n",
    "test_df = pd.read_csv(data_dir / 'test.csv')\n",
    "sample_submission = pd.read_csv(data_dir / 'sample_submission.csv')\n",
    "\n",
    "print(f\"訓練データ: {train_df.shape}\")\n",
    "print(f\"テストデータ: {test_df.shape}\")\n",
    "print(f\"提出サンプル: {sample_submission.shape}\")\n",
    "\n",
    "# 目標変数の確認\n",
    "target_col = 'Listening_Time_minutes'\n",
    "print(f\"\\n目標変数: {target_col}\")\n",
    "print(f\"目標変数の統計: {train_df[target_col].describe()}\")"
   ]
  },
  {
   "cell_type": "markdown",
   "metadata": {},
   "source": [
    "## 3. 特徴量エンジニアリング"
   ]
  },
  {
   "cell_type": "code",
   "execution_count": 3,
   "metadata": {
    "execution": {
     "iopub.execute_input": "2025-09-02T08:02:43.960785Z",
     "iopub.status.busy": "2025-09-02T08:02:43.960690Z",
     "iopub.status.idle": "2025-09-02T08:02:44.492884Z",
     "shell.execute_reply": "2025-09-02T08:02:44.492649Z"
    }
   },
   "outputs": [
    {
     "name": "stdout",
     "output_type": "stream",
     "text": [
      "=== 訓練データの前処理 ===\n",
      "カテゴリカル変数: 6個\n",
      "数値変数: 4個\n",
      "Episode_Length_minutesの欠損値を中央値63.84で補完\n",
      "Guest_Popularity_percentageの欠損値を中央値53.58で補完\n",
      "Number_of_Adsの欠損値を中央値1.00で補完\n",
      "Podcast_Nameをラベルエンコーディング: 48カテゴリ\n"
     ]
    },
    {
     "name": "stdout",
     "output_type": "stream",
     "text": [
      "Episode_Titleをラベルエンコーディング: 100カテゴリ\n"
     ]
    },
    {
     "name": "stdout",
     "output_type": "stream",
     "text": [
      "Genreをラベルエンコーディング: 10カテゴリ\n",
      "Publication_Dayをラベルエンコーディング: 7カテゴリ\n",
      "Publication_Timeをラベルエンコーディング: 4カテゴリ\n"
     ]
    },
    {
     "name": "stdout",
     "output_type": "stream",
     "text": [
      "Episode_Sentimentをラベルエンコーディング: 3カテゴリ\n",
      "\n",
      "=== テストデータの前処理 ===\n",
      "カテゴリカル変数: 6個\n",
      "数値変数: 4個\n",
      "Episode_Length_minutesの欠損値を中央値63.97で補完\n",
      "Guest_Popularity_percentageの欠損値を中央値53.36で補完\n",
      "Podcast_Nameをラベルエンコーディング: 48カテゴリ\n"
     ]
    },
    {
     "name": "stdout",
     "output_type": "stream",
     "text": [
      "Episode_Titleをラベルエンコーディング: 100カテゴリ\n",
      "Genreをラベルエンコーディング: 10カテゴリ\n",
      "Publication_Dayをラベルエンコーディング: 7カテゴリ\n",
      "Publication_Timeをラベルエンコーディング: 4カテゴリ\n",
      "Episode_Sentimentをラベルエンコーディング: 3カテゴリ\n",
      "\n",
      "処理後の訓練データ形状: (750000, 13)\n",
      "処理後のテストデータ形状: (250000, 13)\n",
      "特徴量一覧: ['Podcast_Name', 'Episode_Title', 'Episode_Length_minutes', 'Genre', 'Host_Popularity_percentage', 'Publication_Day', 'Publication_Time', 'Guest_Popularity_percentage', 'Number_of_Ads', 'Episode_Sentiment', 'Ad_Density', 'Host_Guest_Popularity_Diff', 'Has_Guest']\n"
     ]
    }
   ],
   "source": [
    "def preprocess_data(df, is_train=True, target_col='Listening_Time_minutes'):\n",
    "    \"\"\"\n",
    "    データの前処理を行う関数\n",
    "    \"\"\"\n",
    "    # データのコピー\n",
    "    df_processed = df.copy()\n",
    "    \n",
    "    # IDカラムを保存\n",
    "    if 'id' in df_processed.columns:\n",
    "        ids = df_processed['id']\n",
    "        df_processed = df_processed.drop('id', axis=1)\n",
    "    \n",
    "    # 目標変数の分離（訓練データの場合）\n",
    "    if is_train and target_col in df_processed.columns:\n",
    "        y = df_processed[target_col]\n",
    "        df_processed = df_processed.drop(target_col, axis=1)\n",
    "    else:\n",
    "        y = None\n",
    "    \n",
    "    # カテゴリカル変数と数値変数を分離\n",
    "    categorical_cols = df_processed.select_dtypes(include=['object']).columns.tolist()\n",
    "    numerical_cols = df_processed.select_dtypes(include=['int64', 'float64']).columns.tolist()\n",
    "    \n",
    "    print(f\"カテゴリカル変数: {len(categorical_cols)}個\")\n",
    "    print(f\"数値変数: {len(numerical_cols)}個\")\n",
    "    \n",
    "    # 数値変数の欠損値補完\n",
    "    for col in numerical_cols:\n",
    "        if df_processed[col].isnull().sum() > 0:\n",
    "            median_value = df_processed[col].median()\n",
    "            df_processed[col] = df_processed[col].fillna(median_value)\n",
    "            print(f\"{col}の欠損値を中央値{median_value:.2f}で補完\")\n",
    "    \n",
    "    # 新規特徴量の作成\n",
    "    # 1. 広告密度（広告数/エピソード長）\n",
    "    df_processed['Ad_Density'] = df_processed['Number_of_Ads'] / (df_processed['Episode_Length_minutes'] + 1e-8)\n",
    "    \n",
    "    # 2. ホストとゲストの人気度の差\n",
    "    df_processed['Host_Guest_Popularity_Diff'] = (df_processed['Host_Popularity_percentage'] - \n",
    "                                                   df_processed['Guest_Popularity_percentage'].fillna(0))\n",
    "    \n",
    "    # 3. ゲストの存在フラグ\n",
    "    df_processed['Has_Guest'] = (~df_processed['Guest_Popularity_percentage'].isnull()).astype(int)\n",
    "    \n",
    "    # Guest_Popularity_percentageの欠損値を0で補完\n",
    "    df_processed['Guest_Popularity_percentage'] = df_processed['Guest_Popularity_percentage'].fillna(0)\n",
    "    \n",
    "    # カテゴリカル変数のエンコーディング\n",
    "    le_dict = {}\n",
    "    for col in categorical_cols:\n",
    "        le = LabelEncoder()\n",
    "        # 欠損値がある場合は'Missing'で埋める\n",
    "        df_processed[col] = df_processed[col].fillna('Missing')\n",
    "        df_processed[col] = le.fit_transform(df_processed[col])\n",
    "        le_dict[col] = le\n",
    "        print(f\"{col}をラベルエンコーディング: {len(le.classes_)}カテゴリ\")\n",
    "    \n",
    "    return df_processed, y, ids if 'ids' in locals() else None, le_dict\n",
    "\n",
    "# データの前処理実行\n",
    "print(\"=== 訓練データの前処理 ===\")\n",
    "X_train_processed, y_train, train_ids, le_dict_train = preprocess_data(train_df, is_train=True)\n",
    "\n",
    "print(\"\\n=== テストデータの前処理 ===\")\n",
    "X_test_processed, _, test_ids, _ = preprocess_data(test_df, is_train=False)\n",
    "\n",
    "print(f\"\\n処理後の訓練データ形状: {X_train_processed.shape}\")\n",
    "print(f\"処理後のテストデータ形状: {X_test_processed.shape}\")\n",
    "print(f\"特徴量一覧: {X_train_processed.columns.tolist()}\")"
   ]
  },
  {
   "cell_type": "markdown",
   "metadata": {},
   "source": [
    "## 4. モデルの訓練と検証"
   ]
  },
  {
   "cell_type": "code",
   "execution_count": 4,
   "metadata": {
    "execution": {
     "iopub.execute_input": "2025-09-02T08:02:44.494079Z",
     "iopub.status.busy": "2025-09-02T08:02:44.494012Z",
     "iopub.status.idle": "2025-09-02T08:02:44.537241Z",
     "shell.execute_reply": "2025-09-02T08:02:44.537012Z"
    }
   },
   "outputs": [
    {
     "name": "stdout",
     "output_type": "stream",
     "text": [
      "訓練データ: (600000, 13)\n",
      "検証データ: (150000, 13)\n"
     ]
    }
   ],
   "source": [
    "# 訓練・検証データの分割\n",
    "X_train, X_val, y_train_split, y_val = train_test_split(\n",
    "    X_train_processed, y_train, \n",
    "    test_size=0.2, \n",
    "    random_state=42\n",
    ")\n",
    "\n",
    "print(f\"訓練データ: {X_train.shape}\")\n",
    "print(f\"検証データ: {X_val.shape}\")"
   ]
  },
  {
   "cell_type": "code",
   "execution_count": 5,
   "metadata": {
    "execution": {
     "iopub.execute_input": "2025-09-02T08:02:44.538248Z",
     "iopub.status.busy": "2025-09-02T08:02:44.538188Z",
     "iopub.status.idle": "2025-09-02T08:02:53.687408Z",
     "shell.execute_reply": "2025-09-02T08:02:53.687170Z"
    }
   },
   "outputs": [
    {
     "name": "stdout",
     "output_type": "stream",
     "text": [
      "=== LightGBMモデルの訓練 ===\n"
     ]
    },
    {
     "name": "stdout",
     "output_type": "stream",
     "text": [
      "Training until validation scores don't improve for 100 rounds\n"
     ]
    },
    {
     "name": "stdout",
     "output_type": "stream",
     "text": [
      "[100]\ttrain's rmse: 13.1202\tvalid's rmse: 13.1065\n"
     ]
    },
    {
     "name": "stdout",
     "output_type": "stream",
     "text": [
      "[200]\ttrain's rmse: 13.0334\tvalid's rmse: 13.066\n"
     ]
    },
    {
     "name": "stdout",
     "output_type": "stream",
     "text": [
      "[300]\ttrain's rmse: 12.9714\tvalid's rmse: 13.0454\n"
     ]
    },
    {
     "name": "stdout",
     "output_type": "stream",
     "text": [
      "[400]\ttrain's rmse: 12.9199\tvalid's rmse: 13.0295\n"
     ]
    },
    {
     "name": "stdout",
     "output_type": "stream",
     "text": [
      "[500]\ttrain's rmse: 12.871\tvalid's rmse: 13.0159\n"
     ]
    },
    {
     "name": "stdout",
     "output_type": "stream",
     "text": [
      "[600]\ttrain's rmse: 12.8254\tvalid's rmse: 13.0055\n"
     ]
    },
    {
     "name": "stdout",
     "output_type": "stream",
     "text": [
      "[700]\ttrain's rmse: 12.7866\tvalid's rmse: 12.9969\n"
     ]
    },
    {
     "name": "stdout",
     "output_type": "stream",
     "text": [
      "[800]\ttrain's rmse: 12.746\tvalid's rmse: 12.9876\n"
     ]
    },
    {
     "name": "stdout",
     "output_type": "stream",
     "text": [
      "[900]\ttrain's rmse: 12.7059\tvalid's rmse: 12.9807\n"
     ]
    },
    {
     "name": "stdout",
     "output_type": "stream",
     "text": [
      "[1000]\ttrain's rmse: 12.6652\tvalid's rmse: 12.9741\n",
      "Did not meet early stopping. Best iteration is:\n",
      "[1000]\ttrain's rmse: 12.6652\tvalid's rmse: 12.9741\n"
     ]
    }
   ],
   "source": [
    "# LightGBMモデルの訓練\n",
    "print(\"=== LightGBMモデルの訓練 ===\")\n",
    "\n",
    "# パラメータ設定\n",
    "lgb_params = {\n",
    "    'objective': 'regression',\n",
    "    'metric': 'rmse',\n",
    "    'boosting_type': 'gbdt',\n",
    "    'num_leaves': 31,\n",
    "    'learning_rate': 0.05,\n",
    "    'feature_fraction': 0.9,\n",
    "    'bagging_fraction': 0.8,\n",
    "    'bagging_freq': 5,\n",
    "    'verbose': -1,\n",
    "    'random_state': 42\n",
    "}\n",
    "\n",
    "# データセットの作成\n",
    "train_data = lgb.Dataset(X_train, label=y_train_split)\n",
    "val_data = lgb.Dataset(X_val, label=y_val)\n",
    "\n",
    "# モデル訓練\n",
    "lgb_model = lgb.train(\n",
    "    lgb_params,\n",
    "    train_data,\n",
    "    valid_sets=[train_data, val_data],\n",
    "    valid_names=['train', 'valid'],\n",
    "    num_boost_round=1000,\n",
    "    callbacks=[lgb.early_stopping(stopping_rounds=100), lgb.log_evaluation(period=100)]\n",
    ")"
   ]
  },
  {
   "cell_type": "markdown",
   "metadata": {},
   "source": [
    "## 5. モデル評価"
   ]
  },
  {
   "cell_type": "code",
   "execution_count": 6,
   "metadata": {
    "execution": {
     "iopub.execute_input": "2025-09-02T08:02:53.688551Z",
     "iopub.status.busy": "2025-09-02T08:02:53.688482Z",
     "iopub.status.idle": "2025-09-02T08:02:55.378276Z",
     "shell.execute_reply": "2025-09-02T08:02:55.378027Z"
    }
   },
   "outputs": [
    {
     "name": "stdout",
     "output_type": "stream",
     "text": [
      "\n",
      "=== 訓練データの評価結果 ===\n",
      "RMSE: 12.6652\n",
      "MAE: 9.2910\n",
      "R²: 0.7822\n",
      "\n",
      "=== 検証データの評価結果 ===\n",
      "RMSE: 12.9741\n",
      "MAE: 9.4493\n",
      "R²: 0.7712\n"
     ]
    }
   ],
   "source": [
    "# 予測\n",
    "y_train_pred = lgb_model.predict(X_train, num_iteration=lgb_model.best_iteration)\n",
    "y_val_pred = lgb_model.predict(X_val, num_iteration=lgb_model.best_iteration)\n",
    "\n",
    "# 評価指標の計算\n",
    "def calculate_metrics(y_true, y_pred, dataset_name):\n",
    "    rmse = np.sqrt(mean_squared_error(y_true, y_pred))\n",
    "    mae = mean_absolute_error(y_true, y_pred)\n",
    "    r2 = r2_score(y_true, y_pred)\n",
    "    \n",
    "    print(f\"\\n=== {dataset_name}の評価結果 ===\")\n",
    "    print(f\"RMSE: {rmse:.4f}\")\n",
    "    print(f\"MAE: {mae:.4f}\")\n",
    "    print(f\"R²: {r2:.4f}\")\n",
    "    \n",
    "    return rmse, mae, r2\n",
    "\n",
    "# 訓練データでの評価\n",
    "train_rmse, train_mae, train_r2 = calculate_metrics(y_train_split, y_train_pred, \"訓練データ\")\n",
    "\n",
    "# 検証データでの評価\n",
    "val_rmse, val_mae, val_r2 = calculate_metrics(y_val, y_val_pred, \"検証データ\")"
   ]
  },
  {
   "cell_type": "markdown",
   "metadata": {},
   "source": [
    "## 6. Cross Validation"
   ]
  },
  {
   "cell_type": "code",
   "execution_count": 7,
   "metadata": {
    "execution": {
     "iopub.execute_input": "2025-09-02T08:02:55.379452Z",
     "iopub.status.busy": "2025-09-02T08:02:55.379373Z",
     "iopub.status.idle": "2025-09-02T08:03:42.748636Z",
     "shell.execute_reply": "2025-09-02T08:03:42.748368Z"
    }
   },
   "outputs": [
    {
     "name": "stdout",
     "output_type": "stream",
     "text": [
      "=== 5-Fold Cross Validation ===\n",
      "\n",
      "Fold 1/5\n",
      "Training until validation scores don't improve for 100 rounds\n"
     ]
    },
    {
     "name": "stdout",
     "output_type": "stream",
     "text": [
      "Did not meet early stopping. Best iteration is:\n",
      "[1000]\ttrain's rmse: 12.6755\tvalid's rmse: 12.9762\n"
     ]
    },
    {
     "name": "stdout",
     "output_type": "stream",
     "text": [
      "Fold 1 RMSE: 12.9762\n",
      "\n",
      "Fold 2/5\n",
      "Training until validation scores don't improve for 100 rounds\n"
     ]
    },
    {
     "name": "stdout",
     "output_type": "stream",
     "text": [
      "Did not meet early stopping. Best iteration is:\n",
      "[997]\ttrain's rmse: 12.6601\tvalid's rmse: 13.0254\n"
     ]
    },
    {
     "name": "stdout",
     "output_type": "stream",
     "text": [
      "Fold 2 RMSE: 13.0254\n",
      "\n",
      "Fold 3/5\n",
      "Training until validation scores don't improve for 100 rounds\n"
     ]
    },
    {
     "name": "stdout",
     "output_type": "stream",
     "text": [
      "Did not meet early stopping. Best iteration is:\n",
      "[1000]\ttrain's rmse: 12.6705\tvalid's rmse: 13.0208\n"
     ]
    },
    {
     "name": "stdout",
     "output_type": "stream",
     "text": [
      "Fold 3 RMSE: 13.0208\n",
      "\n",
      "Fold 4/5\n",
      "Training until validation scores don't improve for 100 rounds\n"
     ]
    },
    {
     "name": "stdout",
     "output_type": "stream",
     "text": [
      "Did not meet early stopping. Best iteration is:\n",
      "[1000]\ttrain's rmse: 12.6744\tvalid's rmse: 13.0126\n"
     ]
    },
    {
     "name": "stdout",
     "output_type": "stream",
     "text": [
      "Fold 4 RMSE: 13.0126\n",
      "\n",
      "Fold 5/5\n",
      "Training until validation scores don't improve for 100 rounds\n"
     ]
    },
    {
     "name": "stdout",
     "output_type": "stream",
     "text": [
      "Did not meet early stopping. Best iteration is:\n",
      "[1000]\ttrain's rmse: 12.68\tvalid's rmse: 12.9766\n"
     ]
    },
    {
     "name": "stdout",
     "output_type": "stream",
     "text": [
      "Fold 5 RMSE: 12.9766\n",
      "\n",
      "=== Cross Validation結果 ===\n",
      "平均RMSE: 13.0023 ± 0.0216\n",
      "各FoldのRMSE: ['12.9762', '13.0254', '13.0208', '13.0126', '12.9766']\n"
     ]
    }
   ],
   "source": [
    "# 5-fold Cross Validation\n",
    "print(\"=== 5-Fold Cross Validation ===\")\n",
    "\n",
    "kfold = KFold(n_splits=5, shuffle=True, random_state=42)\n",
    "cv_scores = []\n",
    "\n",
    "for fold, (train_idx, val_idx) in enumerate(kfold.split(X_train_processed)):\n",
    "    print(f\"\\nFold {fold + 1}/5\")\n",
    "    \n",
    "    # データ分割\n",
    "    X_fold_train, X_fold_val = X_train_processed.iloc[train_idx], X_train_processed.iloc[val_idx]\n",
    "    y_fold_train, y_fold_val = y_train.iloc[train_idx], y_train.iloc[val_idx]\n",
    "    \n",
    "    # データセット作成\n",
    "    fold_train_data = lgb.Dataset(X_fold_train, label=y_fold_train)\n",
    "    fold_val_data = lgb.Dataset(X_fold_val, label=y_fold_val)\n",
    "    \n",
    "    # モデル訓練\n",
    "    fold_model = lgb.train(\n",
    "        lgb_params,\n",
    "        fold_train_data,\n",
    "        valid_sets=[fold_train_data, fold_val_data],\n",
    "        valid_names=['train', 'valid'],\n",
    "        num_boost_round=1000,\n",
    "        callbacks=[lgb.early_stopping(stopping_rounds=100), lgb.log_evaluation(period=0)]\n",
    "    )\n",
    "    \n",
    "    # 予測と評価\n",
    "    fold_pred = fold_model.predict(X_fold_val, num_iteration=fold_model.best_iteration)\n",
    "    fold_rmse = np.sqrt(mean_squared_error(y_fold_val, fold_pred))\n",
    "    cv_scores.append(fold_rmse)\n",
    "    \n",
    "    print(f\"Fold {fold + 1} RMSE: {fold_rmse:.4f}\")\n",
    "\n",
    "print(f\"\\n=== Cross Validation結果 ===\")\n",
    "print(f\"平均RMSE: {np.mean(cv_scores):.4f} ± {np.std(cv_scores):.4f}\")\n",
    "print(f\"各FoldのRMSE: {[f'{score:.4f}' for score in cv_scores]}\")"
   ]
  },
  {
   "cell_type": "markdown",
   "metadata": {},
   "source": [
    "## 7. 特徴量重要度の確認"
   ]
  },
  {
   "cell_type": "code",
   "execution_count": 8,
   "metadata": {
    "execution": {
     "iopub.execute_input": "2025-09-02T08:03:42.749795Z",
     "iopub.status.busy": "2025-09-02T08:03:42.749707Z",
     "iopub.status.idle": "2025-09-02T08:03:42.822250Z",
     "shell.execute_reply": "2025-09-02T08:03:42.821974Z"
    }
   },
   "outputs": [
    {
     "name": "stdout",
     "output_type": "stream",
     "text": [
      "=== 特徴量重要度 Top 10 ===\n",
      "                        feature    importance\n",
      "2        Episode_Length_minutes  2.569072e+09\n",
      "10                   Ad_Density  1.598286e+08\n",
      "8                 Number_of_Ads  4.621880e+07\n",
      "4    Host_Popularity_percentage  2.216789e+07\n",
      "7   Guest_Popularity_percentage  1.193137e+07\n",
      "1                 Episode_Title  1.108942e+07\n",
      "11   Host_Guest_Popularity_Diff  7.786250e+06\n",
      "0                  Podcast_Name  6.837561e+06\n",
      "5               Publication_Day  4.543570e+06\n",
      "3                         Genre  4.136674e+06\n"
     ]
    },
    {
     "data": {
      "image/png": "[encoded data removed]",
      "text/plain": [
       "<Figure size 1000x600 with 1 Axes>"
      ]
     },
     "metadata": {},
     "output_type": "display_data"
    }
   ],
   "source": [
    "# 特徴量重要度の可視化\n",
    "feature_importance = lgb_model.feature_importance(importance_type='gain')\n",
    "feature_names = X_train_processed.columns\n",
    "\n",
    "# 重要度をDataFrameにまとめる\n",
    "importance_df = pd.DataFrame({\n",
    "    'feature': feature_names,\n",
    "    'importance': feature_importance\n",
    "}).sort_values('importance', ascending=False)\n",
    "\n",
    "print(\"=== 特徴量重要度 Top 10 ===\")\n",
    "print(importance_df.head(10))\n",
    "\n",
    "# 可視化\n",
    "plt.figure(figsize=(10, 6))\n",
    "top_features = importance_df.head(15)\n",
    "sns.barplot(data=top_features, x='importance', y='feature')\n",
    "plt.title('特徴量重要度 Top 15')\n",
    "plt.xlabel('重要度')\n",
    "plt.tight_layout()\n",
    "plt.show()"
   ]
  },
  {
   "cell_type": "markdown",
   "metadata": {},
   "source": [
    "## 8. 予測と提出ファイルの作成"
   ]
  },
  {
   "cell_type": "code",
   "execution_count": 9,
   "metadata": {
    "execution": {
     "iopub.execute_input": "2025-09-02T08:03:42.823670Z",
     "iopub.status.busy": "2025-09-02T08:03:42.823579Z",
     "iopub.status.idle": "2025-09-02T08:03:43.590983Z",
     "shell.execute_reply": "2025-09-02T08:03:43.590736Z"
    }
   },
   "outputs": [
    {
     "name": "stdout",
     "output_type": "stream",
     "text": [
      "=== 提出ファイルの統計 ===\n",
      "count    250000.000000\n",
      "mean         45.626512\n",
      "std          23.723513\n",
      "min           0.370397\n",
      "25%          26.889668\n",
      "50%          44.968778\n",
      "75%          64.991990\n",
      "max         116.194206\n",
      "Name: Listening_Time_minutes, dtype: float64\n",
      "\n",
      "提出ファイルを保存: ../../results/exp001/submission.csv\n",
      "\n",
      "=== フォーマット確認 ===\n",
      "サンプル提出ファイル形状: (250000, 2)\n",
      "作成した提出ファイル形状: (250000, 2)\n",
      "カラム名一致: True\n"
     ]
    }
   ],
   "source": [
    "# テストデータでの予測\n",
    "test_predictions = lgb_model.predict(X_test_processed, num_iteration=lgb_model.best_iteration)\n",
    "\n",
    "# 提出ファイルの作成\n",
    "submission_df = pd.DataFrame({\n",
    "    'id': test_ids,\n",
    "    target_col: test_predictions\n",
    "})\n",
    "\n",
    "print(\"=== 提出ファイルの統計 ===\")\n",
    "print(submission_df[target_col].describe())\n",
    "\n",
    "# ファイル保存\n",
    "results_dir = Path('../../results/exp001')\n",
    "results_dir.mkdir(parents=True, exist_ok=True)\n",
    "\n",
    "submission_path = results_dir / 'submission.csv'\n",
    "submission_df.to_csv(submission_path, index=False)\n",
    "print(f\"\\n提出ファイルを保存: {submission_path}\")\n",
    "\n",
    "# サンプル提出ファイルとの形式確認\n",
    "print(f\"\\n=== フォーマット確認 ===\")\n",
    "print(f\"サンプル提出ファイル形状: {sample_submission.shape}\")\n",
    "print(f\"作成した提出ファイル形状: {submission_df.shape}\")\n",
    "print(f\"カラム名一致: {list(sample_submission.columns) == list(submission_df.columns)}\")"
   ]
  },
  {
   "cell_type": "markdown",
   "metadata": {},
   "source": [
    "## 9. 結果の保存"
   ]
  },
  {
   "cell_type": "code",
   "execution_count": null,
   "metadata": {
    "execution": {
     "iopub.execute_input": "2025-09-02T08:03:43.592132Z",
     "iopub.status.busy": "2025-09-02T08:03:43.592073Z",
     "iopub.status.idle": "2025-09-02T08:03:43.605171Z",
     "shell.execute_reply": "2025-09-02T08:03:43.604936Z"
    }
   },
   "outputs": [],
   "source": "# モデルの保存\nimport pickle\nimport json\n\nmodel_path = results_dir / 'model.pkl'\nwith open(model_path, 'wb') as f:\n    pickle.dump(lgb_model, f)\nprint(f\"モデルを保存: {model_path}\")\n\n# 実験結果の記録（MLflow用に詳細データを追加）\nexperiment_results = {\n    'experiment_id': 'exp001',\n    'model_type': 'LightGBM',\n    'model_params': lgb_params,\n    \n    # 特徴量情報\n    'features': list(X_train_processed.columns),\n    'num_features': len(X_train_processed.columns),\n    'new_features': ['Ad_Density', 'Host_Guest_Popularity_Diff', 'Has_Guest'],\n    \n    # 評価指標\n    'train_rmse': float(train_rmse),\n    'train_mae': float(train_mae),\n    'train_r2': float(train_r2),\n    'val_rmse': float(val_rmse),\n    'val_mae': float(val_mae),\n    'val_r2': float(val_r2),\n    \n    # Cross Validation結果\n    'cv_scores': [float(score) for score in cv_scores],\n    'cv_rmse_mean': float(np.mean(cv_scores)),\n    'cv_rmse_std': float(np.std(cv_scores)),\n    \n    # 特徴量重要度\n    'feature_importance': {\n        row['feature']: int(row['importance']) \n        for _, row in importance_df.iterrows()\n    },\n    \n    # Kaggleスコア（手動で設定）\n    'public_score': 13.13295,\n    'private_score': 13.02087,\n    \n    # データ情報\n    'train_size': len(X_train_processed),\n    'test_size': len(X_test_processed),\n    'target_variable': target_col,\n    \n    # 実験設定\n    'cv_folds': 5,\n    'validation_split': 0.2,\n    'random_state': 42,\n    'preprocessing': {\n        'missing_value_strategy': 'median_imputation',\n        'categorical_encoding': 'label_encoding',\n        'feature_engineering': 'label_encoding,missing_value_imputation,new_features'\n    }\n}\n\n# 実験結果をJSONファイルに保存\nresults_json_path = results_dir / 'experiment_results.json'\nwith open(results_json_path, 'w', encoding='utf-8') as f:\n    json.dump(experiment_results, f, indent=2, ensure_ascii=False)\nprint(f\"実験結果を保存: {results_json_path}\")\n\nprint(\"\\n=== 実験結果サマリー ===\")\nprint(f\"モデル: {experiment_results['model_type']}\")\nprint(f\"特徴量数: {len(experiment_results['features'])}個\")\nprint(f\"検証RMSE: {experiment_results['val_rmse']:.4f}\")\nprint(f\"CV平均RMSE: {experiment_results['cv_rmse_mean']:.4f} ± {experiment_results['cv_rmse_std']:.4f}\")\nprint(f\"\\n重要な特徴量トップ5:\")\nfor i, (feature, importance) in enumerate(list(experiment_results['feature_importance'].items())[:5]):\n    print(f\"  {i+1}. {feature}: {importance:,}\")"
  }
 ],
 "metadata": {
  "kernelspec": {
   "display_name": "Python 3",
   "language": "python",
   "name": "python3"
  },
  "language_info": {
   "codemirror_mode": {
    "name": "ipython",
    "version": 3
   },
   "file_extension": ".py",
   "mimetype": "text/x-python",
   "name": "python",
   "nbconvert_exporter": "python",
   "pygments_lexer": "ipython3",
   "version": "3.12.11"
  }
 },
 "nbformat": 4,
 "nbformat_minor": 4
}